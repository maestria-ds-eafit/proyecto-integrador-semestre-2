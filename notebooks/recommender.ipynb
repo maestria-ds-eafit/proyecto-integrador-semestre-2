{
 "cells": [
  {
   "cell_type": "code",
   "execution_count": 31,
   "metadata": {},
   "outputs": [],
   "source": [
    "from pyspark.ml.evaluation import RegressionEvaluator\n",
    "from pyspark.ml.feature import StringIndexer\n",
    "from pyspark.ml.recommendation import ALS\n",
    "from pyspark.sql import SparkSession\n",
    "\n",
    "from pyspark.sql.functions import col, row_number\n",
    "from pyspark.sql.window import Window\n",
    "import itertools"
   ]
  },
  {
   "cell_type": "code",
   "execution_count": 32,
   "metadata": {},
   "outputs": [],
   "source": [
    "spark = (\n",
    "    SparkSession.builder.appName(\"Collaborative Filtering\")  # type: ignore\n",
    "    .config(\"spark.jars.packages\", \"org.apache.hadoop:hadoop-aws:3.3.4\")\n",
    "    .config(\"fs.s3a.endpoint\", \"s3.us-east-2.amazonaws.com\")\n",
    "    .config(\n",
    "        \"fs.s3a.aws.credentials.provider\",\n",
    "        \"com.amazonaws.auth.DefaultAWSCredentialsProviderChain\",\n",
    "    )\n",
    "    .getOrCreate()\n",
    ")"
   ]
  },
  {
   "cell_type": "code",
   "execution_count": 33,
   "metadata": {},
   "outputs": [
    {
     "data": {
      "text/html": [
       "\n",
       "            <div>\n",
       "                <p><b>SparkSession - in-memory</b></p>\n",
       "                \n",
       "        <div>\n",
       "            <p><b>SparkContext</b></p>\n",
       "\n",
       "            <p><a href=\"http://10.161.51.157:4040\">Spark UI</a></p>\n",
       "\n",
       "            <dl>\n",
       "              <dt>Version</dt>\n",
       "                <dd><code>v3.5.1</code></dd>\n",
       "              <dt>Master</dt>\n",
       "                <dd><code>local[*]</code></dd>\n",
       "              <dt>AppName</dt>\n",
       "                <dd><code>Collaborative Filtering</code></dd>\n",
       "            </dl>\n",
       "        </div>\n",
       "        \n",
       "            </div>\n",
       "        "
      ],
      "text/plain": [
       "<pyspark.sql.session.SparkSession at 0x1082a9b50>"
      ]
     },
     "execution_count": 33,
     "metadata": {},
     "output_type": "execute_result"
    }
   ],
   "source": [
    "spark"
   ]
  },
  {
   "cell_type": "code",
   "execution_count": 34,
   "metadata": {},
   "outputs": [],
   "source": [
    "# Leer el archivo Parquet\n",
    "data = spark.read.parquet(\"s3a://amazon-reviews-eafit/sample-for-model/\")"
   ]
  },
  {
   "cell_type": "code",
   "execution_count": 35,
   "metadata": {},
   "outputs": [
    {
     "name": "stderr",
     "output_type": "stream",
     "text": [
      "                                                                                \r"
     ]
    },
    {
     "data": {
      "text/plain": [
       "4530"
      ]
     },
     "execution_count": 35,
     "metadata": {},
     "output_type": "execute_result"
    }
   ],
   "source": [
    "data.count()"
   ]
  },
  {
   "cell_type": "code",
   "execution_count": 36,
   "metadata": {},
   "outputs": [
    {
     "name": "stderr",
     "output_type": "stream",
     "text": [
      "                                                                                \r"
     ]
    }
   ],
   "source": [
    "indexer = StringIndexer(inputCol=\"product_id\", outputCol=\"item_id\")\n",
    "\n",
    "data = indexer.fit(data).transform(data)"
   ]
  },
  {
   "cell_type": "code",
   "execution_count": 37,
   "metadata": {},
   "outputs": [],
   "source": [
    "windowSpec = Window.partitionBy(\"customer_id\").orderBy(col(\"review_date\").desc())\n",
    "data = data.withColumn(\"index\", row_number().over(windowSpec))\n",
    "\n",
    "training = data.where(col(\"index\") >= 3)\n",
    "validation = data.where(col(\"index\") == 2)\n",
    "test = data.where(col(\"index\") <= 1)"
   ]
  },
  {
   "cell_type": "code",
   "execution_count": 38,
   "metadata": {},
   "outputs": [
    {
     "name": "stderr",
     "output_type": "stream",
     "text": [
      "[Stage 3462:============================>                           (1 + 1) / 2]\r"
     ]
    },
    {
     "name": "stdout",
     "output_type": "stream",
     "text": [
      "Training count: 3530\n",
      "Validation count: 500\n",
      "Test count: 500\n"
     ]
    },
    {
     "name": "stderr",
     "output_type": "stream",
     "text": [
      "                                                                                \r"
     ]
    }
   ],
   "source": [
    "training_count = training.count()\n",
    "validation_count = validation.count()\n",
    "test_count = test.count()\n",
    "\n",
    "print(f\"Training count: {training_count}\")\n",
    "print(f\"Validation count: {validation_count}\")\n",
    "print(f\"Test count: {test_count}\")"
   ]
  },
  {
   "cell_type": "code",
   "execution_count": 39,
   "metadata": {},
   "outputs": [],
   "source": [
    "def train_model(maxIter=5, regParam=0.01):\n",
    "    als = ALS(\n",
    "        maxIter=maxIter,\n",
    "        regParam=regParam,\n",
    "        userCol=\"customer_id\",\n",
    "        itemCol=\"item_id\",\n",
    "        ratingCol=\"star_rating\",\n",
    "        seed=42,\n",
    "        nonnegative=True,\n",
    "        rank=1,\n",
    "        coldStartStrategy=\"drop\",\n",
    "    )\n",
    "    model = als.fit(training)\n",
    "    return model"
   ]
  },
  {
   "cell_type": "code",
   "execution_count": 40,
   "metadata": {},
   "outputs": [
    {
     "name": "stderr",
     "output_type": "stream",
     "text": [
      "                                                                                \r"
     ]
    }
   ],
   "source": [
    "model = train_model()"
   ]
  },
  {
   "cell_type": "code",
   "execution_count": 41,
   "metadata": {},
   "outputs": [],
   "source": [
    "def get_metrics(dataset, model):\n",
    "    predictions = model.transform(dataset)\n",
    "\n",
    "    predictions.show()\n",
    "\n",
    "    print(f\"Predictions count: {predictions.count()}\")\n",
    "    evaluator_rmse = RegressionEvaluator(\n",
    "        metricName=\"rmse\", labelCol=\"star_rating\", predictionCol=\"prediction\"\n",
    "    )\n",
    "    rmse = evaluator_rmse.evaluate(predictions)\n",
    "    print(f\"Root-mean-square error = {rmse}\")\n",
    "\n",
    "    evaluator_mae = RegressionEvaluator(\n",
    "        metricName=\"mae\", labelCol=\"star_rating\", predictionCol=\"prediction\"\n",
    "    )\n",
    "    mae = evaluator_mae.evaluate(predictions)\n",
    "    print(f\"Mean absolute error = {mae}\")\n",
    "\n",
    "    return rmse, mae"
   ]
  },
  {
   "cell_type": "code",
   "execution_count": 42,
   "metadata": {},
   "outputs": [
    {
     "name": "stdout",
     "output_type": "stream",
     "text": [
      "+-----------+----------+-----------+--------------------+-----------+-----------------+-------+-----+----------+\n",
      "|customer_id|product_id|star_rating|            category|review_date|verified_purchase|item_id|index|prediction|\n",
      "+-----------+----------+-----------+--------------------+-----------+-----------------+-------+-----+----------+\n",
      "|    2205788|B00B2V66VS|        5.0|         mobile_apps| 2013-10-06|                Y|   12.0|    1|  4.992092|\n",
      "|   10135689|B00HZ3C4N6|        5.0|digital_video_dow...| 2015-07-05|                Y|  224.0|    1| 5.0102386|\n",
      "|   10350879|B00FAPF5U0|        5.0|         mobile_apps| 2015-08-19|                Y|    0.0|    1| 5.0374856|\n",
      "|   10968055|B00449U3K0|        4.0|            wireless| 2015-06-15|                Y|   87.0|    1|       0.0|\n",
      "|   11715394|B00LMQVTU6|        5.0|                toys| 2015-05-30|                Y|  247.0|    1|       0.0|\n",
      "|   13251775|B000068PBT|        5.0|              beauty| 2015-07-17|                Y|   30.0|    1|  5.733412|\n",
      "|   18557071|B00FAPF5U0|        5.0|         mobile_apps| 2013-11-29|                Y|    0.0|    1| 4.9487376|\n",
      "|   21170619|B00N28818A|        2.0|         mobile_apps| 2015-08-24|                Y|   17.0|    1|       0.0|\n",
      "|   23256869|B00EV1YZ96|        5.0|           video_dvd| 2014-02-19|                Y|  210.0|    1|       0.0|\n",
      "|   26288565|B00HY7VU60|        5.0|digital_video_dow...| 2015-07-30|                Y|   15.0|    1|       0.0|\n",
      "|   30399037|B0083PWAPW|        5.0|                  pc| 2013-03-14|                Y|    9.0|    1| 3.5450156|\n",
      "|   36267709|B00LDNE3FG|        5.0|         mobile_apps| 2014-08-20|                Y|  246.0|    1|  4.997807|\n",
      "|   39341061|B009YP9L7U|        4.0|        multilingual| 2014-06-29|                Y|  178.0|    1|       0.0|\n",
      "|   40936781|B003ZTQN1I|        5.0|               music| 2011-10-04|                Y|   84.0|    1|  4.997807|\n",
      "|   42320018|B00F3VOL38|        4.0|               music| 2014-02-22|                Y|  211.0|    1|       0.0|\n",
      "|   43330195|B00LVZK2YW|        5.0|               music| 2014-11-06|                Y|  248.0|    1|   4.99747|\n",
      "|   44132230|B00E8KLWB4|        4.0|         mobile_apps| 2014-02-19|                Y|   13.0|    1|       0.0|\n",
      "|   45260105|B005FT2MLQ|        5.0|               music| 2013-12-11|                Y|  114.0|    1|       0.0|\n",
      "|   48525629|B0054JZC6E|        4.0|         mobile_apps| 2012-08-09|                Y|    4.0|    1|  8.674691|\n",
      "+-----------+----------+-----------+--------------------+-----------+-----------------+-------+-----+----------+\n",
      "\n",
      "Predictions count: 19\n"
     ]
    },
    {
     "name": "stderr",
     "output_type": "stream",
     "text": [
      "                                                                                \r"
     ]
    },
    {
     "name": "stdout",
     "output_type": "stream",
     "text": [
      "Root-mean-square error = 3.183111906170139\n",
      "Mean absolute error = 2.3672051555232\n"
     ]
    },
    {
     "name": "stderr",
     "output_type": "stream",
     "text": [
      "                                                                                \r"
     ]
    },
    {
     "data": {
      "text/plain": [
       "(3.183111906170139, 2.3672051555232)"
      ]
     },
     "execution_count": 42,
     "metadata": {},
     "output_type": "execute_result"
    }
   ],
   "source": [
    "get_metrics(test, model)"
   ]
  },
  {
   "cell_type": "code",
   "execution_count": 43,
   "metadata": {},
   "outputs": [
    {
     "name": "stderr",
     "output_type": "stream",
     "text": [
      "                                                                                \r"
     ]
    },
    {
     "name": "stdout",
     "output_type": "stream",
     "text": [
      "+-----------+----------+-----------+--------------------+-----------+-----------------+-------+-----+----------+\n",
      "|customer_id|product_id|star_rating|            category|review_date|verified_purchase|item_id|index|prediction|\n",
      "+-----------+----------+-----------+--------------------+-----------+-----------------+-------+-----+----------+\n",
      "|     348087|B0097EWK3A|        5.0|         mobile_apps| 2015-04-12|                Y|  162.0|    2|       0.0|\n",
      "|    2205788|B00B2V66VS|        5.0|        multilingual| 2013-10-06|                Y|   12.0|    2|  4.992092|\n",
      "|    5062598|B00BVYNSLC|        5.0|digital_video_dow...| 2015-08-02|                Y|  195.0|    2|  4.997807|\n",
      "|    5972045|B007QUUJMG|        1.0|digital_ebook_pur...| 2013-07-03|                Y|  135.0|    2|       0.0|\n",
      "|    7483445|B009IRVSVQ|        5.0|               music| 2015-07-20|                Y|  173.0|    2|  4.997668|\n",
      "|    9864714|B00BR4QNJ0|        5.0|         mobile_apps| 2013-03-29|                Y|  194.0|    2|  4.997807|\n",
      "|   10135689|B00DFFHUUA|        2.0|digital_video_dow...| 2015-07-05|                Y|  202.0|    2| 2.0040956|\n",
      "|   10200071|B00MW73SCG|        1.0|digital_video_dow...| 2015-03-10|                Y|  251.0|    2|       0.0|\n",
      "|   10350879|B00FAPF5U0|        5.0|        multilingual| 2015-08-19|                Y|    0.0|    2| 5.0374856|\n",
      "|   10844734|B00FAPF5U0|        5.0|        multilingual| 2015-02-23|                Y|    0.0|    2|  4.996267|\n",
      "|   12633692|B00C061I3K|        5.0|        multilingual| 2013-07-31|                Y|  196.0|    2|  4.997807|\n",
      "|   13251775|B00EOARZ4G|        4.0|        multilingual| 2015-05-03|                Y|  209.0|    2| 4.5580792|\n",
      "|   13284885|B0026HDURA|        4.0|health_personal_care| 2014-09-09|                Y|   63.0|    2|       0.0|\n",
      "|   13740933|B005HSL626|        5.0|         mobile_apps| 2014-05-29|                Y|  115.0|    2|       0.0|\n",
      "|   15998551|B004EPZ07K|        5.0|           video_dvd| 2015-06-15|                Y|   91.0|    2|  5.018914|\n",
      "|   16020383|B00UFZYX08|        3.0|        multilingual| 2015-07-04|                Y|  260.0|    2| 2.9984066|\n",
      "|   16388362|B00AZNEW5G|        5.0|        multilingual| 2014-01-01|                Y|  189.0|    2|       0.0|\n",
      "|   16637184|B000I9TY4G|        5.0|digital_video_dow...| 2015-04-22|                Y|   41.0|    2|       0.0|\n",
      "|   16954239|B00BB8VSXS|        5.0|        multilingual| 2014-01-19|                Y|  191.0|    2|       0.0|\n",
      "|   18557071|B00FAPF5U0|        5.0|        multilingual| 2013-11-29|                Y|    0.0|    2| 4.9487376|\n",
      "+-----------+----------+-----------+--------------------+-----------+-----------------+-------+-----+----------+\n",
      "only showing top 20 rows\n",
      "\n",
      "Predictions count: 50\n"
     ]
    },
    {
     "name": "stderr",
     "output_type": "stream",
     "text": [
      "                                                                                \r"
     ]
    },
    {
     "name": "stdout",
     "output_type": "stream",
     "text": [
      "Root-mean-square error = 3.416342813933422\n",
      "Mean absolute error = 2.5102251672744753\n"
     ]
    },
    {
     "name": "stderr",
     "output_type": "stream",
     "text": [
      "                                                                                \r"
     ]
    },
    {
     "data": {
      "text/plain": [
       "(3.416342813933422, 2.5102251672744753)"
      ]
     },
     "execution_count": 43,
     "metadata": {},
     "output_type": "execute_result"
    }
   ],
   "source": [
    "get_metrics(validation, model)"
   ]
  },
  {
   "cell_type": "code",
   "execution_count": 44,
   "metadata": {},
   "outputs": [],
   "source": [
    "parameters = {\"maxIter\": [5, 10, 15], \"regParam\": [0.001, 0.01, 0.1]}\n",
    "param_combinations = list(itertools.product(*parameters.values()))\n",
    "tuning_parameters = [\n",
    "    {\"maxIter\": maxIter, \"regParam\": regParam}\n",
    "    for maxIter, regParam in param_combinations\n",
    "]"
   ]
  },
  {
   "cell_type": "code",
   "execution_count": 45,
   "metadata": {},
   "outputs": [
    {
     "name": "stdout",
     "output_type": "stream",
     "text": [
      "Parameters: {'maxIter': 5, 'regParam': 0.001}\n"
     ]
    },
    {
     "name": "stderr",
     "output_type": "stream",
     "text": [
      "                                                                                \r"
     ]
    },
    {
     "name": "stdout",
     "output_type": "stream",
     "text": [
      "+-----------+----------+-----------+--------------------+-----------+-----------------+-------+-----+----------+\n",
      "|customer_id|product_id|star_rating|            category|review_date|verified_purchase|item_id|index|prediction|\n",
      "+-----------+----------+-----------+--------------------+-----------+-----------------+-------+-----+----------+\n",
      "|     348087|B0097EWK3A|        5.0|         mobile_apps| 2015-04-12|                Y|  162.0|    2|       0.0|\n",
      "|    2205788|B00B2V66VS|        5.0|        multilingual| 2013-10-06|                Y|   12.0|    2| 4.9992356|\n",
      "|    5062598|B00BVYNSLC|        5.0|digital_video_dow...| 2015-08-02|                Y|  195.0|    2|  4.999798|\n",
      "|    5972045|B007QUUJMG|        1.0|digital_ebook_pur...| 2013-07-03|                Y|  135.0|    2|       0.0|\n",
      "|    7483445|B009IRVSVQ|        5.0|               music| 2015-07-20|                Y|  173.0|    2|  4.999785|\n",
      "|    9864714|B00BR4QNJ0|        5.0|         mobile_apps| 2013-03-29|                Y|  194.0|    2|  4.999798|\n",
      "|   10135689|B00DFFHUUA|        2.0|digital_video_dow...| 2015-07-05|                Y|  202.0|    2|  2.005598|\n",
      "|   10200071|B00MW73SCG|        1.0|digital_video_dow...| 2015-03-10|                Y|  251.0|    2|       0.0|\n",
      "|   10350879|B00FAPF5U0|        5.0|        multilingual| 2015-08-19|                Y|    0.0|    2|  5.064468|\n",
      "|   10844734|B00FAPF5U0|        5.0|        multilingual| 2015-02-23|                Y|    0.0|    2| 4.9997487|\n",
      "|   12633692|B00C061I3K|        5.0|        multilingual| 2013-07-31|                Y|  196.0|    2|  4.999798|\n",
      "|   13251775|B00EOARZ4G|        4.0|        multilingual| 2015-05-03|                Y|  209.0|    2|  4.487237|\n",
      "|   13284885|B0026HDURA|        4.0|health_personal_care| 2014-09-09|                Y|   63.0|    2|       0.0|\n",
      "|   13740933|B005HSL626|        5.0|         mobile_apps| 2014-05-29|                Y|  115.0|    2|       0.0|\n",
      "|   15998551|B004EPZ07K|        5.0|           video_dvd| 2015-06-15|                Y|   91.0|    2|  5.020946|\n",
      "|   16020383|B00UFZYX08|        3.0|        multilingual| 2015-07-04|                Y|  260.0|    2| 2.9998531|\n",
      "|   16388362|B00AZNEW5G|        5.0|        multilingual| 2014-01-01|                Y|  189.0|    2|       0.0|\n",
      "|   16637184|B000I9TY4G|        5.0|digital_video_dow...| 2015-04-22|                Y|   41.0|    2|       0.0|\n",
      "|   16954239|B00BB8VSXS|        5.0|        multilingual| 2014-01-19|                Y|  191.0|    2|       0.0|\n",
      "|   18557071|B00FAPF5U0|        5.0|        multilingual| 2013-11-29|                Y|    0.0|    2| 4.9943976|\n",
      "+-----------+----------+-----------+--------------------+-----------+-----------------+-------+-----+----------+\n",
      "only showing top 20 rows\n",
      "\n",
      "Predictions count: 50\n",
      "Root-mean-square error = 3.427657869332808\n",
      "Mean absolute error = 2.5188874912261965\n",
      "MAE: 2.5188874912261965\n",
      "RMSE: 3.427657869332808\n",
      "-----------------------------------------\n",
      "Parameters: {'maxIter': 5, 'regParam': 0.01}\n"
     ]
    },
    {
     "name": "stderr",
     "output_type": "stream",
     "text": [
      "                                                                                \r"
     ]
    },
    {
     "name": "stdout",
     "output_type": "stream",
     "text": [
      "+-----------+----------+-----------+--------------------+-----------+-----------------+-------+-----+----------+\n",
      "|customer_id|product_id|star_rating|            category|review_date|verified_purchase|item_id|index|prediction|\n",
      "+-----------+----------+-----------+--------------------+-----------+-----------------+-------+-----+----------+\n",
      "|     348087|B0097EWK3A|        5.0|         mobile_apps| 2015-04-12|                Y|  162.0|    2|       0.0|\n",
      "|    2205788|B00B2V66VS|        5.0|        multilingual| 2013-10-06|                Y|   12.0|    2|  4.992092|\n",
      "|    5062598|B00BVYNSLC|        5.0|digital_video_dow...| 2015-08-02|                Y|  195.0|    2|  4.997807|\n",
      "|    5972045|B007QUUJMG|        1.0|digital_ebook_pur...| 2013-07-03|                Y|  135.0|    2|       0.0|\n",
      "|    7483445|B009IRVSVQ|        5.0|               music| 2015-07-20|                Y|  173.0|    2|  4.997668|\n",
      "|    9864714|B00BR4QNJ0|        5.0|         mobile_apps| 2013-03-29|                Y|  194.0|    2|  4.997807|\n",
      "|   10135689|B00DFFHUUA|        2.0|digital_video_dow...| 2015-07-05|                Y|  202.0|    2| 2.0040956|\n",
      "|   10200071|B00MW73SCG|        1.0|digital_video_dow...| 2015-03-10|                Y|  251.0|    2|       0.0|\n",
      "|   10350879|B00FAPF5U0|        5.0|        multilingual| 2015-08-19|                Y|    0.0|    2| 5.0374856|\n",
      "|   10844734|B00FAPF5U0|        5.0|        multilingual| 2015-02-23|                Y|    0.0|    2|  4.996267|\n",
      "|   12633692|B00C061I3K|        5.0|        multilingual| 2013-07-31|                Y|  196.0|    2|  4.997807|\n",
      "|   13251775|B00EOARZ4G|        4.0|        multilingual| 2015-05-03|                Y|  209.0|    2| 4.5580792|\n",
      "|   13284885|B0026HDURA|        4.0|health_personal_care| 2014-09-09|                Y|   63.0|    2|       0.0|\n",
      "|   13740933|B005HSL626|        5.0|         mobile_apps| 2014-05-29|                Y|  115.0|    2|       0.0|\n",
      "|   15998551|B004EPZ07K|        5.0|           video_dvd| 2015-06-15|                Y|   91.0|    2|  5.018914|\n",
      "|   16020383|B00UFZYX08|        3.0|        multilingual| 2015-07-04|                Y|  260.0|    2| 2.9984066|\n",
      "|   16388362|B00AZNEW5G|        5.0|        multilingual| 2014-01-01|                Y|  189.0|    2|       0.0|\n",
      "|   16637184|B000I9TY4G|        5.0|digital_video_dow...| 2015-04-22|                Y|   41.0|    2|       0.0|\n",
      "|   16954239|B00BB8VSXS|        5.0|        multilingual| 2014-01-19|                Y|  191.0|    2|       0.0|\n",
      "|   18557071|B00FAPF5U0|        5.0|        multilingual| 2013-11-29|                Y|    0.0|    2| 4.9487376|\n",
      "+-----------+----------+-----------+--------------------+-----------+-----------------+-------+-----+----------+\n",
      "only showing top 20 rows\n",
      "\n"
     ]
    },
    {
     "name": "stderr",
     "output_type": "stream",
     "text": [
      "                                                                                \r"
     ]
    },
    {
     "name": "stdout",
     "output_type": "stream",
     "text": [
      "Predictions count: 50\n",
      "Root-mean-square error = 3.416342813933422\n"
     ]
    },
    {
     "name": "stderr",
     "output_type": "stream",
     "text": [
      "                                                                                \r"
     ]
    },
    {
     "name": "stdout",
     "output_type": "stream",
     "text": [
      "Mean absolute error = 2.5102251672744753\n",
      "MAE: 2.5102251672744753\n",
      "RMSE: 3.416342813933422\n",
      "-----------------------------------------\n",
      "Parameters: {'maxIter': 5, 'regParam': 0.1}\n"
     ]
    },
    {
     "name": "stderr",
     "output_type": "stream",
     "text": [
      "                                                                                \r"
     ]
    },
    {
     "name": "stdout",
     "output_type": "stream",
     "text": [
      "+-----------+----------+-----------+--------------------+-----------+-----------------+-------+-----+----------+\n",
      "|customer_id|product_id|star_rating|            category|review_date|verified_purchase|item_id|index|prediction|\n",
      "+-----------+----------+-----------+--------------------+-----------+-----------------+-------+-----+----------+\n",
      "|     348087|B0097EWK3A|        5.0|         mobile_apps| 2015-04-12|                Y|  162.0|    2|       0.0|\n",
      "|    2205788|B00B2V66VS|        5.0|        multilingual| 2013-10-06|                Y|   12.0|    2| 4.8923807|\n",
      "|    5062598|B00BVYNSLC|        5.0|digital_video_dow...| 2015-08-02|                Y|  195.0|    2|  4.961011|\n",
      "|    5972045|B007QUUJMG|        1.0|digital_ebook_pur...| 2013-07-03|                Y|  135.0|    2|       0.0|\n",
      "|    7483445|B009IRVSVQ|        5.0|               music| 2015-07-20|                Y|  173.0|    2|  4.958635|\n",
      "|    9864714|B00BR4QNJ0|        5.0|         mobile_apps| 2013-03-29|                Y|  194.0|    2|  4.961011|\n",
      "|   10135689|B00DFFHUUA|        2.0|digital_video_dow...| 2015-07-05|                Y|  202.0|    2| 1.9811826|\n",
      "|   10200071|B00MW73SCG|        1.0|digital_video_dow...| 2015-03-10|                Y|  251.0|    2|       0.0|\n",
      "|   10350879|B00FAPF5U0|        5.0|        multilingual| 2015-08-19|                Y|    0.0|    2|  4.835531|\n",
      "|   10844734|B00FAPF5U0|        5.0|        multilingual| 2015-02-23|                Y|    0.0|    2|  4.877224|\n",
      "|   12633692|B00C061I3K|        5.0|        multilingual| 2013-07-31|                Y|  196.0|    2|  4.961011|\n",
      "|   13251775|B00EOARZ4G|        4.0|        multilingual| 2015-05-03|                Y|  209.0|    2| 4.7062197|\n",
      "|   13284885|B0026HDURA|        4.0|health_personal_care| 2014-09-09|                Y|   63.0|    2|       0.0|\n",
      "|   13740933|B005HSL626|        5.0|         mobile_apps| 2014-05-29|                Y|  115.0|    2|       0.0|\n",
      "|   15998551|B004EPZ07K|        5.0|           video_dvd| 2015-06-15|                Y|   91.0|    2|  4.978474|\n",
      "|   16020383|B00UFZYX08|        3.0|        multilingual| 2015-07-04|                Y|  260.0|    2|  2.971905|\n",
      "|   16388362|B00AZNEW5G|        5.0|        multilingual| 2014-01-01|                Y|  189.0|    2|       0.0|\n",
      "|   16637184|B000I9TY4G|        5.0|digital_video_dow...| 2015-04-22|                Y|   41.0|    2|       0.0|\n",
      "|   16954239|B00BB8VSXS|        5.0|        multilingual| 2014-01-19|                Y|  191.0|    2|       0.0|\n",
      "|   18557071|B00FAPF5U0|        5.0|        multilingual| 2013-11-29|                Y|    0.0|    2|  4.720404|\n",
      "+-----------+----------+-----------+--------------------+-----------+-----------------+-------+-----+----------+\n",
      "only showing top 20 rows\n",
      "\n",
      "Predictions count: 50\n",
      "Root-mean-square error = 3.3560882144612814\n"
     ]
    },
    {
     "name": "stderr",
     "output_type": "stream",
     "text": [
      "                                                                                \r"
     ]
    },
    {
     "name": "stdout",
     "output_type": "stream",
     "text": [
      "Mean absolute error = 2.4502064180374146\n",
      "MAE: 2.4502064180374146\n",
      "RMSE: 3.3560882144612814\n",
      "-----------------------------------------\n",
      "Parameters: {'maxIter': 10, 'regParam': 0.001}\n"
     ]
    },
    {
     "name": "stderr",
     "output_type": "stream",
     "text": [
      "                                                                                \r"
     ]
    },
    {
     "name": "stdout",
     "output_type": "stream",
     "text": [
      "+-----------+----------+-----------+--------------------+-----------+-----------------+-------+-----+----------+\n",
      "|customer_id|product_id|star_rating|            category|review_date|verified_purchase|item_id|index|prediction|\n",
      "+-----------+----------+-----------+--------------------+-----------+-----------------+-------+-----+----------+\n",
      "|     348087|B0097EWK3A|        5.0|         mobile_apps| 2015-04-12|                Y|  162.0|    2|       0.0|\n",
      "|    2205788|B00B2V66VS|        5.0|        multilingual| 2013-10-06|                Y|   12.0|    2|   4.99867|\n",
      "|    5062598|B00BVYNSLC|        5.0|digital_video_dow...| 2015-08-02|                Y|  195.0|    2|  4.999796|\n",
      "|    5972045|B007QUUJMG|        1.0|digital_ebook_pur...| 2013-07-03|                Y|  135.0|    2|       0.0|\n",
      "|    7483445|B009IRVSVQ|        5.0|               music| 2015-07-20|                Y|  173.0|    2| 4.9997835|\n",
      "|    9864714|B00BR4QNJ0|        5.0|         mobile_apps| 2013-03-29|                Y|  194.0|    2|  4.999796|\n",
      "|   10135689|B00DFFHUUA|        2.0|digital_video_dow...| 2015-07-05|                Y|  202.0|    2| 2.0074224|\n",
      "|   10200071|B00MW73SCG|        1.0|digital_video_dow...| 2015-03-10|                Y|  251.0|    2|       0.0|\n",
      "|   10350879|B00FAPF5U0|        5.0|        multilingual| 2015-08-19|                Y|    0.0|    2|  5.119349|\n",
      "|   10844734|B00FAPF5U0|        5.0|        multilingual| 2015-02-23|                Y|    0.0|    2| 4.9996924|\n",
      "|   12633692|B00C061I3K|        5.0|        multilingual| 2013-07-31|                Y|  196.0|    2|  4.999796|\n",
      "|   13251775|B00EOARZ4G|        4.0|        multilingual| 2015-05-03|                Y|  209.0|    2| 5.1556454|\n",
      "|   13284885|B0026HDURA|        4.0|health_personal_care| 2014-09-09|                Y|   63.0|    2|       0.0|\n",
      "|   13740933|B005HSL626|        5.0|         mobile_apps| 2014-05-29|                Y|  115.0|    2|       0.0|\n",
      "|   15998551|B004EPZ07K|        5.0|           video_dvd| 2015-06-15|                Y|   91.0|    2| 5.0148873|\n",
      "|   16020383|B00UFZYX08|        3.0|        multilingual| 2015-07-04|                Y|  260.0|    2|  2.999852|\n",
      "|   16388362|B00AZNEW5G|        5.0|        multilingual| 2014-01-01|                Y|  189.0|    2|       0.0|\n",
      "|   16637184|B000I9TY4G|        5.0|digital_video_dow...| 2015-04-22|                Y|   41.0|    2|       0.0|\n",
      "|   16954239|B00BB8VSXS|        5.0|        multilingual| 2014-01-19|                Y|  191.0|    2|       0.0|\n",
      "|   18557071|B00FAPF5U0|        5.0|        multilingual| 2013-11-29|                Y|    0.0|    2|  4.993981|\n",
      "+-----------+----------+-----------+--------------------+-----------+-----------------+-------+-----+----------+\n",
      "only showing top 20 rows\n",
      "\n"
     ]
    },
    {
     "name": "stderr",
     "output_type": "stream",
     "text": [
      "                                                                                \r"
     ]
    },
    {
     "name": "stdout",
     "output_type": "stream",
     "text": [
      "Predictions count: 50\n"
     ]
    },
    {
     "name": "stderr",
     "output_type": "stream",
     "text": [
      "                                                                                \r"
     ]
    },
    {
     "name": "stdout",
     "output_type": "stream",
     "text": [
      "Root-mean-square error = 3.5483022544871874\n",
      "Mean absolute error = 2.5963638687133788\n",
      "MAE: 2.5963638687133788\n",
      "RMSE: 3.5483022544871874\n",
      "-----------------------------------------\n",
      "Parameters: {'maxIter': 10, 'regParam': 0.01}\n"
     ]
    },
    {
     "name": "stderr",
     "output_type": "stream",
     "text": [
      "                                                                                \r"
     ]
    },
    {
     "name": "stdout",
     "output_type": "stream",
     "text": [
      "+-----------+----------+-----------+--------------------+-----------+-----------------+-------+-----+----------+\n",
      "|customer_id|product_id|star_rating|            category|review_date|verified_purchase|item_id|index|prediction|\n",
      "+-----------+----------+-----------+--------------------+-----------+-----------------+-------+-----+----------+\n",
      "|     348087|B0097EWK3A|        5.0|         mobile_apps| 2015-04-12|                Y|  162.0|    2|       0.0|\n",
      "|    2205788|B00B2V66VS|        5.0|        multilingual| 2013-10-06|                Y|   12.0|    2|  4.986181|\n",
      "|    5062598|B00BVYNSLC|        5.0|digital_video_dow...| 2015-08-02|                Y|  195.0|    2|  4.997617|\n",
      "|    5972045|B007QUUJMG|        1.0|digital_ebook_pur...| 2013-07-03|                Y|  135.0|    2|       0.0|\n",
      "|    7483445|B009IRVSVQ|        5.0|               music| 2015-07-20|                Y|  173.0|    2|  4.997466|\n",
      "|    9864714|B00BR4QNJ0|        5.0|         mobile_apps| 2013-03-29|                Y|  194.0|    2|  4.997617|\n",
      "|   10135689|B00DFFHUUA|        2.0|digital_video_dow...| 2015-07-05|                Y|  202.0|    2|  2.005287|\n",
      "|   10200071|B00MW73SCG|        1.0|digital_video_dow...| 2015-03-10|                Y|  251.0|    2|       0.0|\n",
      "|   10350879|B00FAPF5U0|        5.0|        multilingual| 2015-08-19|                Y|    0.0|    2|  5.081612|\n",
      "|   10844734|B00FAPF5U0|        5.0|        multilingual| 2015-02-23|                Y|    0.0|    2| 4.9960184|\n",
      "|   12633692|B00C061I3K|        5.0|        multilingual| 2013-07-31|                Y|  196.0|    2|  4.997617|\n",
      "|   13251775|B00EOARZ4G|        4.0|        multilingual| 2015-05-03|                Y|  209.0|    2|  5.441761|\n",
      "|   13284885|B0026HDURA|        4.0|health_personal_care| 2014-09-09|                Y|   63.0|    2|       0.0|\n",
      "|   13740933|B005HSL626|        5.0|         mobile_apps| 2014-05-29|                Y|  115.0|    2|       0.0|\n",
      "|   15998551|B004EPZ07K|        5.0|           video_dvd| 2015-06-15|                Y|   91.0|    2| 5.0132074|\n",
      "|   16020383|B00UFZYX08|        3.0|        multilingual| 2015-07-04|                Y|  260.0|    2| 2.9982698|\n",
      "|   16388362|B00AZNEW5G|        5.0|        multilingual| 2014-01-01|                Y|  189.0|    2|       0.0|\n",
      "|   16637184|B000I9TY4G|        5.0|digital_video_dow...| 2015-04-22|                Y|   41.0|    2|       0.0|\n",
      "|   16954239|B00BB8VSXS|        5.0|        multilingual| 2014-01-19|                Y|  191.0|    2|       0.0|\n",
      "|   18557071|B00FAPF5U0|        5.0|        multilingual| 2013-11-29|                Y|    0.0|    2| 4.9479074|\n",
      "+-----------+----------+-----------+--------------------+-----------+-----------------+-------+-----+----------+\n",
      "only showing top 20 rows\n",
      "\n",
      "Predictions count: 50\n",
      "Root-mean-square error = 3.4914851117490766\n"
     ]
    },
    {
     "name": "stderr",
     "output_type": "stream",
     "text": [
      "                                                                                \r"
     ]
    },
    {
     "name": "stdout",
     "output_type": "stream",
     "text": [
      "Mean absolute error = 2.5652522611618043\n",
      "MAE: 2.5652522611618043\n",
      "RMSE: 3.4914851117490766\n",
      "-----------------------------------------\n",
      "Parameters: {'maxIter': 10, 'regParam': 0.1}\n"
     ]
    },
    {
     "name": "stderr",
     "output_type": "stream",
     "text": [
      "                                                                                \r"
     ]
    },
    {
     "name": "stdout",
     "output_type": "stream",
     "text": [
      "+-----------+----------+-----------+--------------------+-----------+-----------------+-------+-----+----------+\n",
      "|customer_id|product_id|star_rating|            category|review_date|verified_purchase|item_id|index|prediction|\n",
      "+-----------+----------+-----------+--------------------+-----------+-----------------+-------+-----+----------+\n",
      "|     348087|B0097EWK3A|        5.0|         mobile_apps| 2015-04-12|                Y|  162.0|    2|       0.0|\n",
      "|    2205788|B00B2V66VS|        5.0|        multilingual| 2013-10-06|                Y|   12.0|    2| 4.7995124|\n",
      "|    5062598|B00BVYNSLC|        5.0|digital_video_dow...| 2015-08-02|                Y|  195.0|    2|   4.94509|\n",
      "|    5972045|B007QUUJMG|        1.0|digital_ebook_pur...| 2013-07-03|                Y|  135.0|    2|       0.0|\n",
      "|    7483445|B009IRVSVQ|        5.0|               music| 2015-07-20|                Y|  173.0|    2| 4.9419565|\n",
      "|    9864714|B00BR4QNJ0|        5.0|         mobile_apps| 2013-03-29|                Y|  194.0|    2|   4.94509|\n",
      "|   10135689|B00DFFHUUA|        2.0|digital_video_dow...| 2015-07-05|                Y|  202.0|    2| 1.9720122|\n",
      "|   10200071|B00MW73SCG|        1.0|digital_video_dow...| 2015-03-10|                Y|  251.0|    2|       0.0|\n",
      "|   10350879|B00FAPF5U0|        5.0|        multilingual| 2015-08-19|                Y|    0.0|    2| 4.8836045|\n",
      "|   10844734|B00FAPF5U0|        5.0|        multilingual| 2015-02-23|                Y|    0.0|    2|   4.90196|\n",
      "|   12633692|B00C061I3K|        5.0|        multilingual| 2013-07-31|                Y|  196.0|    2|   4.94509|\n",
      "|   13251775|B00EOARZ4G|        4.0|        multilingual| 2015-05-03|                Y|  209.0|    2|  4.936895|\n",
      "|   13284885|B0026HDURA|        4.0|health_personal_care| 2014-09-09|                Y|   63.0|    2|       0.0|\n",
      "|   13740933|B005HSL626|        5.0|         mobile_apps| 2014-05-29|                Y|  115.0|    2|       0.0|\n",
      "|   15998551|B004EPZ07K|        5.0|           video_dvd| 2015-06-15|                Y|   91.0|    2|    4.9564|\n",
      "|   16020383|B00UFZYX08|        3.0|        multilingual| 2015-07-04|                Y|  260.0|    2| 2.9609027|\n",
      "|   16388362|B00AZNEW5G|        5.0|        multilingual| 2014-01-01|                Y|  189.0|    2|       0.0|\n",
      "|   16637184|B000I9TY4G|        5.0|digital_video_dow...| 2015-04-22|                Y|   41.0|    2|       0.0|\n",
      "|   16954239|B00BB8VSXS|        5.0|        multilingual| 2014-01-19|                Y|  191.0|    2|       0.0|\n",
      "|   18557071|B00FAPF5U0|        5.0|        multilingual| 2013-11-29|                Y|    0.0|    2|   4.72401|\n",
      "+-----------+----------+-----------+--------------------+-----------+-----------------+-------+-----+----------+\n",
      "only showing top 20 rows\n",
      "\n",
      "Predictions count: 50\n"
     ]
    },
    {
     "name": "stderr",
     "output_type": "stream",
     "text": [
      "                                                                                \r"
     ]
    },
    {
     "name": "stdout",
     "output_type": "stream",
     "text": [
      "Root-mean-square error = 3.356361003874185\n"
     ]
    },
    {
     "name": "stderr",
     "output_type": "stream",
     "text": [
      "                                                                                \r"
     ]
    },
    {
     "name": "stdout",
     "output_type": "stream",
     "text": [
      "Mean absolute error = 2.4568858695030213\n",
      "MAE: 2.4568858695030213\n",
      "RMSE: 3.356361003874185\n",
      "-----------------------------------------\n",
      "Parameters: {'maxIter': 15, 'regParam': 0.001}\n"
     ]
    },
    {
     "name": "stderr",
     "output_type": "stream",
     "text": [
      "                                                                                \r"
     ]
    },
    {
     "name": "stdout",
     "output_type": "stream",
     "text": [
      "+-----------+----------+-----------+--------------------+-----------+-----------------+-------+-----+----------+\n",
      "|customer_id|product_id|star_rating|            category|review_date|verified_purchase|item_id|index|prediction|\n",
      "+-----------+----------+-----------+--------------------+-----------+-----------------+-------+-----+----------+\n",
      "|     348087|B0097EWK3A|        5.0|         mobile_apps| 2015-04-12|                Y|  162.0|    2|       0.0|\n",
      "|    2205788|B00B2V66VS|        5.0|        multilingual| 2013-10-06|                Y|   12.0|    2|  4.998106|\n",
      "|    5062598|B00BVYNSLC|        5.0|digital_video_dow...| 2015-08-02|                Y|  195.0|    2| 4.9997945|\n",
      "|    5972045|B007QUUJMG|        1.0|digital_ebook_pur...| 2013-07-03|                Y|  135.0|    2|       0.0|\n",
      "|    7483445|B009IRVSVQ|        5.0|               music| 2015-07-20|                Y|  173.0|    2|  4.999781|\n",
      "|    9864714|B00BR4QNJ0|        5.0|         mobile_apps| 2013-03-29|                Y|  194.0|    2| 4.9997945|\n",
      "|   10135689|B00DFFHUUA|        2.0|digital_video_dow...| 2015-07-05|                Y|  202.0|    2|  2.007536|\n",
      "|   10200071|B00MW73SCG|        1.0|digital_video_dow...| 2015-03-10|                Y|  251.0|    2|       0.0|\n",
      "|   10350879|B00FAPF5U0|        5.0|        multilingual| 2015-08-19|                Y|    0.0|    2| 5.1962705|\n",
      "|   10844734|B00FAPF5U0|        5.0|        multilingual| 2015-02-23|                Y|    0.0|    2| 4.9996557|\n",
      "|   12633692|B00C061I3K|        5.0|        multilingual| 2013-07-31|                Y|  196.0|    2| 4.9997945|\n",
      "|   13251775|B00EOARZ4G|        4.0|        multilingual| 2015-05-03|                Y|  209.0|    2| 6.1427937|\n",
      "|   13284885|B0026HDURA|        4.0|health_personal_care| 2014-09-09|                Y|   63.0|    2|       0.0|\n",
      "|   13740933|B005HSL626|        5.0|         mobile_apps| 2014-05-29|                Y|  115.0|    2|       0.0|\n",
      "|   15998551|B004EPZ07K|        5.0|           video_dvd| 2015-06-15|                Y|   91.0|    2| 5.0106416|\n",
      "|   16020383|B00UFZYX08|        3.0|        multilingual| 2015-07-04|                Y|  260.0|    2| 2.9998505|\n",
      "|   16388362|B00AZNEW5G|        5.0|        multilingual| 2014-01-01|                Y|  189.0|    2|       0.0|\n",
      "|   16637184|B000I9TY4G|        5.0|digital_video_dow...| 2015-04-22|                Y|   41.0|    2|       0.0|\n",
      "|   16954239|B00BB8VSXS|        5.0|        multilingual| 2014-01-19|                Y|  191.0|    2|       0.0|\n",
      "|   18557071|B00FAPF5U0|        5.0|        multilingual| 2013-11-29|                Y|    0.0|    2| 4.9935613|\n",
      "+-----------+----------+-----------+--------------------+-----------+-----------------+-------+-----+----------+\n",
      "only showing top 20 rows\n",
      "\n",
      "Predictions count: 50\n"
     ]
    },
    {
     "name": "stderr",
     "output_type": "stream",
     "text": [
      "                                                                                \r"
     ]
    },
    {
     "name": "stdout",
     "output_type": "stream",
     "text": [
      "Root-mean-square error = 3.567456530619152\n"
     ]
    },
    {
     "name": "stderr",
     "output_type": "stream",
     "text": [
      "                                                                                \r"
     ]
    },
    {
     "name": "stdout",
     "output_type": "stream",
     "text": [
      "Mean absolute error = 2.601723771095276\n",
      "MAE: 2.601723771095276\n",
      "RMSE: 3.567456530619152\n",
      "-----------------------------------------\n",
      "Parameters: {'maxIter': 15, 'regParam': 0.01}\n"
     ]
    },
    {
     "name": "stderr",
     "output_type": "stream",
     "text": [
      "                                                                                \r"
     ]
    },
    {
     "name": "stdout",
     "output_type": "stream",
     "text": [
      "+-----------+----------+-----------+--------------------+-----------+-----------------+-------+-----+----------+\n",
      "|customer_id|product_id|star_rating|            category|review_date|verified_purchase|item_id|index|prediction|\n",
      "+-----------+----------+-----------+--------------------+-----------+-----------------+-------+-----+----------+\n",
      "|     348087|B0097EWK3A|        5.0|         mobile_apps| 2015-04-12|                Y|  162.0|    2|       0.0|\n",
      "|    2205788|B00B2V66VS|        5.0|        multilingual| 2013-10-06|                Y|   12.0|    2| 4.9802094|\n",
      "|    5062598|B00BVYNSLC|        5.0|digital_video_dow...| 2015-08-02|                Y|  195.0|    2| 4.9974284|\n",
      "|    5972045|B007QUUJMG|        1.0|digital_ebook_pur...| 2013-07-03|                Y|  135.0|    2|       0.0|\n",
      "|    7483445|B009IRVSVQ|        5.0|               music| 2015-07-20|                Y|  173.0|    2| 4.9972663|\n",
      "|    9864714|B00BR4QNJ0|        5.0|         mobile_apps| 2013-03-29|                Y|  194.0|    2| 4.9974284|\n",
      "|   10135689|B00DFFHUUA|        2.0|digital_video_dow...| 2015-07-05|                Y|  202.0|    2| 2.0051613|\n",
      "|   10200071|B00MW73SCG|        1.0|digital_video_dow...| 2015-03-10|                Y|  251.0|    2|       0.0|\n",
      "|   10350879|B00FAPF5U0|        5.0|        multilingual| 2015-08-19|                Y|    0.0|    2|  5.142567|\n",
      "|   10844734|B00FAPF5U0|        5.0|        multilingual| 2015-02-23|                Y|    0.0|    2|  4.995626|\n",
      "|   12633692|B00C061I3K|        5.0|        multilingual| 2013-07-31|                Y|  196.0|    2| 4.9974284|\n",
      "|   13251775|B00EOARZ4G|        4.0|        multilingual| 2015-05-03|                Y|  209.0|    2| 6.7472234|\n",
      "|   13284885|B0026HDURA|        4.0|health_personal_care| 2014-09-09|                Y|   63.0|    2|       0.0|\n",
      "|   13740933|B005HSL626|        5.0|         mobile_apps| 2014-05-29|                Y|  115.0|    2|       0.0|\n",
      "|   15998551|B004EPZ07K|        5.0|           video_dvd| 2015-06-15|                Y|   91.0|    2|   5.00937|\n",
      "|   16020383|B00UFZYX08|        3.0|        multilingual| 2015-07-04|                Y|  260.0|    2| 2.9981349|\n",
      "|   16388362|B00AZNEW5G|        5.0|        multilingual| 2014-01-01|                Y|  189.0|    2|       0.0|\n",
      "|   16637184|B000I9TY4G|        5.0|digital_video_dow...| 2015-04-22|                Y|   41.0|    2|       0.0|\n",
      "|   16954239|B00BB8VSXS|        5.0|        multilingual| 2014-01-19|                Y|  191.0|    2|       0.0|\n",
      "|   18557071|B00FAPF5U0|        5.0|        multilingual| 2013-11-29|                Y|    0.0|    2|  4.946291|\n",
      "+-----------+----------+-----------+--------------------+-----------+-----------------+-------+-----+----------+\n",
      "only showing top 20 rows\n",
      "\n",
      "Predictions count: 50\n",
      "Root-mean-square error = 3.4987247743688443\n",
      "Mean absolute error = 2.5685915517807008\n",
      "MAE: 2.5685915517807008\n",
      "RMSE: 3.4987247743688443\n",
      "-----------------------------------------\n",
      "Parameters: {'maxIter': 15, 'regParam': 0.1}\n"
     ]
    },
    {
     "name": "stderr",
     "output_type": "stream",
     "text": [
      "                                                                                \r"
     ]
    },
    {
     "name": "stdout",
     "output_type": "stream",
     "text": [
      "+-----------+----------+-----------+--------------------+-----------+-----------------+-------+-----+----------+\n",
      "|customer_id|product_id|star_rating|            category|review_date|verified_purchase|item_id|index|prediction|\n",
      "+-----------+----------+-----------+--------------------+-----------+-----------------+-------+-----+----------+\n",
      "|     348087|B0097EWK3A|        5.0|         mobile_apps| 2015-04-12|                Y|  162.0|    2|       0.0|\n",
      "|    2205788|B00B2V66VS|        5.0|        multilingual| 2013-10-06|                Y|   12.0|    2|  4.708966|\n",
      "|    5062598|B00BVYNSLC|        5.0|digital_video_dow...| 2015-08-02|                Y|  195.0|    2| 4.9323997|\n",
      "|    5972045|B007QUUJMG|        1.0|digital_ebook_pur...| 2013-07-03|                Y|  135.0|    2|       0.0|\n",
      "|    7483445|B009IRVSVQ|        5.0|               music| 2015-07-20|                Y|  173.0|    2|  4.928829|\n",
      "|    9864714|B00BR4QNJ0|        5.0|         mobile_apps| 2013-03-29|                Y|  194.0|    2| 4.9323997|\n",
      "|   10135689|B00DFFHUUA|        2.0|digital_video_dow...| 2015-07-05|                Y|  202.0|    2| 1.9656565|\n",
      "|   10200071|B00MW73SCG|        1.0|digital_video_dow...| 2015-03-10|                Y|  251.0|    2|       0.0|\n",
      "|   10350879|B00FAPF5U0|        5.0|        multilingual| 2015-08-19|                Y|    0.0|    2| 4.9026036|\n",
      "|   10844734|B00FAPF5U0|        5.0|        multilingual| 2015-02-23|                Y|    0.0|    2|  4.894046|\n",
      "|   12633692|B00C061I3K|        5.0|        multilingual| 2013-07-31|                Y|  196.0|    2| 4.9323997|\n",
      "|   13251775|B00EOARZ4G|        4.0|        multilingual| 2015-05-03|                Y|  209.0|    2|  4.865416|\n",
      "|   13284885|B0026HDURA|        4.0|health_personal_care| 2014-09-09|                Y|   63.0|    2|       0.0|\n",
      "|   13740933|B005HSL626|        5.0|         mobile_apps| 2014-05-29|                Y|  115.0|    2|       0.0|\n",
      "|   15998551|B004EPZ07K|        5.0|           video_dvd| 2015-06-15|                Y|   91.0|    2| 4.9397197|\n",
      "|   16020383|B00UFZYX08|        3.0|        multilingual| 2015-07-04|                Y|  260.0|    2| 2.9524884|\n",
      "|   16388362|B00AZNEW5G|        5.0|        multilingual| 2014-01-01|                Y|  189.0|    2|       0.0|\n",
      "|   16637184|B000I9TY4G|        5.0|digital_video_dow...| 2015-04-22|                Y|   41.0|    2|       0.0|\n",
      "|   16954239|B00BB8VSXS|        5.0|        multilingual| 2014-01-19|                Y|  191.0|    2|       0.0|\n",
      "|   18557071|B00FAPF5U0|        5.0|        multilingual| 2013-11-29|                Y|    0.0|    2|  4.684099|\n",
      "+-----------+----------+-----------+--------------------+-----------+-----------------+-------+-----+----------+\n",
      "only showing top 20 rows\n",
      "\n"
     ]
    },
    {
     "name": "stderr",
     "output_type": "stream",
     "text": [
      "                                                                                \r"
     ]
    },
    {
     "name": "stdout",
     "output_type": "stream",
     "text": [
      "Predictions count: 50\n"
     ]
    },
    {
     "name": "stderr",
     "output_type": "stream",
     "text": [
      "                                                                                \r"
     ]
    },
    {
     "name": "stdout",
     "output_type": "stream",
     "text": [
      "Root-mean-square error = 3.353017782003737\n",
      "Mean absolute error = 2.4632883882522583\n",
      "MAE: 2.4632883882522583\n",
      "RMSE: 3.353017782003737\n",
      "-----------------------------------------\n"
     ]
    }
   ],
   "source": [
    "corresponding_rmse, best_mae, best_parameters = float(\"inf\"), float(\"inf\"), None\n",
    "\n",
    "for parameters_combination in tuning_parameters:\n",
    "    print(f\"Parameters: {parameters_combination}\")\n",
    "    model = train_model(**parameters_combination)\n",
    "    rmse, mae = get_metrics(validation, model)\n",
    "    print(f\"MAE: {mae}\")\n",
    "    print(f\"RMSE: {rmse}\")\n",
    "    print(\"-----------------------------------------\")\n",
    "    if mae < best_mae:\n",
    "        best_mae = mae\n",
    "        corresponding_rmse = rmse\n",
    "        best_parameters = parameters_combination"
   ]
  },
  {
   "cell_type": "code",
   "execution_count": 46,
   "metadata": {},
   "outputs": [
    {
     "name": "stdout",
     "output_type": "stream",
     "text": [
      "Best parameters: {'maxIter': 5, 'regParam': 0.1}\n",
      "Best MAE: 2.4632883882522583\n",
      "RMSE corresponding to the best MAE: 3.3560882144612814\n"
     ]
    }
   ],
   "source": [
    "print(f\"Best parameters: {best_parameters}\")\n",
    "print(f\"Best MAE: {mae}\")\n",
    "print(f\"RMSE corresponding to the best MAE: {corresponding_rmse}\")"
   ]
  },
  {
   "cell_type": "code",
   "execution_count": 52,
   "metadata": {},
   "outputs": [
    {
     "name": "stderr",
     "output_type": "stream",
     "text": [
      "[Stage 6510:============================>                           (1 + 1) / 2]\r"
     ]
    },
    {
     "name": "stdout",
     "output_type": "stream",
     "text": [
      "+-----------+----------+-----------+--------------------+-----------+-----------------+-------+-----+----------+\n",
      "|customer_id|product_id|star_rating|            category|review_date|verified_purchase|item_id|index|prediction|\n",
      "+-----------+----------+-----------+--------------------+-----------+-----------------+-------+-----+----------+\n",
      "|   10135689|B00DFFHUUA|        2.0|digital_video_dow...| 2015-07-05|                Y|  202.0|    2| 1.9656565|\n",
      "+-----------+----------+-----------+--------------------+-----------+-----------------+-------+-----+----------+\n",
      "\n"
     ]
    },
    {
     "name": "stderr",
     "output_type": "stream",
     "text": [
      "                                                                                \r"
     ]
    }
   ],
   "source": [
    "users = validation.filter(validation.customer_id == 10135689)\n",
    "predictions = model.transform(users)\n",
    "predictions.show()"
   ]
  },
  {
   "cell_type": "code",
   "execution_count": 69,
   "metadata": {},
   "outputs": [
    {
     "name": "stderr",
     "output_type": "stream",
     "text": [
      "                                                                                \r"
     ]
    },
    {
     "name": "stdout",
     "output_type": "stream",
     "text": [
      "+----------------------------------------------------------------------------------------------------------------------------------------------------------------------------------------------------------------------------------------------------------------------------------------------------------------------------------------------------------------------------------------------------------------------------------------------------------------------------------------------------------------------------------------------------------------------+\n",
      "|recommendations                                                                                                                                                                                                                                                                                                                                                                                                                                                                                                                                                       |\n",
      "+----------------------------------------------------------------------------------------------------------------------------------------------------------------------------------------------------------------------------------------------------------------------------------------------------------------------------------------------------------------------------------------------------------------------------------------------------------------------------------------------------------------------------------------------------------------------+\n",
      "|[{3166, 6.6092134}, {2527, 6.6092134}, {2387, 6.6092134}, {1500, 6.6092134}, {75, 6.6092134}, {3002, 5.801481}, {2702, 5.801481}, {2700, 5.801481}, {2569, 5.801481}, {2483, 5.801481}, {2362, 5.801481}, {2172, 5.801481}, {2079, 5.801481}, {1211, 5.801481}, {4020, 5.4005294}, {3378, 5.4005294}, {3337, 5.4005294}, {2766, 5.4005294}, {2344, 5.4005294}, {1676, 5.4005294}, {1430, 5.4005294}, {716, 5.4005294}, {675, 5.4005294}, {668, 5.4005294}, {555, 5.4005294}, {321, 5.4005294}, {661, 5.3896027}, {3021, 5.287371}, {2368, 5.287371}, {1503, 5.287371}]|\n",
      "+----------------------------------------------------------------------------------------------------------------------------------------------------------------------------------------------------------------------------------------------------------------------------------------------------------------------------------------------------------------------------------------------------------------------------------------------------------------------------------------------------------------------------------------------------------------------+\n",
      "\n"
     ]
    }
   ],
   "source": [
    "result = model.recommendForUserSubset(users, 10)\n",
    "result.select(\"recommendations\").show(truncate=False)"
   ]
  }
 ],
 "metadata": {
  "kernelspec": {
   "display_name": "proyecto-integrador-semestre-2-CX1LVKjs",
   "language": "python",
   "name": "python3"
  },
  "language_info": {
   "codemirror_mode": {
    "name": "ipython",
    "version": 3
   },
   "file_extension": ".py",
   "mimetype": "text/x-python",
   "name": "python",
   "nbconvert_exporter": "python",
   "pygments_lexer": "ipython3",
   "version": "3.11.8"
  }
 },
 "nbformat": 4,
 "nbformat_minor": 2
}
