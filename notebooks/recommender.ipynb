{
 "cells": [
  {
   "cell_type": "code",
   "execution_count": 19,
   "metadata": {},
   "outputs": [],
   "source": [
    "from pyspark.ml.evaluation import RegressionEvaluator\n",
    "from pyspark.ml.feature import StringIndexer\n",
    "from pyspark.ml.recommendation import ALS\n",
    "from pyspark.sql import SparkSession\n",
    "\n",
    "from pyspark.sql.functions import col, row_number\n",
    "from pyspark.sql.window import Window\n",
    "import itertools"
   ]
  },
  {
   "cell_type": "code",
   "execution_count": 20,
   "metadata": {},
   "outputs": [],
   "source": [
    "spark = (\n",
    "    SparkSession.builder.appName(\"Collaborative Filtering\")  # type: ignore\n",
    "    .config(\"spark.jars.packages\", \"org.apache.hadoop:hadoop-aws:3.3.4\")\n",
    "    .config(\"fs.s3a.endpoint\", \"s3.us-east-2.amazonaws.com\")\n",
    "    .config(\n",
    "        \"fs.s3a.aws.credentials.provider\",\n",
    "        \"com.amazonaws.auth.DefaultAWSCredentialsProviderChain\",\n",
    "    )\n",
    "    .getOrCreate()\n",
    ")"
   ]
  },
  {
   "cell_type": "code",
   "execution_count": 21,
   "metadata": {},
   "outputs": [
    {
     "data": {
      "text/html": [
       "\n",
       "            <div>\n",
       "                <p><b>SparkSession - in-memory</b></p>\n",
       "                \n",
       "        <div>\n",
       "            <p><b>SparkContext</b></p>\n",
       "\n",
       "            <p><a href=\"http://10.161.50.113:4040\">Spark UI</a></p>\n",
       "\n",
       "            <dl>\n",
       "              <dt>Version</dt>\n",
       "                <dd><code>v3.5.1</code></dd>\n",
       "              <dt>Master</dt>\n",
       "                <dd><code>local[*]</code></dd>\n",
       "              <dt>AppName</dt>\n",
       "                <dd><code>Collaborative Filtering</code></dd>\n",
       "            </dl>\n",
       "        </div>\n",
       "        \n",
       "            </div>\n",
       "        "
      ],
      "text/plain": [
       "<pyspark.sql.session.SparkSession at 0x103f33110>"
      ]
     },
     "execution_count": 21,
     "metadata": {},
     "output_type": "execute_result"
    }
   ],
   "source": [
    "spark"
   ]
  },
  {
   "cell_type": "code",
   "execution_count": 22,
   "metadata": {},
   "outputs": [],
   "source": [
    "# Leer el archivo Parquet\n",
    "data = spark.read.parquet(\"s3a://amazon-reviews-eafit/sample-for-model/\")"
   ]
  },
  {
   "cell_type": "code",
   "execution_count": 23,
   "metadata": {},
   "outputs": [
    {
     "name": "stderr",
     "output_type": "stream",
     "text": [
      "                                                                                \r"
     ]
    },
    {
     "data": {
      "text/plain": [
       "4530"
      ]
     },
     "execution_count": 23,
     "metadata": {},
     "output_type": "execute_result"
    }
   ],
   "source": [
    "data.count()"
   ]
  },
  {
   "cell_type": "code",
   "execution_count": 24,
   "metadata": {},
   "outputs": [
    {
     "name": "stderr",
     "output_type": "stream",
     "text": [
      "                                                                                \r"
     ]
    }
   ],
   "source": [
    "indexer = StringIndexer(inputCol=\"product_id\", outputCol=\"item_id\")\n",
    "\n",
    "data = indexer.fit(data).transform(data)"
   ]
  },
  {
   "cell_type": "markdown",
   "metadata": {},
   "source": [
    "## Split de la data\n",
    "\n",
    "Se asegura que haya un dato en test, uno en validation y uno en training\n"
   ]
  },
  {
   "cell_type": "code",
   "execution_count": 25,
   "metadata": {},
   "outputs": [],
   "source": [
    "def split_data(data):\n",
    "    windowSpec = Window.partitionBy(\"customer_id\").orderBy(col(\"review_date\").desc())\n",
    "    data = data.withColumn(\"index\", row_number().over(windowSpec))\n",
    "\n",
    "    training = data.where(col(\"index\") >= 3)\n",
    "    validation = data.where(col(\"index\") == 2)\n",
    "    test = data.where(col(\"index\") <= 1)\n",
    "\n",
    "    return training, validation, test"
   ]
  },
  {
   "cell_type": "code",
   "execution_count": 26,
   "metadata": {},
   "outputs": [
    {
     "name": "stderr",
     "output_type": "stream",
     "text": [
      "[Stage 2570:============================>                           (1 + 1) / 2]\r"
     ]
    },
    {
     "name": "stdout",
     "output_type": "stream",
     "text": [
      "Training count: 3530\n",
      "Validation count: 500\n",
      "Test count: 500\n"
     ]
    },
    {
     "name": "stderr",
     "output_type": "stream",
     "text": [
      "                                                                                \r"
     ]
    }
   ],
   "source": [
    "training, validation, test = split_data(data)\n",
    "\n",
    "training_count = training.count()\n",
    "validation_count = validation.count()\n",
    "test_count = test.count()\n",
    "\n",
    "print(f\"Training count: {training_count}\")\n",
    "print(f\"Validation count: {validation_count}\")\n",
    "print(f\"Test count: {test_count}\")"
   ]
  },
  {
   "cell_type": "code",
   "execution_count": 27,
   "metadata": {},
   "outputs": [],
   "source": [
    "def train_model(maxIter=5, regParam=0.01):\n",
    "    als = ALS(\n",
    "        maxIter=maxIter,\n",
    "        regParam=regParam,\n",
    "        userCol=\"customer_id\",\n",
    "        itemCol=\"item_id\",\n",
    "        ratingCol=\"star_rating\",\n",
    "        seed=42,\n",
    "        nonnegative=True,\n",
    "        rank=1,\n",
    "        coldStartStrategy=\"drop\",\n",
    "    )\n",
    "    model = als.fit(training)\n",
    "    return model"
   ]
  },
  {
   "cell_type": "code",
   "execution_count": 28,
   "metadata": {},
   "outputs": [
    {
     "name": "stderr",
     "output_type": "stream",
     "text": [
      "                                                                                \r"
     ]
    }
   ],
   "source": [
    "model = train_model()"
   ]
  },
  {
   "cell_type": "code",
   "execution_count": 29,
   "metadata": {},
   "outputs": [],
   "source": [
    "def get_metrics(dataset, model):\n",
    "    predictions = model.transform(dataset)\n",
    "\n",
    "    print(f\"Predictions count: {predictions.count()}\")\n",
    "    evaluator_rmse = RegressionEvaluator(\n",
    "        metricName=\"rmse\", labelCol=\"star_rating\", predictionCol=\"prediction\"\n",
    "    )\n",
    "    rmse = evaluator_rmse.evaluate(predictions)\n",
    "    print(f\"Root-mean-square error = {rmse}\")\n",
    "\n",
    "    evaluator_mae = RegressionEvaluator(\n",
    "        metricName=\"mae\", labelCol=\"star_rating\", predictionCol=\"prediction\"\n",
    "    )\n",
    "    mae = evaluator_mae.evaluate(predictions)\n",
    "    print(f\"Mean absolute error = {mae}\")\n",
    "\n",
    "    return rmse, mae"
   ]
  },
  {
   "cell_type": "code",
   "execution_count": 30,
   "metadata": {},
   "outputs": [
    {
     "name": "stdout",
     "output_type": "stream",
     "text": [
      "Predictions count: 19\n"
     ]
    },
    {
     "name": "stderr",
     "output_type": "stream",
     "text": [
      "                                                                                \r"
     ]
    },
    {
     "name": "stdout",
     "output_type": "stream",
     "text": [
      "Root-mean-square error = 3.183111906170139\n",
      "Mean absolute error = 2.3672051555232\n"
     ]
    },
    {
     "data": {
      "text/plain": [
       "(3.183111906170139, 2.3672051555232)"
      ]
     },
     "execution_count": 30,
     "metadata": {},
     "output_type": "execute_result"
    }
   ],
   "source": [
    "get_metrics(test, model)"
   ]
  },
  {
   "cell_type": "code",
   "execution_count": 31,
   "metadata": {},
   "outputs": [
    {
     "name": "stderr",
     "output_type": "stream",
     "text": [
      "                                                                                \r"
     ]
    },
    {
     "name": "stdout",
     "output_type": "stream",
     "text": [
      "Predictions count: 50\n"
     ]
    },
    {
     "name": "stderr",
     "output_type": "stream",
     "text": [
      "                                                                                \r"
     ]
    },
    {
     "name": "stdout",
     "output_type": "stream",
     "text": [
      "Root-mean-square error = 3.416342813933422\n",
      "Mean absolute error = 2.5102251672744753\n"
     ]
    },
    {
     "name": "stderr",
     "output_type": "stream",
     "text": [
      "                                                                                \r"
     ]
    },
    {
     "data": {
      "text/plain": [
       "(3.416342813933422, 2.5102251672744753)"
      ]
     },
     "execution_count": 31,
     "metadata": {},
     "output_type": "execute_result"
    }
   ],
   "source": [
    "get_metrics(validation, model)"
   ]
  },
  {
   "cell_type": "code",
   "execution_count": 32,
   "metadata": {},
   "outputs": [],
   "source": [
    "parameters = {\"maxIter\": [5, 10, 15], \"regParam\": [0.001, 0.01, 0.1]}\n",
    "param_combinations = list(itertools.product(*parameters.values()))\n",
    "tuning_parameters = [\n",
    "    {\"maxIter\": maxIter, \"regParam\": regParam}\n",
    "    for maxIter, regParam in param_combinations\n",
    "]"
   ]
  },
  {
   "cell_type": "code",
   "execution_count": 33,
   "metadata": {},
   "outputs": [
    {
     "name": "stdout",
     "output_type": "stream",
     "text": [
      "Parameters: {'maxIter': 5, 'regParam': 0.001}\n"
     ]
    },
    {
     "name": "stderr",
     "output_type": "stream",
     "text": [
      "                                                                                \r"
     ]
    },
    {
     "name": "stdout",
     "output_type": "stream",
     "text": [
      "Predictions count: 50\n"
     ]
    },
    {
     "name": "stderr",
     "output_type": "stream",
     "text": [
      "                                                                                \r"
     ]
    },
    {
     "name": "stdout",
     "output_type": "stream",
     "text": [
      "Root-mean-square error = 3.427657869332808\n"
     ]
    },
    {
     "name": "stderr",
     "output_type": "stream",
     "text": [
      "                                                                                \r"
     ]
    },
    {
     "name": "stdout",
     "output_type": "stream",
     "text": [
      "Mean absolute error = 2.5188874912261965\n",
      "MAE: 2.5188874912261965\n",
      "RMSE: 3.427657869332808\n",
      "-----------------------------------------\n",
      "Parameters: {'maxIter': 5, 'regParam': 0.01}\n"
     ]
    },
    {
     "name": "stderr",
     "output_type": "stream",
     "text": [
      "                                                                                \r"
     ]
    },
    {
     "name": "stdout",
     "output_type": "stream",
     "text": [
      "Predictions count: 50\n"
     ]
    },
    {
     "name": "stderr",
     "output_type": "stream",
     "text": [
      "                                                                                \r"
     ]
    },
    {
     "name": "stdout",
     "output_type": "stream",
     "text": [
      "Root-mean-square error = 3.416342813933422\n"
     ]
    },
    {
     "name": "stderr",
     "output_type": "stream",
     "text": [
      "                                                                                \r"
     ]
    },
    {
     "name": "stdout",
     "output_type": "stream",
     "text": [
      "Mean absolute error = 2.5102251672744753\n",
      "MAE: 2.5102251672744753\n",
      "RMSE: 3.416342813933422\n",
      "-----------------------------------------\n",
      "Parameters: {'maxIter': 5, 'regParam': 0.1}\n"
     ]
    },
    {
     "name": "stderr",
     "output_type": "stream",
     "text": [
      "                                                                                \r"
     ]
    },
    {
     "name": "stdout",
     "output_type": "stream",
     "text": [
      "Predictions count: 50\n",
      "Root-mean-square error = 3.3560882144612814\n"
     ]
    },
    {
     "name": "stderr",
     "output_type": "stream",
     "text": [
      "                                                                                \r"
     ]
    },
    {
     "name": "stdout",
     "output_type": "stream",
     "text": [
      "Mean absolute error = 2.4502064180374146\n",
      "MAE: 2.4502064180374146\n",
      "RMSE: 3.3560882144612814\n",
      "-----------------------------------------\n",
      "Parameters: {'maxIter': 10, 'regParam': 0.001}\n"
     ]
    },
    {
     "name": "stderr",
     "output_type": "stream",
     "text": [
      "                                                                                \r"
     ]
    },
    {
     "name": "stdout",
     "output_type": "stream",
     "text": [
      "Predictions count: 50\n"
     ]
    },
    {
     "name": "stderr",
     "output_type": "stream",
     "text": [
      "                                                                                \r"
     ]
    },
    {
     "name": "stdout",
     "output_type": "stream",
     "text": [
      "Root-mean-square error = 3.5483022544871874\n"
     ]
    },
    {
     "name": "stderr",
     "output_type": "stream",
     "text": [
      "                                                                                \r"
     ]
    },
    {
     "name": "stdout",
     "output_type": "stream",
     "text": [
      "Mean absolute error = 2.5963638687133788\n",
      "MAE: 2.5963638687133788\n",
      "RMSE: 3.5483022544871874\n",
      "-----------------------------------------\n",
      "Parameters: {'maxIter': 10, 'regParam': 0.01}\n"
     ]
    },
    {
     "name": "stderr",
     "output_type": "stream",
     "text": [
      "                                                                                \r"
     ]
    },
    {
     "name": "stdout",
     "output_type": "stream",
     "text": [
      "Predictions count: 50\n"
     ]
    },
    {
     "name": "stderr",
     "output_type": "stream",
     "text": [
      "                                                                                \r"
     ]
    },
    {
     "name": "stdout",
     "output_type": "stream",
     "text": [
      "Root-mean-square error = 3.4914851117490766\n"
     ]
    },
    {
     "name": "stderr",
     "output_type": "stream",
     "text": [
      "                                                                                \r"
     ]
    },
    {
     "name": "stdout",
     "output_type": "stream",
     "text": [
      "Mean absolute error = 2.5652522611618043\n",
      "MAE: 2.5652522611618043\n",
      "RMSE: 3.4914851117490766\n",
      "-----------------------------------------\n",
      "Parameters: {'maxIter': 10, 'regParam': 0.1}\n"
     ]
    },
    {
     "name": "stderr",
     "output_type": "stream",
     "text": [
      "                                                                                \r"
     ]
    },
    {
     "name": "stdout",
     "output_type": "stream",
     "text": [
      "Predictions count: 50\n"
     ]
    },
    {
     "name": "stderr",
     "output_type": "stream",
     "text": [
      "                                                                                \r"
     ]
    },
    {
     "name": "stdout",
     "output_type": "stream",
     "text": [
      "Root-mean-square error = 3.356361003874185\n"
     ]
    },
    {
     "name": "stderr",
     "output_type": "stream",
     "text": [
      "                                                                                \r"
     ]
    },
    {
     "name": "stdout",
     "output_type": "stream",
     "text": [
      "Mean absolute error = 2.4568858695030213\n",
      "MAE: 2.4568858695030213\n",
      "RMSE: 3.356361003874185\n",
      "-----------------------------------------\n",
      "Parameters: {'maxIter': 15, 'regParam': 0.001}\n"
     ]
    },
    {
     "name": "stderr",
     "output_type": "stream",
     "text": [
      "                                                                                \r"
     ]
    },
    {
     "name": "stdout",
     "output_type": "stream",
     "text": [
      "Predictions count: 50\n",
      "Root-mean-square error = 3.567456530619152\n"
     ]
    },
    {
     "name": "stderr",
     "output_type": "stream",
     "text": [
      "                                                                                \r"
     ]
    },
    {
     "name": "stdout",
     "output_type": "stream",
     "text": [
      "Mean absolute error = 2.601723771095276\n",
      "MAE: 2.601723771095276\n",
      "RMSE: 3.567456530619152\n",
      "-----------------------------------------\n",
      "Parameters: {'maxIter': 15, 'regParam': 0.01}\n"
     ]
    },
    {
     "name": "stderr",
     "output_type": "stream",
     "text": [
      "                                                                                \r"
     ]
    },
    {
     "name": "stdout",
     "output_type": "stream",
     "text": [
      "Predictions count: 50\n"
     ]
    },
    {
     "name": "stderr",
     "output_type": "stream",
     "text": [
      "                                                                                \r"
     ]
    },
    {
     "name": "stdout",
     "output_type": "stream",
     "text": [
      "Root-mean-square error = 3.4987247743688443\n"
     ]
    },
    {
     "name": "stderr",
     "output_type": "stream",
     "text": [
      "                                                                                \r"
     ]
    },
    {
     "name": "stdout",
     "output_type": "stream",
     "text": [
      "Mean absolute error = 2.5685915517807008\n",
      "MAE: 2.5685915517807008\n",
      "RMSE: 3.4987247743688443\n",
      "-----------------------------------------\n",
      "Parameters: {'maxIter': 15, 'regParam': 0.1}\n"
     ]
    },
    {
     "name": "stderr",
     "output_type": "stream",
     "text": [
      "                                                                                \r"
     ]
    },
    {
     "name": "stdout",
     "output_type": "stream",
     "text": [
      "Predictions count: 50\n"
     ]
    },
    {
     "name": "stderr",
     "output_type": "stream",
     "text": [
      "                                                                                \r"
     ]
    },
    {
     "name": "stdout",
     "output_type": "stream",
     "text": [
      "Root-mean-square error = 3.353017782003737\n",
      "Mean absolute error = 2.4632883882522583\n",
      "MAE: 2.4632883882522583\n",
      "RMSE: 3.353017782003737\n",
      "-----------------------------------------\n"
     ]
    }
   ],
   "source": [
    "corresponding_rmse, best_mae, best_parameters = float(\"inf\"), float(\"inf\"), None\n",
    "\n",
    "for parameters_combination in tuning_parameters:\n",
    "    print(f\"Parameters: {parameters_combination}\")\n",
    "    model = train_model(**parameters_combination)\n",
    "    rmse, mae = get_metrics(validation, model)\n",
    "    print(f\"MAE: {mae}\")\n",
    "    print(f\"RMSE: {rmse}\")\n",
    "    print(\"-----------------------------------------\")\n",
    "    if mae < best_mae:\n",
    "        best_mae = mae\n",
    "        corresponding_rmse = rmse\n",
    "        best_parameters = parameters_combination"
   ]
  },
  {
   "cell_type": "code",
   "execution_count": 34,
   "metadata": {},
   "outputs": [
    {
     "name": "stdout",
     "output_type": "stream",
     "text": [
      "Best parameters: {'maxIter': 5, 'regParam': 0.1}\n",
      "Best MAE: 2.4632883882522583\n",
      "RMSE corresponding to the best MAE: 3.3560882144612814\n"
     ]
    }
   ],
   "source": [
    "print(f\"Best parameters: {best_parameters}\")\n",
    "print(f\"Best MAE: {mae}\")\n",
    "print(f\"RMSE corresponding to the best MAE: {corresponding_rmse}\")"
   ]
  },
  {
   "cell_type": "code",
   "execution_count": 35,
   "metadata": {},
   "outputs": [
    {
     "name": "stdout",
     "output_type": "stream",
     "text": [
      "+-----------+----------+-----------+--------------------+-----------+-----------------+-------+-----+----------+\n",
      "|customer_id|product_id|star_rating|            category|review_date|verified_purchase|item_id|index|prediction|\n",
      "+-----------+----------+-----------+--------------------+-----------+-----------------+-------+-----+----------+\n",
      "|   10135689|B00DFFHUUA|        2.0|digital_video_dow...| 2015-07-05|                Y|  202.0|    2| 1.9656565|\n",
      "+-----------+----------+-----------+--------------------+-----------+-----------------+-------+-----+----------+\n",
      "\n"
     ]
    },
    {
     "name": "stderr",
     "output_type": "stream",
     "text": [
      "                                                                                \r"
     ]
    }
   ],
   "source": [
    "users = validation.filter(validation.customer_id == 10135689)\n",
    "predictions = model.transform(users)\n",
    "predictions.show()"
   ]
  },
  {
   "cell_type": "code",
   "execution_count": 36,
   "metadata": {},
   "outputs": [
    {
     "name": "stderr",
     "output_type": "stream",
     "text": [
      "                                                                                \r"
     ]
    },
    {
     "name": "stdout",
     "output_type": "stream",
     "text": [
      "+---------------------------------------------------------------------------------------------------------------------------------------------------------------------------------------+\n",
      "|recommendations                                                                                                                                                                        |\n",
      "+---------------------------------------------------------------------------------------------------------------------------------------------------------------------------------------+\n",
      "|[{3166, 6.6092134}, {2527, 6.6092134}, {2387, 6.6092134}, {1500, 6.6092134}, {75, 6.6092134}, {3002, 5.801481}, {2702, 5.801481}, {2700, 5.801481}, {2569, 5.801481}, {2483, 5.801481}]|\n",
      "+---------------------------------------------------------------------------------------------------------------------------------------------------------------------------------------+\n",
      "\n"
     ]
    }
   ],
   "source": [
    "result = model.recommendForUserSubset(users, 10)\n",
    "result.select(\"recommendations\").show(truncate=False)"
   ]
  }
 ],
 "metadata": {
  "kernelspec": {
   "display_name": "proyecto-integrador-semestre-2-CX1LVKjs",
   "language": "python",
   "name": "python3"
  },
  "language_info": {
   "codemirror_mode": {
    "name": "ipython",
    "version": 3
   },
   "file_extension": ".py",
   "mimetype": "text/x-python",
   "name": "python",
   "nbconvert_exporter": "python",
   "pygments_lexer": "ipython3",
   "version": "3.11.8"
  }
 },
 "nbformat": 4,
 "nbformat_minor": 2
}
