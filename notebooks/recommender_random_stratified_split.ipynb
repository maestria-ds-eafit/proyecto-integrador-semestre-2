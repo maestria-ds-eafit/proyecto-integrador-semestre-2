{
 "cells": [
  {
   "cell_type": "code",
   "execution_count": 30,
   "metadata": {},
   "outputs": [],
   "source": [
    "from pyspark.ml.evaluation import RegressionEvaluator\n",
    "from pyspark.ml.feature import StringIndexer, IndexToString\n",
    "from pyspark.ml.recommendation import ALS\n",
    "from pyspark.sql import SparkSession\n",
    "\n",
    "from pyspark.sql.functions import col, rank, expr\n",
    "from pyspark.sql.window import Window\n",
    "import itertools"
   ]
  },
  {
   "cell_type": "code",
   "execution_count": 31,
   "metadata": {},
   "outputs": [],
   "source": [
    "spark = (\n",
    "    SparkSession.builder.appName(\"Collaborative Filtering\")  # type: ignore\n",
    "    .config(\"spark.jars.packages\", \"org.apache.hadoop:hadoop-aws:3.3.4\")\n",
    "    .config(\"fs.s3a.endpoint\", \"s3.us-east-2.amazonaws.com\")\n",
    "    .config(\n",
    "        \"fs.s3a.aws.credentials.provider\",\n",
    "        \"com.amazonaws.auth.DefaultAWSCredentialsProviderChain\",\n",
    "    )\n",
    "    .getOrCreate()\n",
    ")"
   ]
  },
  {
   "cell_type": "code",
   "execution_count": 32,
   "metadata": {},
   "outputs": [],
   "source": [
    "# Leer el archivo Parquet\n",
    "data = spark.read.parquet(\"s3a://amazon-reviews-eafit/sample-for-model/\")"
   ]
  },
  {
   "cell_type": "code",
   "execution_count": 33,
   "metadata": {},
   "outputs": [
    {
     "name": "stdout",
     "output_type": "stream",
     "text": [
      "root\n",
      " |-- customer_id: integer (nullable = true)\n",
      " |-- product_id: string (nullable = true)\n",
      " |-- star_rating: float (nullable = true)\n",
      " |-- category: string (nullable = true)\n",
      " |-- review_date: string (nullable = true)\n",
      " |-- verified_purchase: string (nullable = true)\n",
      " |-- review_id: string (nullable = true)\n",
      " |-- product_title: string (nullable = true)\n",
      " |-- product_category: string (nullable = true)\n",
      "\n"
     ]
    }
   ],
   "source": [
    "data.printSchema()"
   ]
  },
  {
   "cell_type": "code",
   "execution_count": 34,
   "metadata": {},
   "outputs": [
    {
     "name": "stderr",
     "output_type": "stream",
     "text": [
      "                                                                                \r"
     ]
    },
    {
     "data": {
      "text/plain": [
       "4184"
      ]
     },
     "execution_count": 34,
     "metadata": {},
     "output_type": "execute_result"
    }
   ],
   "source": [
    "data.count()"
   ]
  },
  {
   "cell_type": "code",
   "execution_count": 35,
   "metadata": {},
   "outputs": [
    {
     "name": "stderr",
     "output_type": "stream",
     "text": [
      "                                                                                \r"
     ]
    }
   ],
   "source": [
    "indexer = StringIndexer(inputCol=\"product_id\", outputCol=\"item_id\")\n",
    "\n",
    "indexer_model = indexer.fit(data)\n",
    "\n",
    "inverter = IndexToString(\n",
    "    inputCol=\"item_id\", outputCol=\"original_item_id\", labels=indexer_model.labels\n",
    ")\n",
    "\n",
    "inverter.write().overwrite().save(\"./inverter\")"
   ]
  },
  {
   "cell_type": "code",
   "execution_count": 36,
   "metadata": {},
   "outputs": [],
   "source": [
    "data = indexer_model.transform(data)"
   ]
  },
  {
   "cell_type": "code",
   "execution_count": 37,
   "metadata": {},
   "outputs": [],
   "source": [
    "loaded_inverter = IndexToString.load(\"./inverter\")"
   ]
  },
  {
   "cell_type": "markdown",
   "metadata": {},
   "source": [
    "## Split de la data\n",
    "\n",
    "Se hace un sampleo por customer id. Se toma el 80% de los customer id para el train y el 20% restante para el test.\n",
    "Se repite el proceso para obtener el conjunto de validación partiendo de la data de training.\n"
   ]
  },
  {
   "cell_type": "code",
   "execution_count": 38,
   "metadata": {},
   "outputs": [],
   "source": [
    "def split_data(data, percent_items_to_mask=0.2):\n",
    "    user_window = Window.partitionBy(\"customer_id\").orderBy(col(\"product_id\").desc())\n",
    "    data_processed = data.withColumn(\n",
    "        \"number_of_products\", expr(\"count(*) over (partition by customer_id)\")\n",
    "    )\n",
    "    data_processed = data_processed.withColumn(\n",
    "        \"number_of_products_to_mask\",\n",
    "        (col(\"number_of_products\") * percent_items_to_mask).cast(\"int\"),\n",
    "    )\n",
    "    data_processed = data_processed.withColumn(\"product_rank\", rank().over(user_window))\n",
    "\n",
    "    training = data_processed.filter(\n",
    "        col(\"product_rank\") > col(\"number_of_products_to_mask\")\n",
    "    )\n",
    "    test = data_processed.filter(\n",
    "        col(\"product_rank\") <= col(\"number_of_products_to_mask\")\n",
    "    )\n",
    "\n",
    "    return training, test"
   ]
  },
  {
   "cell_type": "code",
   "execution_count": 39,
   "metadata": {},
   "outputs": [
    {
     "name": "stderr",
     "output_type": "stream",
     "text": [
      "[Stage 86:=============================>                            (1 + 1) / 2]\r"
     ]
    },
    {
     "name": "stdout",
     "output_type": "stream",
     "text": [
      "Training count: 3819\n",
      "Validation count: 169\n",
      "Test count: 196\n"
     ]
    },
    {
     "name": "stderr",
     "output_type": "stream",
     "text": [
      "                                                                                \r"
     ]
    }
   ],
   "source": [
    "training, test = split_data(data, percent_items_to_mask=0.1)\n",
    "training, validation = split_data(training, percent_items_to_mask=0.1)\n",
    "\n",
    "training_count = training.count()\n",
    "validation_count = validation.count()\n",
    "test_count = test.count()\n",
    "\n",
    "print(f\"Training count: {training_count}\")\n",
    "print(f\"Validation count: {validation_count}\")\n",
    "print(f\"Test count: {test_count}\")"
   ]
  },
  {
   "cell_type": "code",
   "execution_count": 40,
   "metadata": {},
   "outputs": [
    {
     "name": "stderr",
     "output_type": "stream",
     "text": [
      "[Stage 92:=============================>                            (1 + 1) / 2]\r"
     ]
    },
    {
     "name": "stdout",
     "output_type": "stream",
     "text": [
      "+-----------+\n",
      "|customer_id|\n",
      "+-----------+\n",
      "|      76286|\n",
      "|      93131|\n",
      "|     205422|\n",
      "|     337529|\n",
      "|     583137|\n",
      "|     722290|\n",
      "|     890674|\n",
      "|    1176852|\n",
      "|    1498833|\n",
      "|    1553047|\n",
      "|    1671892|\n",
      "|    1735873|\n",
      "|    2008691|\n",
      "|    2039136|\n",
      "|    2040014|\n",
      "|    2127453|\n",
      "|    2156883|\n",
      "|    2177134|\n",
      "|    2531809|\n",
      "|    2561699|\n",
      "+-----------+\n",
      "only showing top 20 rows\n",
      "\n"
     ]
    },
    {
     "name": "stderr",
     "output_type": "stream",
     "text": [
      "                                                                                \r"
     ]
    }
   ],
   "source": [
    "training.select(\"customer_id\").distinct().show()"
   ]
  },
  {
   "cell_type": "markdown",
   "metadata": {},
   "source": [
    "## Validación con un usuario\n",
    "\n",
    "Validamos cuántos datos tiene un usuario en total, cuántos quedaron en training, test y validation.\n"
   ]
  },
  {
   "cell_type": "code",
   "execution_count": 41,
   "metadata": {},
   "outputs": [
    {
     "name": "stderr",
     "output_type": "stream",
     "text": [
      "                                                                                \r"
     ]
    },
    {
     "data": {
      "text/plain": [
       "59"
      ]
     },
     "execution_count": 41,
     "metadata": {},
     "output_type": "execute_result"
    }
   ],
   "source": [
    "data[data[\"customer_id\"] == 76286].count()"
   ]
  },
  {
   "cell_type": "code",
   "execution_count": 42,
   "metadata": {},
   "outputs": [
    {
     "name": "stderr",
     "output_type": "stream",
     "text": [
      "                                                                                \r"
     ]
    },
    {
     "data": {
      "text/plain": [
       "49"
      ]
     },
     "execution_count": 42,
     "metadata": {},
     "output_type": "execute_result"
    }
   ],
   "source": [
    "training[training[\"customer_id\"] == 76286].count()"
   ]
  },
  {
   "cell_type": "code",
   "execution_count": 43,
   "metadata": {},
   "outputs": [
    {
     "name": "stderr",
     "output_type": "stream",
     "text": [
      "                                                                                \r"
     ]
    },
    {
     "data": {
      "text/plain": [
       "5"
      ]
     },
     "execution_count": 43,
     "metadata": {},
     "output_type": "execute_result"
    }
   ],
   "source": [
    "validation[validation[\"customer_id\"] == 76286].count()"
   ]
  },
  {
   "cell_type": "code",
   "execution_count": 44,
   "metadata": {},
   "outputs": [
    {
     "name": "stderr",
     "output_type": "stream",
     "text": [
      "                                                                                \r"
     ]
    },
    {
     "data": {
      "text/plain": [
       "5"
      ]
     },
     "execution_count": 44,
     "metadata": {},
     "output_type": "execute_result"
    }
   ],
   "source": [
    "test[test[\"customer_id\"] == 76286].count()"
   ]
  },
  {
   "cell_type": "markdown",
   "metadata": {},
   "source": [
    "## Función para entrenar el modelo\n",
    "\n",
    "Esta función recibe dos parámetros: `maxIter` y `regParam`. Esto debido a que más adelante se hará un grid search para ver la mejor combinación de parámetros.\n"
   ]
  },
  {
   "cell_type": "code",
   "execution_count": 45,
   "metadata": {},
   "outputs": [],
   "source": [
    "def train_model(maxIter=5, regParam=0.1):\n",
    "    als = ALS(\n",
    "        maxIter=maxIter,\n",
    "        regParam=regParam,\n",
    "        userCol=\"customer_id\",\n",
    "        itemCol=\"item_id\",\n",
    "        ratingCol=\"star_rating\",\n",
    "        seed=42,\n",
    "        nonnegative=True,\n",
    "        rank=1,\n",
    "        coldStartStrategy=\"drop\",\n",
    "    )\n",
    "    model = als.fit(training)\n",
    "    return model"
   ]
  },
  {
   "cell_type": "code",
   "execution_count": 46,
   "metadata": {},
   "outputs": [
    {
     "name": "stderr",
     "output_type": "stream",
     "text": [
      "24/05/18 15:32:56 WARN InstanceBuilder: Failed to load implementation from:dev.ludovic.netlib.blas.JNIBLAS\n",
      "24/05/18 15:32:56 WARN InstanceBuilder: Failed to load implementation from:dev.ludovic.netlib.blas.VectorBLAS\n"
     ]
    }
   ],
   "source": [
    "model = train_model()"
   ]
  },
  {
   "cell_type": "code",
   "execution_count": 47,
   "metadata": {},
   "outputs": [],
   "source": [
    "def get_metrics(dataset, model):\n",
    "    predictions = model.transform(dataset)\n",
    "\n",
    "    print(f\"Predictions count: {predictions.count()}\")\n",
    "    evaluator_rmse = RegressionEvaluator(\n",
    "        metricName=\"rmse\", labelCol=\"star_rating\", predictionCol=\"prediction\"\n",
    "    )\n",
    "    rmse = evaluator_rmse.evaluate(predictions)\n",
    "    print(f\"Root-mean-square error = {rmse}\")\n",
    "\n",
    "    evaluator_mae = RegressionEvaluator(\n",
    "        metricName=\"mae\", labelCol=\"star_rating\", predictionCol=\"prediction\"\n",
    "    )\n",
    "    mae = evaluator_mae.evaluate(predictions)\n",
    "    print(f\"Mean absolute error = {mae}\")\n",
    "\n",
    "    return rmse, mae"
   ]
  },
  {
   "cell_type": "code",
   "execution_count": 48,
   "metadata": {},
   "outputs": [
    {
     "name": "stdout",
     "output_type": "stream",
     "text": [
      "Predictions count: 3\n",
      "Root-mean-square error = 4.358898943540674\n",
      "Mean absolute error = 4.333333333333333\n"
     ]
    },
    {
     "name": "stderr",
     "output_type": "stream",
     "text": [
      "                                                                                \r"
     ]
    },
    {
     "data": {
      "text/plain": [
       "(4.358898943540674, 4.333333333333333)"
      ]
     },
     "execution_count": 48,
     "metadata": {},
     "output_type": "execute_result"
    }
   ],
   "source": [
    "get_metrics(test, model)"
   ]
  },
  {
   "cell_type": "code",
   "execution_count": 49,
   "metadata": {},
   "outputs": [
    {
     "name": "stderr",
     "output_type": "stream",
     "text": [
      "                                                                                \r"
     ]
    },
    {
     "name": "stdout",
     "output_type": "stream",
     "text": [
      "Predictions count: 3\n",
      "Root-mean-square error = 2.998836596938872\n"
     ]
    },
    {
     "name": "stderr",
     "output_type": "stream",
     "text": [
      "[Stage 348:>                                                        (0 + 2) / 2]\r"
     ]
    },
    {
     "name": "stdout",
     "output_type": "stream",
     "text": [
      "Mean absolute error = 2.3298346201578775\n"
     ]
    },
    {
     "name": "stderr",
     "output_type": "stream",
     "text": [
      "                                                                                \r"
     ]
    },
    {
     "data": {
      "text/plain": [
       "(2.998836596938872, 2.3298346201578775)"
      ]
     },
     "execution_count": 49,
     "metadata": {},
     "output_type": "execute_result"
    }
   ],
   "source": [
    "get_metrics(validation, model)"
   ]
  },
  {
   "cell_type": "code",
   "execution_count": 50,
   "metadata": {},
   "outputs": [],
   "source": [
    "parameters = {\"maxIter\": [5, 10, 15], \"regParam\": [0.001, 0.01, 0.1]}\n",
    "param_combinations = list(itertools.product(*parameters.values()))\n",
    "tuning_parameters = [\n",
    "    {\"maxIter\": maxIter, \"regParam\": regParam}\n",
    "    for maxIter, regParam in param_combinations\n",
    "]"
   ]
  },
  {
   "cell_type": "code",
   "execution_count": 51,
   "metadata": {},
   "outputs": [
    {
     "name": "stdout",
     "output_type": "stream",
     "text": [
      "Parameters: {'maxIter': 5, 'regParam': 0.001}\n"
     ]
    },
    {
     "name": "stderr",
     "output_type": "stream",
     "text": [
      "                                                                                \r"
     ]
    },
    {
     "name": "stdout",
     "output_type": "stream",
     "text": [
      "Predictions count: 3\n"
     ]
    },
    {
     "name": "stderr",
     "output_type": "stream",
     "text": [
      "                                                                                \r"
     ]
    },
    {
     "name": "stdout",
     "output_type": "stream",
     "text": [
      "Root-mean-square error = 2.9999550755487627\n"
     ]
    },
    {
     "name": "stderr",
     "output_type": "stream",
     "text": [
      "                                                                                \r"
     ]
    },
    {
     "name": "stdout",
     "output_type": "stream",
     "text": [
      "Mean absolute error = 2.3331985473632812\n",
      "-----------------------------------------\n",
      "Parameters: {'maxIter': 5, 'regParam': 0.01}\n"
     ]
    },
    {
     "name": "stderr",
     "output_type": "stream",
     "text": [
      "                                                                                \r"
     ]
    },
    {
     "name": "stdout",
     "output_type": "stream",
     "text": [
      "Predictions count: 3\n"
     ]
    },
    {
     "name": "stderr",
     "output_type": "stream",
     "text": [
      "                                                                                \r"
     ]
    },
    {
     "name": "stdout",
     "output_type": "stream",
     "text": [
      "Root-mean-square error = 2.999589635741288\n"
     ]
    },
    {
     "name": "stderr",
     "output_type": "stream",
     "text": [
      "                                                                                \r"
     ]
    },
    {
     "name": "stdout",
     "output_type": "stream",
     "text": [
      "Mean absolute error = 2.3321011861165366\n",
      "-----------------------------------------\n",
      "Parameters: {'maxIter': 5, 'regParam': 0.1}\n"
     ]
    },
    {
     "name": "stderr",
     "output_type": "stream",
     "text": [
      "                                                                                \r"
     ]
    },
    {
     "name": "stdout",
     "output_type": "stream",
     "text": [
      "Predictions count: 3\n"
     ]
    },
    {
     "name": "stderr",
     "output_type": "stream",
     "text": [
      "                                                                                \r"
     ]
    },
    {
     "name": "stdout",
     "output_type": "stream",
     "text": [
      "Root-mean-square error = 2.998836596938872\n"
     ]
    },
    {
     "name": "stderr",
     "output_type": "stream",
     "text": [
      "                                                                                \r"
     ]
    },
    {
     "name": "stdout",
     "output_type": "stream",
     "text": [
      "Mean absolute error = 2.3298346201578775\n",
      "-----------------------------------------\n",
      "Parameters: {'maxIter': 10, 'regParam': 0.001}\n"
     ]
    },
    {
     "name": "stderr",
     "output_type": "stream",
     "text": [
      "                                                                                \r"
     ]
    },
    {
     "name": "stdout",
     "output_type": "stream",
     "text": [
      "Predictions count: 3\n"
     ]
    },
    {
     "name": "stderr",
     "output_type": "stream",
     "text": [
      "                                                                                \r"
     ]
    },
    {
     "name": "stdout",
     "output_type": "stream",
     "text": [
      "Root-mean-square error = 2.99984523680335\n"
     ]
    },
    {
     "name": "stderr",
     "output_type": "stream",
     "text": [
      "                                                                                \r"
     ]
    },
    {
     "name": "stdout",
     "output_type": "stream",
     "text": [
      "Mean absolute error = 2.3328688939412436\n",
      "-----------------------------------------\n",
      "Parameters: {'maxIter': 10, 'regParam': 0.01}\n"
     ]
    },
    {
     "name": "stderr",
     "output_type": "stream",
     "text": [
      "                                                                                \r"
     ]
    },
    {
     "name": "stdout",
     "output_type": "stream",
     "text": [
      "Predictions count: 3\n"
     ]
    },
    {
     "name": "stderr",
     "output_type": "stream",
     "text": [
      "                                                                                \r"
     ]
    },
    {
     "name": "stdout",
     "output_type": "stream",
     "text": [
      "Root-mean-square error = 2.998530045163354\n"
     ]
    },
    {
     "name": "stderr",
     "output_type": "stream",
     "text": [
      "                                                                                \r"
     ]
    },
    {
     "name": "stdout",
     "output_type": "stream",
     "text": [
      "Mean absolute error = 2.3289098739624023\n",
      "-----------------------------------------\n",
      "Parameters: {'maxIter': 10, 'regParam': 0.1}\n"
     ]
    },
    {
     "name": "stderr",
     "output_type": "stream",
     "text": [
      "                                                                                \r"
     ]
    },
    {
     "name": "stdout",
     "output_type": "stream",
     "text": [
      "Predictions count: 3\n"
     ]
    },
    {
     "name": "stderr",
     "output_type": "stream",
     "text": [
      "                                                                                \r"
     ]
    },
    {
     "name": "stdout",
     "output_type": "stream",
     "text": [
      "Root-mean-square error = 2.988458761076085\n"
     ]
    },
    {
     "name": "stderr",
     "output_type": "stream",
     "text": [
      "                                                                                \r"
     ]
    },
    {
     "name": "stdout",
     "output_type": "stream",
     "text": [
      "Mean absolute error = 2.297830899556478\n",
      "-----------------------------------------\n",
      "Parameters: {'maxIter': 15, 'regParam': 0.001}\n"
     ]
    },
    {
     "name": "stderr",
     "output_type": "stream",
     "text": [
      "                                                                                \r"
     ]
    },
    {
     "name": "stdout",
     "output_type": "stream",
     "text": [
      "Predictions count: 3\n"
     ]
    },
    {
     "name": "stderr",
     "output_type": "stream",
     "text": [
      "                                                                                \r"
     ]
    },
    {
     "name": "stdout",
     "output_type": "stream",
     "text": [
      "Root-mean-square error = 2.9997355542234994\n"
     ]
    },
    {
     "name": "stderr",
     "output_type": "stream",
     "text": [
      "                                                                                \r"
     ]
    },
    {
     "name": "stdout",
     "output_type": "stream",
     "text": [
      "Mean absolute error = 2.3325395584106445\n",
      "-----------------------------------------\n",
      "Parameters: {'maxIter': 15, 'regParam': 0.01}\n"
     ]
    },
    {
     "name": "stderr",
     "output_type": "stream",
     "text": [
      "                                                                                \r"
     ]
    },
    {
     "name": "stdout",
     "output_type": "stream",
     "text": [
      "Predictions count: 3\n"
     ]
    },
    {
     "name": "stderr",
     "output_type": "stream",
     "text": [
      "                                                                                \r"
     ]
    },
    {
     "name": "stdout",
     "output_type": "stream",
     "text": [
      "Root-mean-square error = 2.997462281379828\n"
     ]
    },
    {
     "name": "stderr",
     "output_type": "stream",
     "text": [
      "                                                                                \r"
     ]
    },
    {
     "name": "stdout",
     "output_type": "stream",
     "text": [
      "Mean absolute error = 2.3256794611612954\n",
      "-----------------------------------------\n",
      "Parameters: {'maxIter': 15, 'regParam': 0.1}\n"
     ]
    },
    {
     "name": "stderr",
     "output_type": "stream",
     "text": [
      "                                                                                \r"
     ]
    },
    {
     "name": "stdout",
     "output_type": "stream",
     "text": [
      "Predictions count: 3\n"
     ]
    },
    {
     "name": "stderr",
     "output_type": "stream",
     "text": [
      "                                                                                \r"
     ]
    },
    {
     "name": "stdout",
     "output_type": "stream",
     "text": [
      "Root-mean-square error = 2.9773260849300396\n",
      "Mean absolute error = 2.2617225646972656\n",
      "-----------------------------------------\n"
     ]
    },
    {
     "name": "stderr",
     "output_type": "stream",
     "text": [
      "                                                                                \r"
     ]
    }
   ],
   "source": [
    "corresponding_rmse, best_mae, best_parameters = float(\"inf\"), float(\"inf\"), None\n",
    "\n",
    "for parameters_combination in tuning_parameters:\n",
    "    print(f\"Parameters: {parameters_combination}\")\n",
    "    model = train_model(**parameters_combination)\n",
    "    rmse, mae = get_metrics(validation, model)\n",
    "    print(\"-----------------------------------------\")\n",
    "    if mae < best_mae:\n",
    "        best_mae = mae\n",
    "        corresponding_rmse = rmse\n",
    "        best_parameters = parameters_combination"
   ]
  },
  {
   "cell_type": "code",
   "execution_count": 52,
   "metadata": {},
   "outputs": [
    {
     "name": "stdout",
     "output_type": "stream",
     "text": [
      "Best parameters: {'maxIter': 15, 'regParam': 0.1}\n",
      "Best MAE: 2.2617225646972656\n",
      "RMSE corresponding to the best MAE: 2.9773260849300396\n"
     ]
    }
   ],
   "source": [
    "print(f\"Best parameters: {best_parameters}\")\n",
    "print(f\"Best MAE: {mae}\")\n",
    "print(f\"RMSE corresponding to the best MAE: {corresponding_rmse}\")"
   ]
  }
 ],
 "metadata": {
  "kernelspec": {
   "display_name": "proyecto-integrador-semestre-2-CX1LVKjs",
   "language": "python",
   "name": "python3"
  },
  "language_info": {
   "codemirror_mode": {
    "name": "ipython",
    "version": 3
   },
   "file_extension": ".py",
   "mimetype": "text/x-python",
   "name": "python",
   "nbconvert_exporter": "python",
   "pygments_lexer": "ipython3",
   "version": "3.11.8"
  }
 },
 "nbformat": 4,
 "nbformat_minor": 2
}
