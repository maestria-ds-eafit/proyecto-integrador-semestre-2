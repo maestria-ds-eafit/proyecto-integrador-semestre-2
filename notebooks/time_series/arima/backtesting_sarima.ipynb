{
 "cells": [
  {
   "cell_type": "code",
   "execution_count": 1,
   "metadata": {},
   "outputs": [],
   "source": [
    "import pandas as pd\n",
    "\n",
    "from sklearn.metrics import root_mean_squared_error  # type: ignore\n",
    "from sklearn.metrics import mean_absolute_error, mean_absolute_percentage_error\n",
    "\n",
    "from skforecast.Sarimax import Sarimax\n",
    "from skforecast.ForecasterSarimax import ForecasterSarimax\n",
    "from skforecast.model_selection_sarimax import backtesting_sarimax"
   ]
  },
  {
   "cell_type": "code",
   "execution_count": 2,
   "metadata": {},
   "outputs": [],
   "source": [
    "train_df = pd.read_parquet(\"../../../data/time_series/train_df.parquet\").asfreq(\"D\")\n",
    "validation_df = pd.read_parquet(\n",
    "    \"../../../data/time_series/validation_df.parquet\"\n",
    ").asfreq(\"D\")\n",
    "test_df = pd.read_parquet(\"../../../data/time_series/test_df.parquet\").asfreq(\"D\")"
   ]
  },
  {
   "cell_type": "code",
   "execution_count": 3,
   "metadata": {},
   "outputs": [],
   "source": [
    "train_and_validation_df = pd.concat([train_df, validation_df])\n",
    "df = pd.concat([train_df, validation_df, test_df])"
   ]
  },
  {
   "cell_type": "code",
   "execution_count": 4,
   "metadata": {},
   "outputs": [],
   "source": [
    "arima_order = (0, 1, 3)\n",
    "seasonal_order = (2, 0, 0, 7)"
   ]
  },
  {
   "cell_type": "code",
   "execution_count": 5,
   "metadata": {},
   "outputs": [
    {
     "name": "stdout",
     "output_type": "stream",
     "text": [
      "Information of backtesting process\n",
      "----------------------------------\n",
      "Number of observations used for initial training: 5001\n",
      "Number of observations used for backtesting: 51\n",
      "    Number of folds: 2\n",
      "    Number of steps per fold: 30\n",
      "    Number of steps to exclude from the end of each train set before test (gap): 0\n",
      "    Last fold only includes 21 observations.\n",
      "\n",
      "Fold: 0\n",
      "    Training:   2001-11-01 00:00:00 -- 2015-07-11 00:00:00  (n=5001)\n",
      "    Validation: 2015-07-12 00:00:00 -- 2015-08-10 00:00:00  (n=30)\n",
      "Fold: 1\n",
      "    Training:   2001-11-01 00:00:00 -- 2015-08-10 00:00:00  (n=5031)\n",
      "    Validation: 2015-08-11 00:00:00 -- 2015-08-31 00:00:00  (n=21)\n",
      "\n"
     ]
    },
    {
     "data": {
      "application/vnd.jupyter.widget-view+json": {
       "model_id": "bbbd7cd5ea1444ebb468e899fe558690",
       "version_major": 2,
       "version_minor": 0
      },
      "text/plain": [
       "  0%|          | 0/2 [00:00<?, ?it/s]"
      ]
     },
     "metadata": {},
     "output_type": "display_data"
    },
    {
     "name": "stdout",
     "output_type": "stream",
     "text": [
      "RMSE: 11647.80376617601\n",
      "MAE: 9122.899726245927\n",
      "MAPE: 0.11621801161370673\n"
     ]
    }
   ],
   "source": [
    "forecaster = ForecasterSarimax(\n",
    "    regressor=Sarimax(order=arima_order, seasonal_order=seasonal_order, maxiter=200)  # type: ignore\n",
    ")\n",
    "\n",
    "result = backtesting_sarimax(\n",
    "    forecaster=forecaster,\n",
    "    y=df[\"gap\"],\n",
    "    initial_train_size=len(train_and_validation_df) - 7 * 3,\n",
    "    fixed_train_size=False,\n",
    "    steps=len(test_df),\n",
    "    metric=[\n",
    "        root_mean_squared_error,\n",
    "        mean_absolute_error,\n",
    "        mean_absolute_percentage_error,\n",
    "    ],\n",
    "    refit=True,\n",
    "    n_jobs=\"auto\",\n",
    "    suppress_warnings_fit=True,\n",
    "    verbose=True,\n",
    "    show_progress=True,\n",
    ")\n",
    "\n",
    "print(f\"RMSE: {result[0][0]}\")\n",
    "print(f\"MAE: {result[0][1]}\")\n",
    "print(f\"MAPE: {result[0][2]}\")"
   ]
  }
 ],
 "metadata": {
  "kernelspec": {
   "display_name": ".venv",
   "language": "python",
   "name": "python3"
  },
  "language_info": {
   "codemirror_mode": {
    "name": "ipython",
    "version": 3
   },
   "file_extension": ".py",
   "mimetype": "text/x-python",
   "name": "python",
   "nbconvert_exporter": "python",
   "pygments_lexer": "ipython3",
   "version": "3.11.8"
  }
 },
 "nbformat": 4,
 "nbformat_minor": 2
}
