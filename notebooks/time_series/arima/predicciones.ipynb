{
 "cells": [
  {
   "cell_type": "code",
   "execution_count": 99,
   "metadata": {},
   "outputs": [],
   "source": [
    "import pandas as pd\n",
    "import matplotlib.pyplot as plt\n",
    "import arima as arima_utils\n",
    "import numpy as np\n",
    "\n",
    "from statsmodels.tsa.statespace.sarimax import SARIMAX\n",
    "from importlib import reload"
   ]
  },
  {
   "cell_type": "code",
   "execution_count": 100,
   "metadata": {},
   "outputs": [
    {
     "data": {
      "text/plain": [
       "<module 'arima' from '/Users/david/eafit/proyecto-integrador-semestre-2/notebooks/time_series/arima/arima.py'>"
      ]
     },
     "execution_count": 100,
     "metadata": {},
     "output_type": "execute_result"
    }
   ],
   "source": [
    "reload(arima_utils)"
   ]
  },
  {
   "cell_type": "code",
   "execution_count": 101,
   "metadata": {},
   "outputs": [],
   "source": [
    "train_df = pd.read_parquet(\"../../../data/time_series/train_df.parquet\").asfreq(\"D\")\n",
    "validation_df = pd.read_parquet(\n",
    "    \"../../../data/time_series/validation_df.parquet\"\n",
    ").asfreq(\"D\")\n",
    "test_df = pd.read_parquet(\"../../../data/time_series/test_df.parquet\").asfreq(\"D\")"
   ]
  },
  {
   "cell_type": "code",
   "execution_count": 102,
   "metadata": {},
   "outputs": [],
   "source": [
    "df = pd.concat([train_df, validation_df, test_df])"
   ]
  },
  {
   "cell_type": "code",
   "execution_count": 103,
   "metadata": {},
   "outputs": [],
   "source": [
    "arima_order = (0, 1, 3)\n",
    "seasonal_order = (2, 0, 0, 7)"
   ]
  },
  {
   "cell_type": "code",
   "execution_count": 104,
   "metadata": {},
   "outputs": [],
   "source": [
    "values = df[\"gap\"].to_numpy()"
   ]
  },
  {
   "cell_type": "code",
   "execution_count": 105,
   "metadata": {},
   "outputs": [],
   "source": [
    "model = SARIMAX(values, order=arima_order, seasonal_order=seasonal_order)\n",
    "model_fit = model.fit(disp=False)"
   ]
  },
  {
   "cell_type": "code",
   "execution_count": 106,
   "metadata": {},
   "outputs": [
    {
     "data": {
      "text/html": [
       "<table class=\"simpletable\">\n",
       "<caption>SARIMAX Results</caption>\n",
       "<tr>\n",
       "  <th>Dep. Variable:</th>                  <td>y</td>               <th>  No. Observations:  </th>    <td>5052</td>   \n",
       "</tr>\n",
       "<tr>\n",
       "  <th>Model:</th>           <td>SARIMAX(0, 1, 3)x(2, 0, [], 7)</td> <th>  Log Likelihood     </th> <td>-49353.482</td>\n",
       "</tr>\n",
       "<tr>\n",
       "  <th>Date:</th>                   <td>Fri, 07 Jun 2024</td>        <th>  AIC                </th>  <td>98718.964</td>\n",
       "</tr>\n",
       "<tr>\n",
       "  <th>Time:</th>                       <td>15:51:15</td>            <th>  BIC                </th>  <td>98758.128</td>\n",
       "</tr>\n",
       "<tr>\n",
       "  <th>Sample:</th>                         <td>0</td>               <th>  HQIC               </th>  <td>98732.683</td>\n",
       "</tr>\n",
       "<tr>\n",
       "  <th></th>                             <td> - 5052</td>            <th>                     </th>      <td> </td>    \n",
       "</tr>\n",
       "<tr>\n",
       "  <th>Covariance Type:</th>               <td>opg</td>              <th>                     </th>      <td> </td>    \n",
       "</tr>\n",
       "</table>\n",
       "<table class=\"simpletable\">\n",
       "<tr>\n",
       "      <td></td>        <th>coef</th>     <th>std err</th>      <th>z</th>      <th>P>|z|</th>  <th>[0.025</th>    <th>0.975]</th>  \n",
       "</tr>\n",
       "<tr>\n",
       "  <th>ma.L1</th>    <td>   -0.6232</td> <td>    0.006</td> <td> -107.344</td> <td> 0.000</td> <td>   -0.635</td> <td>   -0.612</td>\n",
       "</tr>\n",
       "<tr>\n",
       "  <th>ma.L2</th>    <td>   -0.2073</td> <td>    0.007</td> <td>  -28.468</td> <td> 0.000</td> <td>   -0.222</td> <td>   -0.193</td>\n",
       "</tr>\n",
       "<tr>\n",
       "  <th>ma.L3</th>    <td>    0.0258</td> <td>    0.006</td> <td>    4.592</td> <td> 0.000</td> <td>    0.015</td> <td>    0.037</td>\n",
       "</tr>\n",
       "<tr>\n",
       "  <th>ar.S.L7</th>  <td>    0.2055</td> <td>    0.006</td> <td>   35.839</td> <td> 0.000</td> <td>    0.194</td> <td>    0.217</td>\n",
       "</tr>\n",
       "<tr>\n",
       "  <th>ar.S.L14</th> <td>    0.0986</td> <td>    0.005</td> <td>   18.066</td> <td> 0.000</td> <td>    0.088</td> <td>    0.109</td>\n",
       "</tr>\n",
       "<tr>\n",
       "  <th>sigma2</th>   <td> 1.888e+07</td> <td> 8.58e-11</td> <td>  2.2e+17</td> <td> 0.000</td> <td> 1.89e+07</td> <td> 1.89e+07</td>\n",
       "</tr>\n",
       "</table>\n",
       "<table class=\"simpletable\">\n",
       "<tr>\n",
       "  <th>Ljung-Box (L1) (Q):</th>      <td>0.01</td>  <th>  Jarque-Bera (JB):  </th> <td>274199.68</td>\n",
       "</tr>\n",
       "<tr>\n",
       "  <th>Prob(Q):</th>                 <td>0.92</td>  <th>  Prob(JB):          </th>   <td>0.00</td>   \n",
       "</tr>\n",
       "<tr>\n",
       "  <th>Heteroskedasticity (H):</th> <td>843.85</td> <th>  Skew:              </th>   <td>2.52</td>   \n",
       "</tr>\n",
       "<tr>\n",
       "  <th>Prob(H) (two-sided):</th>     <td>0.00</td>  <th>  Kurtosis:          </th>   <td>38.74</td>  \n",
       "</tr>\n",
       "</table><br/><br/>Warnings:<br/>[1] Covariance matrix calculated using the outer product of gradients (complex-step).<br/>[2] Covariance matrix is singular or near-singular, with condition number 9.17e+31. Standard errors may be unstable."
      ],
      "text/latex": [
       "\\begin{center}\n",
       "\\begin{tabular}{lclc}\n",
       "\\toprule\n",
       "\\textbf{Dep. Variable:}          &               y                & \\textbf{  No. Observations:  } &    5052     \\\\\n",
       "\\textbf{Model:}                  & SARIMAX(0, 1, 3)x(2, 0, [], 7) & \\textbf{  Log Likelihood     } & -49353.482  \\\\\n",
       "\\textbf{Date:}                   &        Fri, 07 Jun 2024        & \\textbf{  AIC                } & 98718.964   \\\\\n",
       "\\textbf{Time:}                   &            15:51:15            & \\textbf{  BIC                } & 98758.128   \\\\\n",
       "\\textbf{Sample:}                 &               0                & \\textbf{  HQIC               } & 98732.683   \\\\\n",
       "\\textbf{}                        &             - 5052             & \\textbf{                     } &             \\\\\n",
       "\\textbf{Covariance Type:}        &              opg               & \\textbf{                     } &             \\\\\n",
       "\\bottomrule\n",
       "\\end{tabular}\n",
       "\\begin{tabular}{lcccccc}\n",
       "                  & \\textbf{coef} & \\textbf{std err} & \\textbf{z} & \\textbf{P$> |$z$|$} & \\textbf{[0.025} & \\textbf{0.975]}  \\\\\n",
       "\\midrule\n",
       "\\textbf{ma.L1}    &      -0.6232  &        0.006     &  -107.344  &         0.000        &       -0.635    &       -0.612     \\\\\n",
       "\\textbf{ma.L2}    &      -0.2073  &        0.007     &   -28.468  &         0.000        &       -0.222    &       -0.193     \\\\\n",
       "\\textbf{ma.L3}    &       0.0258  &        0.006     &     4.592  &         0.000        &        0.015    &        0.037     \\\\\n",
       "\\textbf{ar.S.L7}  &       0.2055  &        0.006     &    35.839  &         0.000        &        0.194    &        0.217     \\\\\n",
       "\\textbf{ar.S.L14} &       0.0986  &        0.005     &    18.066  &         0.000        &        0.088    &        0.109     \\\\\n",
       "\\textbf{sigma2}   &    1.888e+07  &     8.58e-11     &   2.2e+17  &         0.000        &     1.89e+07    &     1.89e+07     \\\\\n",
       "\\bottomrule\n",
       "\\end{tabular}\n",
       "\\begin{tabular}{lclc}\n",
       "\\textbf{Ljung-Box (L1) (Q):}     &  0.01  & \\textbf{  Jarque-Bera (JB):  } & 274199.68  \\\\\n",
       "\\textbf{Prob(Q):}                &  0.92  & \\textbf{  Prob(JB):          } &    0.00    \\\\\n",
       "\\textbf{Heteroskedasticity (H):} & 843.85 & \\textbf{  Skew:              } &    2.52    \\\\\n",
       "\\textbf{Prob(H) (two-sided):}    &  0.00  & \\textbf{  Kurtosis:          } &   38.74    \\\\\n",
       "\\bottomrule\n",
       "\\end{tabular}\n",
       "%\\caption{SARIMAX Results}\n",
       "\\end{center}\n",
       "\n",
       "Warnings: \\newline\n",
       " [1] Covariance matrix calculated using the outer product of gradients (complex-step). \\newline\n",
       " [2] Covariance matrix is singular or near-singular, with condition number 9.17e+31. Standard errors may be unstable."
      ],
      "text/plain": [
       "<class 'statsmodels.iolib.summary.Summary'>\n",
       "\"\"\"\n",
       "                                     SARIMAX Results                                      \n",
       "==========================================================================================\n",
       "Dep. Variable:                                  y   No. Observations:                 5052\n",
       "Model:             SARIMAX(0, 1, 3)x(2, 0, [], 7)   Log Likelihood              -49353.482\n",
       "Date:                            Fri, 07 Jun 2024   AIC                          98718.964\n",
       "Time:                                    15:51:15   BIC                          98758.128\n",
       "Sample:                                         0   HQIC                         98732.683\n",
       "                                           - 5052                                         \n",
       "Covariance Type:                              opg                                         \n",
       "==============================================================================\n",
       "                 coef    std err          z      P>|z|      [0.025      0.975]\n",
       "------------------------------------------------------------------------------\n",
       "ma.L1         -0.6232      0.006   -107.344      0.000      -0.635      -0.612\n",
       "ma.L2         -0.2073      0.007    -28.468      0.000      -0.222      -0.193\n",
       "ma.L3          0.0258      0.006      4.592      0.000       0.015       0.037\n",
       "ar.S.L7        0.2055      0.006     35.839      0.000       0.194       0.217\n",
       "ar.S.L14       0.0986      0.005     18.066      0.000       0.088       0.109\n",
       "sigma2      1.888e+07   8.58e-11    2.2e+17      0.000    1.89e+07    1.89e+07\n",
       "===================================================================================\n",
       "Ljung-Box (L1) (Q):                   0.01   Jarque-Bera (JB):            274199.68\n",
       "Prob(Q):                              0.92   Prob(JB):                         0.00\n",
       "Heteroskedasticity (H):             843.85   Skew:                             2.52\n",
       "Prob(H) (two-sided):                  0.00   Kurtosis:                        38.74\n",
       "===================================================================================\n",
       "\n",
       "Warnings:\n",
       "[1] Covariance matrix calculated using the outer product of gradients (complex-step).\n",
       "[2] Covariance matrix is singular or near-singular, with condition number 9.17e+31. Standard errors may be unstable.\n",
       "\"\"\""
      ]
     },
     "execution_count": 106,
     "metadata": {},
     "output_type": "execute_result"
    }
   ],
   "source": [
    "model_fit.summary()  # type: ignore"
   ]
  },
  {
   "cell_type": "code",
   "execution_count": 107,
   "metadata": {},
   "outputs": [],
   "source": [
    "number_of_predictions = 365"
   ]
  },
  {
   "cell_type": "code",
   "execution_count": 108,
   "metadata": {},
   "outputs": [],
   "source": [
    "for i in range(number_of_predictions):\n",
    "    prediction = model_fit.forecast()  # type: ignore\n",
    "    values = np.append(values, prediction.mean())\n",
    "    model = SARIMAX(values, order=arima_order, seasonal_order=seasonal_order)\n",
    "    model_fit = model.fit(disp=False)"
   ]
  },
  {
   "cell_type": "code",
   "execution_count": 109,
   "metadata": {},
   "outputs": [
    {
     "data": {
      "image/png": "[encoded data removed]",
      "text/plain": [
       "<Figure size 1000x600 with 1 Axes>"
      ]
     },
     "metadata": {},
     "output_type": "display_data"
    }
   ],
   "source": [
    "plt.figure(figsize=(10, 6))\n",
    "plt.plot(values[-number_of_predictions:], label=\"Predictions\")\n",
    "plt.title(\"SARIMA Model\")\n",
    "plt.xlabel(\"Date\")\n",
    "plt.ylabel(\"Values\")\n",
    "plt.legend()\n",
    "plt.show()"
   ]
  },
  {
   "cell_type": "code",
   "execution_count": null,
   "metadata": {},
   "outputs": [],
   "source": []
  }
 ],
 "metadata": {
  "kernelspec": {
   "display_name": ".venv",
   "language": "python",
   "name": "python3"
  },
  "language_info": {
   "codemirror_mode": {
    "name": "ipython",
    "version": 3
   },
   "file_extension": ".py",
   "mimetype": "text/x-python",
   "name": "python",
   "nbconvert_exporter": "python",
   "pygments_lexer": "ipython3",
   "version": "3.11.8"
  }
 },
 "nbformat": 4,
 "nbformat_minor": 2
}
