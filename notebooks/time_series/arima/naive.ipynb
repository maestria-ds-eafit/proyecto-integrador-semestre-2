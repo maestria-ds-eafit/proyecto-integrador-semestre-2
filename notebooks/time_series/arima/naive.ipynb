{
 "cells": [
  {
   "cell_type": "code",
   "execution_count": 1,
   "metadata": {},
   "outputs": [],
   "source": [
    "import pandas as pd\n",
    "from arima import (\n",
    "    naive_model,\n",
    ")"
   ]
  },
  {
   "cell_type": "markdown",
   "metadata": {},
   "source": [
    "## Lectura de la data\n"
   ]
  },
  {
   "cell_type": "code",
   "execution_count": 2,
   "metadata": {},
   "outputs": [],
   "source": [
    "train_df = pd.read_parquet(\"../../../data/time_series/train_df.parquet\").asfreq(\"D\")\n",
    "validation_df = pd.read_parquet(\n",
    "    \"../../../data/time_series/validation_df.parquet\"\n",
    ").asfreq(\"D\")\n",
    "test_df = pd.read_parquet(\"../../../data/time_series/test_df.parquet\").asfreq(\"D\")"
   ]
  },
  {
   "cell_type": "code",
   "execution_count": 3,
   "metadata": {},
   "outputs": [],
   "source": [
    "train_and_validation_df = pd.concat([train_df, validation_df])"
   ]
  },
  {
   "cell_type": "code",
   "execution_count": 4,
   "metadata": {},
   "outputs": [
    {
     "name": "stdout",
     "output_type": "stream",
     "text": [
      "Naive approach:\n",
      "RMSE: 14733.525809074577\n",
      "MAPE: 14.42%\n",
      "MAE: 11865.966666666667\n"
     ]
    }
   ],
   "source": [
    "rmse_naive, mape_naive = naive_model(\n",
    "    train_df=train_and_validation_df, test_df=test_df, column_name=\"gap\"\n",
    ")"
   ]
  }
 ],
 "metadata": {
  "kernelspec": {
   "display_name": ".venv",
   "language": "python",
   "name": "python3"
  },
  "language_info": {
   "codemirror_mode": {
    "name": "ipython",
    "version": 3
   },
   "file_extension": ".py",
   "mimetype": "text/x-python",
   "name": "python",
   "nbconvert_exporter": "python",
   "pygments_lexer": "ipython3",
   "version": "3.11.8"
  }
 },
 "nbformat": 4,
 "nbformat_minor": 2
}
