{
 "cells": [
  {
   "cell_type": "markdown",
   "metadata": {},
   "source": [
    "# Librerías\n"
   ]
  },
  {
   "cell_type": "code",
   "execution_count": 1,
   "metadata": {},
   "outputs": [],
   "source": [
    "import pandas as pd\n",
    "import matplotlib.pyplot as plt\n",
    "from arima import (\n",
    "    arima_rolling_training_rolling_prediction,\n",
    "    plot_arima,\n",
    ")\n",
    "from sklearn.metrics import root_mean_squared_error  # type: ignore\n",
    "from sklearn.metrics import mean_absolute_error, mean_absolute_percentage_error\n",
    "from pmdarima import auto_arima"
   ]
  },
  {
   "cell_type": "markdown",
   "metadata": {},
   "source": [
    "## Leemos la data\n"
   ]
  },
  {
   "cell_type": "code",
   "execution_count": 2,
   "metadata": {},
   "outputs": [],
   "source": [
    "train_df = pd.read_parquet(\"../../../data/time_series/train_df.parquet\").asfreq(\"D\")\n",
    "validation_df = pd.read_parquet(\n",
    "    \"../../../data/time_series/validation_df.parquet\"\n",
    ").asfreq(\"D\")\n",
    "test_df = pd.read_parquet(\"../../../data/time_series/test_df.parquet\").asfreq(\"D\")"
   ]
  },
  {
   "cell_type": "code",
   "execution_count": 3,
   "metadata": {},
   "outputs": [],
   "source": [
    "train_and_validation_df = pd.concat([train_df, validation_df])\n",
    "df = pd.concat([train_df, validation_df, test_df])"
   ]
  },
  {
   "cell_type": "markdown",
   "metadata": {},
   "source": [
    "# AUTO ARIMA\n",
    "\n",
    "Primero vamos a encontrar el modelo ARIMA óptimo para la serie de tiempo. Para esto vamos a utilizar la función auto_arima de la librería pmdarima.\n"
   ]
  },
  {
   "cell_type": "code",
   "execution_count": 4,
   "metadata": {},
   "outputs": [
    {
     "name": "stderr",
     "output_type": "stream",
     "text": [
      "/Users/david/eafit/proyecto-integrador-semestre-2/.venv/lib/python3.11/site-packages/pmdarima/arima/_validation.py:62: UserWarning: m (7) set for non-seasonal fit. Setting to 0\n",
      "  warnings.warn(\"m (%i) set for non-seasonal fit. Setting to 0\" % m)\n"
     ]
    },
    {
     "name": "stdout",
     "output_type": "stream",
     "text": [
      " ARIMA(0,1,0)(0,0,0)[0] intercept   : AIC=99887.366, Time=0.11 sec\n",
      " ARIMA(0,1,1)(0,0,0)[0] intercept   : AIC=98498.736, Time=0.49 sec\n",
      " ARIMA(0,1,2)(0,0,0)[0] intercept   : AIC=98240.929, Time=0.84 sec\n",
      " ARIMA(0,1,3)(0,0,0)[0] intercept   : AIC=98237.459, Time=1.31 sec\n",
      " ARIMA(0,1,4)(0,0,0)[0] intercept   : AIC=98150.693, Time=0.92 sec\n",
      " ARIMA(0,1,5)(0,0,0)[0] intercept   : AIC=98132.244, Time=1.24 sec\n",
      " ARIMA(1,1,0)(0,0,0)[0] intercept   : AIC=99452.685, Time=0.34 sec\n",
      " ARIMA(1,1,1)(0,0,0)[0] intercept   : AIC=98285.215, Time=0.80 sec\n",
      " ARIMA(1,1,2)(0,0,0)[0] intercept   : AIC=98243.466, Time=0.76 sec\n",
      " ARIMA(1,1,3)(0,0,0)[0] intercept   : AIC=98178.027, Time=1.61 sec\n",
      " ARIMA(1,1,4)(0,0,0)[0] intercept   : AIC=98135.247, Time=1.20 sec\n",
      " ARIMA(2,1,0)(0,0,0)[0] intercept   : AIC=98978.445, Time=0.45 sec\n",
      " ARIMA(2,1,1)(0,0,0)[0] intercept   : AIC=98196.285, Time=0.68 sec\n",
      " ARIMA(2,1,2)(0,0,0)[0] intercept   : AIC=98099.441, Time=1.67 sec\n",
      " ARIMA(2,1,3)(0,0,0)[0] intercept   : AIC=inf, Time=3.54 sec\n",
      " ARIMA(3,1,0)(0,0,0)[0] intercept   : AIC=98670.908, Time=0.53 sec\n",
      " ARIMA(3,1,1)(0,0,0)[0] intercept   : AIC=98172.447, Time=0.85 sec\n",
      " ARIMA(3,1,2)(0,0,0)[0] intercept   : AIC=98214.495, Time=1.25 sec\n",
      " ARIMA(4,1,0)(0,0,0)[0] intercept   : AIC=98540.914, Time=0.65 sec\n",
      " ARIMA(4,1,1)(0,0,0)[0] intercept   : AIC=98148.229, Time=1.07 sec\n",
      " ARIMA(5,1,0)(0,0,0)[0] intercept   : AIC=98240.420, Time=0.81 sec\n",
      "\n",
      "Best model:  ARIMA(2,1,2)(0,0,0)[0] intercept\n",
      "Total fit time: 21.112 seconds\n",
      "                               SARIMAX Results                                \n",
      "==============================================================================\n",
      "Dep. Variable:                      y   No. Observations:                 5022\n",
      "Model:               SARIMAX(2, 1, 2)   Log Likelihood              -49043.721\n",
      "Date:                Fri, 31 May 2024   AIC                          98099.441\n",
      "Time:                        19:12:07   BIC                          98138.569\n",
      "Sample:                             0   HQIC                         98113.152\n",
      "                               - 5022                                         \n",
      "Covariance Type:                  opg                                         \n",
      "==============================================================================\n",
      "                 coef    std err          z      P>|z|      [0.025      0.975]\n",
      "------------------------------------------------------------------------------\n",
      "intercept      6.5172      8.718      0.748      0.455     -10.570      23.605\n",
      "ar.L1          0.8792      0.012     71.154      0.000       0.855       0.903\n",
      "ar.L2         -0.3896      0.007    -56.337      0.000      -0.403      -0.376\n",
      "ma.L1         -1.4587      0.013   -115.968      0.000      -1.483      -1.434\n",
      "ma.L2          0.6147      0.010     60.055      0.000       0.595       0.635\n",
      "sigma2      1.651e+07      0.000   4.01e+10      0.000    1.65e+07    1.65e+07\n",
      "===================================================================================\n",
      "Ljung-Box (L1) (Q):                   0.85   Jarque-Bera (JB):            250590.99\n",
      "Prob(Q):                              0.36   Prob(JB):                         0.00\n",
      "Heteroskedasticity (H):             726.70   Skew:                             2.46\n",
      "Prob(H) (two-sided):                  0.00   Kurtosis:                        37.26\n",
      "===================================================================================\n",
      "\n",
      "Warnings:\n",
      "[1] Covariance matrix calculated using the outer product of gradients (complex-step).\n",
      "[2] Covariance matrix is singular or near-singular, with condition number 1.3e+25. Standard errors may be unstable.\n"
     ]
    }
   ],
   "source": [
    "auto_arima_model = auto_arima(\n",
    "    train_and_validation_df[\"gap\"],\n",
    "    max_p=10,\n",
    "    m=7,\n",
    "    maxiter=500,\n",
    "    seasonal=False,\n",
    "    trace=True,\n",
    "    error_action=\"ignore\",\n",
    "    suppress_warnings=True,\n",
    "    stepwise=False,\n",
    "    out_of_sample_size=len(validation_df),\n",
    ")\n",
    "\n",
    "# Resumen del modelo\n",
    "print(auto_arima_model.summary())"
   ]
  },
  {
   "cell_type": "code",
   "execution_count": 5,
   "metadata": {},
   "outputs": [
    {
     "name": "stdout",
     "output_type": "stream",
     "text": [
      "AUTO SARIMA ARIMA order: (2, 1, 2)\n"
     ]
    }
   ],
   "source": [
    "arima_order = auto_arima_model.get_params().get(\"order\")\n",
    "print(f\"AUTO ARIMA ARIMA order: {arima_order}\")"
   ]
  },
  {
   "cell_type": "markdown",
   "metadata": {},
   "source": [
    "# Predicciones\n"
   ]
  },
  {
   "cell_type": "code",
   "execution_count": 6,
   "metadata": {},
   "outputs": [],
   "source": [
    "predictions = auto_arima_model.predict(len(test_df[\"gap\"]))"
   ]
  },
  {
   "cell_type": "markdown",
   "metadata": {},
   "source": [
    "## Grafica de resultados\n"
   ]
  },
  {
   "cell_type": "code",
   "execution_count": 7,
   "metadata": {},
   "outputs": [
    {
     "data": {
      "image/png": "[encoded data removed]",
      "text/plain": [
       "<Figure size 700x300 with 1 Axes>"
      ]
     },
     "metadata": {},
     "output_type": "display_data"
    }
   ],
   "source": [
    "fig, ax = plt.subplots(figsize=(7, 3))\n",
    "test_df[\"gap\"].plot(ax=ax, label=\"test\")\n",
    "plt.plot(test_df[\"gap\"].index, predictions, label=\"predictions test\")\n",
    "ax.set_title(\"Predicciones con el mejor modelo ARIMA vs test\")\n",
    "ax.legend()\n",
    "plt.show()"
   ]
  },
  {
   "cell_type": "code",
   "execution_count": 8,
   "metadata": {},
   "outputs": [],
   "source": [
    "rmse = root_mean_squared_error(test_df[\"gap\"], predictions)\n",
    "mape = mean_absolute_percentage_error(test_df[\"gap\"], predictions)\n",
    "mae = mean_absolute_error(test_df[\"gap\"], predictions)"
   ]
  },
  {
   "cell_type": "code",
   "execution_count": 9,
   "metadata": {},
   "outputs": [
    {
     "name": "stdout",
     "output_type": "stream",
     "text": [
      "RMSE: 11728.961704473593\n",
      "MAPE: 0.11586690569381465\n",
      "MAE: 9539.712456550158\n"
     ]
    }
   ],
   "source": [
    "print(f\"RMSE: {rmse}\")\n",
    "print(f\"MAPE: {mape}\")\n",
    "print(f\"MAE: {mae}\")"
   ]
  },
  {
   "cell_type": "markdown",
   "metadata": {},
   "source": [
    "# Best model with rolling training rolling prediction\n"
   ]
  },
  {
   "cell_type": "code",
   "execution_count": 10,
   "metadata": {},
   "outputs": [
    {
     "name": "stderr",
     "output_type": "stream",
     "text": [
      "/Users/david/eafit/proyecto-integrador-semestre-2/.venv/lib/python3.11/site-packages/statsmodels/tsa/statespace/sarimax.py:966: UserWarning: Non-stationary starting autoregressive parameters found. Using zeros as starting parameters.\n",
      "  warn('Non-stationary starting autoregressive parameters'\n",
      "/Users/david/eafit/proyecto-integrador-semestre-2/.venv/lib/python3.11/site-packages/statsmodels/tsa/statespace/sarimax.py:978: UserWarning: Non-invertible starting MA parameters found. Using zeros as starting parameters.\n",
      "  warn('Non-invertible starting MA parameters found.'\n"
     ]
    },
    {
     "name": "stdout",
     "output_type": "stream",
     "text": [
      "ARIMA Order: (2, 1, 2)\n",
      "RMSE: 11511.422969469038\n",
      "MAPE: 11.46%\n",
      "MAE: 9209.294720598982\n"
     ]
    }
   ],
   "source": [
    "(\n",
    "    mape_arima_rolling,\n",
    "    rmse_arima_rolling,\n",
    "    [predictions_arima_rolling, values_arima_rolling],\n",
    ") = arima_rolling_training_rolling_prediction(\n",
    "    train_df=train_and_validation_df,\n",
    "    test_df=test_df,\n",
    "    arima_order=arima_order,\n",
    "    column=\"gap\",\n",
    ")"
   ]
  },
  {
   "cell_type": "code",
   "execution_count": 11,
   "metadata": {},
   "outputs": [
    {
     "data": {
      "application/vnd.plotly.v1+json": {
       "config": {
        "plotlyServerURL": "https://plot.ly"
       },
       "data": [
        {
         "hovertemplate": "Series=Valor Real<br>Fecha=%{x}<br>Flete producción mean=%{y}<extra></extra>",
         "legendgroup": "Valor Real",
         "line": {
          "color": "#636efa",
          "dash": "solid"
         },
         "marker": {
          "symbol": "circle"
         },
         "mode": "lines+markers",
         "name": "Valor Real",
         "orientation": "v",
         "showlegend": true,
         "type": "scatter",
         "x": [
          "2015-08-02T00:00:00",
          "2015-08-03T00:00:00",
          "2015-08-04T00:00:00",
          "2015-08-05T00:00:00",
          "2015-08-06T00:00:00",
          "2015-08-07T00:00:00",
          "2015-08-08T00:00:00",
          "2015-08-09T00:00:00",
          "2015-08-10T00:00:00",
          "2015-08-11T00:00:00",
          "2015-08-12T00:00:00",
          "2015-08-13T00:00:00",
          "2015-08-14T00:00:00",
          "2015-08-15T00:00:00",
          "2015-08-16T00:00:00",
          "2015-08-17T00:00:00",
          "2015-08-18T00:00:00",
          "2015-08-19T00:00:00",
          "2015-08-20T00:00:00",
          "2015-08-21T00:00:00",
          "2015-08-22T00:00:00",
          "2015-08-23T00:00:00",
          "2015-08-24T00:00:00",
          "2015-08-25T00:00:00",
          "2015-08-26T00:00:00",
          "2015-08-27T00:00:00",
          "2015-08-28T00:00:00",
          "2015-08-29T00:00:00",
          "2015-08-30T00:00:00",
          "2015-08-31T00:00:00"
         ],
         "xaxis": "x",
         "y": [
          56499,
          65712,
          100339,
          80999,
          96870,
          79060,
          73044,
          77648,
          89887,
          85371,
          80016,
          77471,
          82299,
          73489,
          60586,
          93839,
          100529,
          82260,
          85008,
          79257,
          69344,
          66164,
          93346,
          82358,
          74204,
          91839,
          69723,
          68812,
          74384,
          91991
         ],
         "yaxis": "y"
        },
        {
         "hovertemplate": "Series=Predicción<br>Fecha=%{x}<br>Flete producción mean=%{y}<extra></extra>",
         "legendgroup": "Predicción",
         "line": {
          "color": "#EF553B",
          "dash": "solid"
         },
         "marker": {
          "symbol": "circle"
         },
         "mode": "lines+markers",
         "name": "Predicción",
         "orientation": "v",
         "showlegend": true,
         "type": "scatter",
         "x": [
          "2015-08-02T00:00:00",
          "2015-08-03T00:00:00",
          "2015-08-04T00:00:00",
          "2015-08-05T00:00:00",
          "2015-08-06T00:00:00",
          "2015-08-07T00:00:00",
          "2015-08-08T00:00:00",
          "2015-08-09T00:00:00",
          "2015-08-10T00:00:00",
          "2015-08-11T00:00:00",
          "2015-08-12T00:00:00",
          "2015-08-13T00:00:00",
          "2015-08-14T00:00:00",
          "2015-08-15T00:00:00",
          "2015-08-16T00:00:00",
          "2015-08-17T00:00:00",
          "2015-08-18T00:00:00",
          "2015-08-19T00:00:00",
          "2015-08-20T00:00:00",
          "2015-08-21T00:00:00",
          "2015-08-22T00:00:00",
          "2015-08-23T00:00:00",
          "2015-08-24T00:00:00",
          "2015-08-25T00:00:00",
          "2015-08-26T00:00:00",
          "2015-08-27T00:00:00",
          "2015-08-28T00:00:00",
          "2015-08-29T00:00:00",
          "2015-08-30T00:00:00",
          "2015-08-31T00:00:00"
         ],
         "xaxis": "x",
         "y": [
          70234.07879695966,
          69367.70198054849,
          73684.59735777264,
          86258.00461723436,
          74146.21684923845,
          82221.2171079259,
          75671.23358288343,
          76632.38457917343,
          80999.63222448237,
          86564.13566787225,
          83750.34302640335,
          81785.52747190036,
          81336.73091949204,
          83501.13673602355,
          79023.66068432518,
          73390.26945012584,
          87055.37385646837,
          86262.67548922815,
          77595.7962844661,
          81426.32977535241,
          80798.27390231067,
          78252.90363189498,
          77853.36049147806,
          88580.66192741008,
          80493.09216605185,
          76735.59529526929,
          84628.545415577,
          74454.27446689135,
          75729.67815382042,
          78136.6756746775
         ],
         "yaxis": "y"
        }
       ],
       "layout": {
        "legend": {
         "title": {
          "text": ""
         },
         "tracegroupgap": 0
        },
        "template": {
         "data": {
          "bar": [
           {
            "error_x": {
             "color": "#2a3f5f"
            },
            "error_y": {
             "color": "#2a3f5f"
            },
            "marker": {
             "line": {
              "color": "#E5ECF6",
              "width": 0.5
             },
             "pattern": {
              "fillmode": "overlay",
              "size": 10,
              "solidity": 0.2
             }
            },
            "type": "bar"
           }
          ],
          "barpolar": [
           {
            "marker": {
             "line": {
              "color": "#E5ECF6",
              "width": 0.5
             },
             "pattern": {
              "fillmode": "overlay",
              "size": 10,
              "solidity": 0.2
             }
            },
            "type": "barpolar"
           }
          ],
          "carpet": [
           {
            "aaxis": {
             "endlinecolor": "#2a3f5f",
             "gridcolor": "white",
             "linecolor": "white",
             "minorgridcolor": "white",
             "startlinecolor": "#2a3f5f"
            },
            "baxis": {
             "endlinecolor": "#2a3f5f",
             "gridcolor": "white",
             "linecolor": "white",
             "minorgridcolor": "white",
             "startlinecolor": "#2a3f5f"
            },
            "type": "carpet"
           }
          ],
          "choropleth": [
           {
            "colorbar": {
             "outlinewidth": 0,
             "ticks": ""
            },
            "type": "choropleth"
           }
          ],
          "contour": [
           {
            "colorbar": {
             "outlinewidth": 0,
             "ticks": ""
            },
            "colorscale": [
             [
              0,
              "#0d0887"
             ],
             [
              0.1111111111111111,
              "#46039f"
             ],
             [
              0.2222222222222222,
              "#7201a8"
             ],
             [
              0.3333333333333333,
              "#9c179e"
             ],
             [
              0.4444444444444444,
              "#bd3786"
             ],
             [
              0.5555555555555556,
              "#d8576b"
             ],
             [
              0.6666666666666666,
              "#ed7953"
             ],
             [
              0.7777777777777778,
              "#fb9f3a"
             ],
             [
              0.8888888888888888,
              "#fdca26"
             ],
             [
              1,
              "#f0f921"
             ]
            ],
            "type": "contour"
           }
          ],
          "contourcarpet": [
           {
            "colorbar": {
             "outlinewidth": 0,
             "ticks": ""
            },
            "type": "contourcarpet"
           }
          ],
          "heatmap": [
           {
            "colorbar": {
             "outlinewidth": 0,
             "ticks": ""
            },
            "colorscale": [
             [
              0,
              "#0d0887"
             ],
             [
              0.1111111111111111,
              "#46039f"
             ],
             [
              0.2222222222222222,
              "#7201a8"
             ],
             [
              0.3333333333333333,
              "#9c179e"
             ],
             [
              0.4444444444444444,
              "#bd3786"
             ],
             [
              0.5555555555555556,
              "#d8576b"
             ],
             [
              0.6666666666666666,
              "#ed7953"
             ],
             [
              0.7777777777777778,
              "#fb9f3a"
             ],
             [
              0.8888888888888888,
              "#fdca26"
             ],
             [
              1,
              "#f0f921"
             ]
            ],
            "type": "heatmap"
           }
          ],
          "heatmapgl": [
           {
            "colorbar": {
             "outlinewidth": 0,
             "ticks": ""
            },
            "colorscale": [
             [
              0,
              "#0d0887"
             ],
             [
              0.1111111111111111,
              "#46039f"
             ],
             [
              0.2222222222222222,
              "#7201a8"
             ],
             [
              0.3333333333333333,
              "#9c179e"
             ],
             [
              0.4444444444444444,
              "#bd3786"
             ],
             [
              0.5555555555555556,
              "#d8576b"
             ],
             [
              0.6666666666666666,
              "#ed7953"
             ],
             [
              0.7777777777777778,
              "#fb9f3a"
             ],
             [
              0.8888888888888888,
              "#fdca26"
             ],
             [
              1,
              "#f0f921"
             ]
            ],
            "type": "heatmapgl"
           }
          ],
          "histogram": [
           {
            "marker": {
             "pattern": {
              "fillmode": "overlay",
              "size": 10,
              "solidity": 0.2
             }
            },
            "type": "histogram"
           }
          ],
          "histogram2d": [
           {
            "colorbar": {
             "outlinewidth": 0,
             "ticks": ""
            },
            "colorscale": [
             [
              0,
              "#0d0887"
             ],
             [
              0.1111111111111111,
              "#46039f"
             ],
             [
              0.2222222222222222,
              "#7201a8"
             ],
             [
              0.3333333333333333,
              "#9c179e"
             ],
             [
              0.4444444444444444,
              "#bd3786"
             ],
             [
              0.5555555555555556,
              "#d8576b"
             ],
             [
              0.6666666666666666,
              "#ed7953"
             ],
             [
              0.7777777777777778,
              "#fb9f3a"
             ],
             [
              0.8888888888888888,
              "#fdca26"
             ],
             [
              1,
              "#f0f921"
             ]
            ],
            "type": "histogram2d"
           }
          ],
          "histogram2dcontour": [
           {
            "colorbar": {
             "outlinewidth": 0,
             "ticks": ""
            },
            "colorscale": [
             [
              0,
              "#0d0887"
             ],
             [
              0.1111111111111111,
              "#46039f"
             ],
             [
              0.2222222222222222,
              "#7201a8"
             ],
             [
              0.3333333333333333,
              "#9c179e"
             ],
             [
              0.4444444444444444,
              "#bd3786"
             ],
             [
              0.5555555555555556,
              "#d8576b"
             ],
             [
              0.6666666666666666,
              "#ed7953"
             ],
             [
              0.7777777777777778,
              "#fb9f3a"
             ],
             [
              0.8888888888888888,
              "#fdca26"
             ],
             [
              1,
              "#f0f921"
             ]
            ],
            "type": "histogram2dcontour"
           }
          ],
          "mesh3d": [
           {
            "colorbar": {
             "outlinewidth": 0,
             "ticks": ""
            },
            "type": "mesh3d"
           }
          ],
          "parcoords": [
           {
            "line": {
             "colorbar": {
              "outlinewidth": 0,
              "ticks": ""
             }
            },
            "type": "parcoords"
           }
          ],
          "pie": [
           {
            "automargin": true,
            "type": "pie"
           }
          ],
          "scatter": [
           {
            "fillpattern": {
             "fillmode": "overlay",
             "size": 10,
             "solidity": 0.2
            },
            "type": "scatter"
           }
          ],
          "scatter3d": [
           {
            "line": {
             "colorbar": {
              "outlinewidth": 0,
              "ticks": ""
             }
            },
            "marker": {
             "colorbar": {
              "outlinewidth": 0,
              "ticks": ""
             }
            },
            "type": "scatter3d"
           }
          ],
          "scattercarpet": [
           {
            "marker": {
             "colorbar": {
              "outlinewidth": 0,
              "ticks": ""
             }
            },
            "type": "scattercarpet"
           }
          ],
          "scattergeo": [
           {
            "marker": {
             "colorbar": {
              "outlinewidth": 0,
              "ticks": ""
             }
            },
            "type": "scattergeo"
           }
          ],
          "scattergl": [
           {
            "marker": {
             "colorbar": {
              "outlinewidth": 0,
              "ticks": ""
             }
            },
            "type": "scattergl"
           }
          ],
          "scattermapbox": [
           {
            "marker": {
             "colorbar": {
              "outlinewidth": 0,
              "ticks": ""
             }
            },
            "type": "scattermapbox"
           }
          ],
          "scatterpolar": [
           {
            "marker": {
             "colorbar": {
              "outlinewidth": 0,
              "ticks": ""
             }
            },
            "type": "scatterpolar"
           }
          ],
          "scatterpolargl": [
           {
            "marker": {
             "colorbar": {
              "outlinewidth": 0,
              "ticks": ""
             }
            },
            "type": "scatterpolargl"
           }
          ],
          "scatterternary": [
           {
            "marker": {
             "colorbar": {
              "outlinewidth": 0,
              "ticks": ""
             }
            },
            "type": "scatterternary"
           }
          ],
          "surface": [
           {
            "colorbar": {
             "outlinewidth": 0,
             "ticks": ""
            },
            "colorscale": [
             [
              0,
              "#0d0887"
             ],
             [
              0.1111111111111111,
              "#46039f"
             ],
             [
              0.2222222222222222,
              "#7201a8"
             ],
             [
              0.3333333333333333,
              "#9c179e"
             ],
             [
              0.4444444444444444,
              "#bd3786"
             ],
             [
              0.5555555555555556,
              "#d8576b"
             ],
             [
              0.6666666666666666,
              "#ed7953"
             ],
             [
              0.7777777777777778,
              "#fb9f3a"
             ],
             [
              0.8888888888888888,
              "#fdca26"
             ],
             [
              1,
              "#f0f921"
             ]
            ],
            "type": "surface"
           }
          ],
          "table": [
           {
            "cells": {
             "fill": {
              "color": "#EBF0F8"
             },
             "line": {
              "color": "white"
             }
            },
            "header": {
             "fill": {
              "color": "#C8D4E3"
             },
             "line": {
              "color": "white"
             }
            },
            "type": "table"
           }
          ]
         },
         "layout": {
          "annotationdefaults": {
           "arrowcolor": "#2a3f5f",
           "arrowhead": 0,
           "arrowwidth": 1
          },
          "autotypenumbers": "strict",
          "coloraxis": {
           "colorbar": {
            "outlinewidth": 0,
            "ticks": ""
           }
          },
          "colorscale": {
           "diverging": [
            [
             0,
             "#8e0152"
            ],
            [
             0.1,
             "#c51b7d"
            ],
            [
             0.2,
             "#de77ae"
            ],
            [
             0.3,
             "#f1b6da"
            ],
            [
             0.4,
             "#fde0ef"
            ],
            [
             0.5,
             "#f7f7f7"
            ],
            [
             0.6,
             "#e6f5d0"
            ],
            [
             0.7,
             "#b8e186"
            ],
            [
             0.8,
             "#7fbc41"
            ],
            [
             0.9,
             "#4d9221"
            ],
            [
             1,
             "#276419"
            ]
           ],
           "sequential": [
            [
             0,
             "#0d0887"
            ],
            [
             0.1111111111111111,
             "#46039f"
            ],
            [
             0.2222222222222222,
             "#7201a8"
            ],
            [
             0.3333333333333333,
             "#9c179e"
            ],
            [
             0.4444444444444444,
             "#bd3786"
            ],
            [
             0.5555555555555556,
             "#d8576b"
            ],
            [
             0.6666666666666666,
             "#ed7953"
            ],
            [
             0.7777777777777778,
             "#fb9f3a"
            ],
            [
             0.8888888888888888,
             "#fdca26"
            ],
            [
             1,
             "#f0f921"
            ]
           ],
           "sequentialminus": [
            [
             0,
             "#0d0887"
            ],
            [
             0.1111111111111111,
             "#46039f"
            ],
            [
             0.2222222222222222,
             "#7201a8"
            ],
            [
             0.3333333333333333,
             "#9c179e"
            ],
            [
             0.4444444444444444,
             "#bd3786"
            ],
            [
             0.5555555555555556,
             "#d8576b"
            ],
            [
             0.6666666666666666,
             "#ed7953"
            ],
            [
             0.7777777777777778,
             "#fb9f3a"
            ],
            [
             0.8888888888888888,
             "#fdca26"
            ],
            [
             1,
             "#f0f921"
            ]
           ]
          },
          "colorway": [
           "#636efa",
           "#EF553B",
           "#00cc96",
           "#ab63fa",
           "#FFA15A",
           "#19d3f3",
           "#FF6692",
           "#B6E880",
           "#FF97FF",
           "#FECB52"
          ],
          "font": {
           "color": "#2a3f5f"
          },
          "geo": {
           "bgcolor": "white",
           "lakecolor": "white",
           "landcolor": "#E5ECF6",
           "showlakes": true,
           "showland": true,
           "subunitcolor": "white"
          },
          "hoverlabel": {
           "align": "left"
          },
          "hovermode": "closest",
          "mapbox": {
           "style": "light"
          },
          "paper_bgcolor": "white",
          "plot_bgcolor": "#E5ECF6",
          "polar": {
           "angularaxis": {
            "gridcolor": "white",
            "linecolor": "white",
            "ticks": ""
           },
           "bgcolor": "#E5ECF6",
           "radialaxis": {
            "gridcolor": "white",
            "linecolor": "white",
            "ticks": ""
           }
          },
          "scene": {
           "xaxis": {
            "backgroundcolor": "#E5ECF6",
            "gridcolor": "white",
            "gridwidth": 2,
            "linecolor": "white",
            "showbackground": true,
            "ticks": "",
            "zerolinecolor": "white"
           },
           "yaxis": {
            "backgroundcolor": "#E5ECF6",
            "gridcolor": "white",
            "gridwidth": 2,
            "linecolor": "white",
            "showbackground": true,
            "ticks": "",
            "zerolinecolor": "white"
           },
           "zaxis": {
            "backgroundcolor": "#E5ECF6",
            "gridcolor": "white",
            "gridwidth": 2,
            "linecolor": "white",
            "showbackground": true,
            "ticks": "",
            "zerolinecolor": "white"
           }
          },
          "shapedefaults": {
           "line": {
            "color": "#2a3f5f"
           }
          },
          "ternary": {
           "aaxis": {
            "gridcolor": "white",
            "linecolor": "white",
            "ticks": ""
           },
           "baxis": {
            "gridcolor": "white",
            "linecolor": "white",
            "ticks": ""
           },
           "bgcolor": "#E5ECF6",
           "caxis": {
            "gridcolor": "white",
            "linecolor": "white",
            "ticks": ""
           }
          },
          "title": {
           "x": 0.05
          },
          "xaxis": {
           "automargin": true,
           "gridcolor": "white",
           "linecolor": "white",
           "ticks": "",
           "title": {
            "standoff": 15
           },
           "zerolinecolor": "white",
           "zerolinewidth": 2
          },
          "yaxis": {
           "automargin": true,
           "gridcolor": "white",
           "linecolor": "white",
           "ticks": "",
           "title": {
            "standoff": 15
           },
           "zerolinecolor": "white",
           "zerolinewidth": 2
          }
         }
        },
        "title": {
         "text": "Valores reales vs predicciones del modelo ARIMA usando ROLLING TRAINING - ROLLING PREDICTIONS"
        },
        "xaxis": {
         "anchor": "y",
         "domain": [
          0,
          1
         ],
         "title": {
          "text": "Fecha"
         }
        },
        "yaxis": {
         "anchor": "x",
         "domain": [
          0,
          1
         ],
         "title": {
          "text": "Flete producción mean"
         }
        }
       }
      }
     },
     "metadata": {},
     "output_type": "display_data"
    }
   ],
   "source": [
    "plot_arima(\n",
    "    test_df,\n",
    "    values_arima_rolling,\n",
    "    predictions_arima_rolling,\n",
    "    title=\"Valores reales vs predicciones del modelo ARIMA usando ROLLING TRAINING - ROLLING PREDICTIONS\",\n",
    ")"
   ]
  }
 ],
 "metadata": {
  "kernelspec": {
   "display_name": ".venv",
   "language": "python",
   "name": "python3"
  },
  "language_info": {
   "codemirror_mode": {
    "name": "ipython",
    "version": 3
   },
   "file_extension": ".py",
   "mimetype": "text/x-python",
   "name": "python",
   "nbconvert_exporter": "python",
   "pygments_lexer": "ipython3",
   "version": "3.11.8"
  }
 },
 "nbformat": 4,
 "nbformat_minor": 2
}
