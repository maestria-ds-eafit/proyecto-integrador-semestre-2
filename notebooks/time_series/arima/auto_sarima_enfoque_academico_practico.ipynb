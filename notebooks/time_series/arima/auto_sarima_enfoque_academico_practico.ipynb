{
 "cells": [
  {
   "cell_type": "markdown",
   "metadata": {},
   "source": [
    "# Librerías\n"
   ]
  },
  {
   "cell_type": "code",
   "execution_count": 1,
   "metadata": {},
   "outputs": [],
   "source": [
    "import pandas as pd\n",
    "import matplotlib.pyplot as plt\n",
    "from arima import (\n",
    "    sarima_rolling_training_rolling_prediction,\n",
    "    plot_arima,\n",
    ")\n",
    "from sklearn.metrics import root_mean_squared_error  # type: ignore\n",
    "from sklearn.metrics import mean_absolute_error, mean_absolute_percentage_error\n",
    "from pmdarima import auto_arima"
   ]
  },
  {
   "cell_type": "markdown",
   "metadata": {},
   "source": [
    "## Leemos la data\n"
   ]
  },
  {
   "cell_type": "code",
   "execution_count": 2,
   "metadata": {},
   "outputs": [],
   "source": [
    "train_df = pd.read_parquet(\"../../../data/time_series/train_df.parquet\").asfreq(\"D\")\n",
    "validation_df = pd.read_parquet(\n",
    "    \"../../../data/time_series/validation_df.parquet\"\n",
    ").asfreq(\"D\")\n",
    "test_df = pd.read_parquet(\"../../../data/time_series/test_df.parquet\").asfreq(\"D\")"
   ]
  },
  {
   "cell_type": "code",
   "execution_count": 3,
   "metadata": {},
   "outputs": [],
   "source": [
    "train_and_validation_df = pd.concat([train_df, validation_df])\n",
    "df = pd.concat([train_df, validation_df, test_df])"
   ]
  },
  {
   "cell_type": "markdown",
   "metadata": {},
   "source": [
    "# AUTO SARIMA\n",
    "\n",
    "Primero vamos a encontrar el modelo ARIMA óptimo para la serie de tiempo. Para esto vamos a utilizar la función auto_arima de la librería pmdarima.\n"
   ]
  },
  {
   "cell_type": "code",
   "execution_count": 4,
   "metadata": {},
   "outputs": [
    {
     "name": "stdout",
     "output_type": "stream",
     "text": [
      " ARIMA(0,1,0)(0,0,0)[7] intercept   : AIC=99887.366, Time=0.16 sec\n",
      " ARIMA(0,1,0)(0,0,1)[7] intercept   : AIC=99796.961, Time=0.68 sec\n",
      " ARIMA(0,1,0)(0,0,2)[7] intercept   : AIC=99752.329, Time=1.64 sec\n",
      " ARIMA(0,1,0)(1,0,0)[7] intercept   : AIC=99777.450, Time=0.34 sec\n",
      " ARIMA(0,1,0)(1,0,1)[7] intercept   : AIC=inf, Time=3.95 sec\n",
      " ARIMA(0,1,0)(1,0,2)[7] intercept   : AIC=inf, Time=8.32 sec\n",
      " ARIMA(0,1,0)(2,0,0)[7] intercept   : AIC=99728.936, Time=1.49 sec\n",
      " ARIMA(0,1,0)(2,0,1)[7] intercept   : AIC=inf, Time=8.62 sec\n",
      " ARIMA(0,1,0)(2,0,2)[7] intercept   : AIC=inf, Time=14.16 sec\n",
      " ARIMA(0,1,1)(0,0,0)[7] intercept   : AIC=98498.736, Time=0.46 sec\n",
      " ARIMA(0,1,1)(0,0,1)[7] intercept   : AIC=98273.821, Time=1.06 sec\n",
      " ARIMA(0,1,1)(0,0,2)[7] intercept   : AIC=98217.446, Time=2.54 sec\n",
      " ARIMA(0,1,1)(1,0,0)[7] intercept   : AIC=98224.637, Time=0.89 sec\n",
      " ARIMA(0,1,1)(1,0,1)[7] intercept   : AIC=inf, Time=4.69 sec\n",
      " ARIMA(0,1,1)(1,0,2)[7] intercept   : AIC=inf, Time=nan sec\n",
      " ARIMA(0,1,1)(2,0,0)[7] intercept   : AIC=98173.929, Time=2.20 sec\n",
      " ARIMA(0,1,1)(2,0,1)[7] intercept   : AIC=inf, Time=13.71 sec\n",
      " ARIMA(0,1,1)(2,0,2)[7] intercept   : AIC=inf, Time=18.09 sec\n",
      " ARIMA(0,1,2)(0,0,0)[7] intercept   : AIC=98240.929, Time=0.88 sec\n",
      " ARIMA(0,1,2)(0,0,1)[7] intercept   : AIC=98053.724, Time=1.56 sec\n",
      " ARIMA(0,1,2)(0,0,2)[7] intercept   : AIC=98003.970, Time=3.72 sec\n",
      " ARIMA(0,1,2)(1,0,0)[7] intercept   : AIC=98018.219, Time=1.02 sec\n",
      " ARIMA(0,1,2)(1,0,1)[7] intercept   : AIC=inf, Time=5.68 sec\n",
      " ARIMA(0,1,2)(1,0,2)[7] intercept   : AIC=inf, Time=21.50 sec\n",
      " ARIMA(0,1,2)(2,0,0)[7] intercept   : AIC=97980.025, Time=3.26 sec\n",
      " ARIMA(0,1,2)(2,0,1)[7] intercept   : AIC=inf, Time=11.71 sec\n",
      " ARIMA(0,1,3)(0,0,0)[7] intercept   : AIC=98237.459, Time=1.31 sec\n",
      " ARIMA(0,1,3)(0,0,1)[7] intercept   : AIC=98059.076, Time=2.16 sec\n",
      " ARIMA(0,1,3)(0,0,2)[7] intercept   : AIC=98007.998, Time=4.27 sec\n",
      " ARIMA(0,1,3)(1,0,0)[7] intercept   : AIC=98026.912, Time=1.18 sec\n",
      " ARIMA(0,1,3)(1,0,1)[7] intercept   : AIC=inf, Time=12.19 sec\n",
      " ARIMA(0,1,3)(2,0,0)[7] intercept   : AIC=97986.950, Time=3.90 sec\n",
      " ARIMA(0,1,4)(0,0,0)[7] intercept   : AIC=98150.693, Time=0.97 sec\n",
      " ARIMA(0,1,4)(0,0,1)[7] intercept   : AIC=98017.606, Time=2.81 sec\n",
      " ARIMA(0,1,4)(1,0,0)[7] intercept   : AIC=97992.093, Time=1.49 sec\n",
      " ARIMA(0,1,5)(0,0,0)[7] intercept   : AIC=98132.244, Time=1.26 sec\n",
      " ARIMA(1,1,0)(0,0,0)[7] intercept   : AIC=99452.685, Time=0.33 sec\n",
      " ARIMA(1,1,0)(0,0,1)[7] intercept   : AIC=99272.073, Time=1.06 sec\n",
      " ARIMA(1,1,0)(0,0,2)[7] intercept   : AIC=99207.636, Time=1.98 sec\n",
      " ARIMA(1,1,0)(1,0,0)[7] intercept   : AIC=99228.573, Time=1.01 sec\n",
      " ARIMA(1,1,0)(1,0,1)[7] intercept   : AIC=inf, Time=4.92 sec\n",
      " ARIMA(1,1,0)(1,0,2)[7] intercept   : AIC=inf, Time=8.77 sec\n",
      " ARIMA(1,1,0)(2,0,0)[7] intercept   : AIC=99157.261, Time=1.89 sec\n",
      " ARIMA(1,1,0)(2,0,1)[7] intercept   : AIC=inf, Time=10.20 sec\n",
      " ARIMA(1,1,0)(2,0,2)[7] intercept   : AIC=inf, Time=18.34 sec\n",
      " ARIMA(1,1,1)(0,0,0)[7] intercept   : AIC=98285.215, Time=1.03 sec\n",
      " ARIMA(1,1,1)(0,0,1)[7] intercept   : AIC=98093.170, Time=1.91 sec\n",
      " ARIMA(1,1,1)(0,0,2)[7] intercept   : AIC=98045.496, Time=4.47 sec\n",
      " ARIMA(1,1,1)(1,0,0)[7] intercept   : AIC=98050.159, Time=2.45 sec\n",
      " ARIMA(1,1,1)(1,0,1)[7] intercept   : AIC=inf, Time=7.69 sec\n",
      " ARIMA(1,1,1)(1,0,2)[7] intercept   : AIC=inf, Time=16.55 sec\n",
      " ARIMA(1,1,1)(2,0,0)[7] intercept   : AIC=98019.854, Time=2.84 sec\n",
      " ARIMA(1,1,1)(2,0,1)[7] intercept   : AIC=inf, Time=11.46 sec\n",
      " ARIMA(1,1,2)(0,0,0)[7] intercept   : AIC=98243.466, Time=0.74 sec\n",
      " ARIMA(1,1,2)(0,0,1)[7] intercept   : AIC=98053.783, Time=2.16 sec\n",
      " ARIMA(1,1,2)(0,0,2)[7] intercept   : AIC=98003.842, Time=3.79 sec\n",
      " ARIMA(1,1,2)(1,0,0)[7] intercept   : AIC=98017.861, Time=1.57 sec\n",
      " ARIMA(1,1,2)(1,0,1)[7] intercept   : AIC=inf, Time=6.86 sec\n",
      " ARIMA(1,1,2)(2,0,0)[7] intercept   : AIC=97978.914, Time=4.08 sec\n",
      " ARIMA(1,1,3)(0,0,0)[7] intercept   : AIC=98178.027, Time=1.93 sec\n",
      " ARIMA(1,1,3)(0,0,1)[7] intercept   : AIC=98017.396, Time=5.24 sec\n",
      " ARIMA(1,1,3)(1,0,0)[7] intercept   : AIC=97980.134, Time=3.44 sec\n",
      " ARIMA(1,1,4)(0,0,0)[7] intercept   : AIC=98135.247, Time=1.20 sec\n",
      " ARIMA(2,1,0)(0,0,0)[7] intercept   : AIC=98978.445, Time=0.40 sec\n",
      " ARIMA(2,1,0)(0,0,1)[7] intercept   : AIC=98793.318, Time=1.12 sec\n",
      " ARIMA(2,1,0)(0,0,2)[7] intercept   : AIC=98704.930, Time=2.40 sec\n",
      " ARIMA(2,1,0)(1,0,0)[7] intercept   : AIC=98740.839, Time=1.28 sec\n",
      " ARIMA(2,1,0)(1,0,1)[7] intercept   : AIC=inf, Time=4.45 sec\n",
      " ARIMA(2,1,0)(1,0,2)[7] intercept   : AIC=inf, Time=8.35 sec\n",
      " ARIMA(2,1,0)(2,0,0)[7] intercept   : AIC=98648.728, Time=2.65 sec\n",
      " ARIMA(2,1,0)(2,0,1)[7] intercept   : AIC=inf, Time=9.68 sec\n",
      " ARIMA(2,1,1)(0,0,0)[7] intercept   : AIC=98196.285, Time=0.69 sec\n",
      " ARIMA(2,1,1)(0,0,1)[7] intercept   : AIC=98040.683, Time=1.90 sec\n",
      " ARIMA(2,1,1)(0,0,2)[7] intercept   : AIC=97999.197, Time=3.80 sec\n",
      " ARIMA(2,1,1)(1,0,0)[7] intercept   : AIC=98010.771, Time=2.21 sec\n",
      " ARIMA(2,1,1)(1,0,1)[7] intercept   : AIC=inf, Time=6.91 sec\n",
      " ARIMA(2,1,1)(2,0,0)[7] intercept   : AIC=97976.150, Time=3.39 sec\n",
      " ARIMA(2,1,2)(0,0,0)[7] intercept   : AIC=98099.441, Time=1.69 sec\n",
      " ARIMA(2,1,2)(0,0,1)[7] intercept   : AIC=98034.597, Time=3.70 sec\n",
      " ARIMA(2,1,2)(1,0,0)[7] intercept   : AIC=98013.595, Time=3.38 sec\n",
      " ARIMA(2,1,3)(0,0,0)[7] intercept   : AIC=inf, Time=3.55 sec\n",
      " ARIMA(3,1,0)(0,0,0)[7] intercept   : AIC=98670.908, Time=0.49 sec\n",
      " ARIMA(3,1,0)(0,0,1)[7] intercept   : AIC=98440.069, Time=1.44 sec\n",
      " ARIMA(3,1,0)(0,0,2)[7] intercept   : AIC=98353.812, Time=2.80 sec\n",
      " ARIMA(3,1,0)(1,0,0)[7] intercept   : AIC=98373.178, Time=2.18 sec\n",
      " ARIMA(3,1,0)(1,0,1)[7] intercept   : AIC=inf, Time=13.23 sec\n",
      " ARIMA(3,1,0)(2,0,0)[7] intercept   : AIC=98280.196, Time=3.71 sec\n",
      " ARIMA(3,1,1)(0,0,0)[7] intercept   : AIC=98172.447, Time=0.89 sec\n",
      " ARIMA(3,1,1)(0,0,1)[7] intercept   : AIC=98029.607, Time=2.26 sec\n",
      " ARIMA(3,1,1)(1,0,0)[7] intercept   : AIC=98003.061, Time=3.18 sec\n",
      " ARIMA(3,1,2)(0,0,0)[7] intercept   : AIC=98214.495, Time=1.35 sec\n",
      " ARIMA(4,1,0)(0,0,0)[7] intercept   : AIC=98540.914, Time=0.60 sec\n",
      " ARIMA(4,1,0)(0,0,1)[7] intercept   : AIC=98310.596, Time=1.57 sec\n",
      " ARIMA(4,1,0)(1,0,0)[7] intercept   : AIC=98246.800, Time=1.93 sec\n",
      " ARIMA(4,1,1)(0,0,0)[7] intercept   : AIC=98148.229, Time=1.06 sec\n",
      " ARIMA(5,1,0)(0,0,0)[7] intercept   : AIC=98240.420, Time=0.77 sec\n",
      "\n",
      "Best model:  ARIMA(2,1,1)(2,0,0)[7] intercept\n",
      "Total fit time: 404.366 seconds\n",
      "                                     SARIMAX Results                                      \n",
      "==========================================================================================\n",
      "Dep. Variable:                                  y   No. Observations:                 5022\n",
      "Model:             SARIMAX(2, 1, 1)x(2, 0, [], 7)   Log Likelihood              -48981.075\n",
      "Date:                            Fri, 31 May 2024   AIC                          97976.150\n",
      "Time:                                    19:19:30   BIC                          98021.799\n",
      "Sample:                                         0   HQIC                         97992.146\n",
      "                                           - 5022                                         \n",
      "Covariance Type:                              opg                                         \n",
      "==============================================================================\n",
      "                 coef    std err          z      P>|z|      [0.025      0.975]\n",
      "------------------------------------------------------------------------------\n",
      "intercept     26.0612     13.301      1.959      0.050      -0.008      52.130\n",
      "ar.L1          0.1856      0.008     24.002      0.000       0.170       0.201\n",
      "ar.L2         -0.1224      0.007    -17.844      0.000      -0.136      -0.109\n",
      "ma.L1         -0.7949      0.005   -158.296      0.000      -0.805      -0.785\n",
      "ar.S.L7        0.1849      0.006     31.790      0.000       0.173       0.196\n",
      "ar.S.L14       0.0917      0.006     16.264      0.000       0.081       0.103\n",
      "sigma2      1.888e+07      0.001   2.44e+10      0.000    1.89e+07    1.89e+07\n",
      "===================================================================================\n",
      "Ljung-Box (L1) (Q):                   0.08   Jarque-Bera (JB):            296104.76\n",
      "Prob(Q):                              0.78   Prob(JB):                         0.00\n",
      "Heteroskedasticity (H):             637.66   Skew:                             2.56\n",
      "Prob(H) (two-sided):                  0.00   Kurtosis:                        40.27\n",
      "===================================================================================\n",
      "\n",
      "Warnings:\n",
      "[1] Covariance matrix calculated using the outer product of gradients (complex-step).\n",
      "[2] Covariance matrix is singular or near-singular, with condition number 1.87e+24. Standard errors may be unstable.\n"
     ]
    }
   ],
   "source": [
    "auto_sarima_model = auto_arima(\n",
    "    train_and_validation_df[\"gap\"],\n",
    "    max_p=10,\n",
    "    m=7,\n",
    "    maxiter=500,\n",
    "    seasonal=True,\n",
    "    trace=True,\n",
    "    error_action=\"ignore\",\n",
    "    suppress_warnings=True,\n",
    "    stepwise=False,\n",
    "    out_of_sample_size=len(validation_df),\n",
    ")\n",
    "\n",
    "# Resumen del modelo\n",
    "print(auto_sarima_model.summary())"
   ]
  },
  {
   "cell_type": "code",
   "execution_count": 5,
   "metadata": {},
   "outputs": [
    {
     "name": "stdout",
     "output_type": "stream",
     "text": [
      "AUTO SARIMA ARIMA order: (2, 1, 1)\n",
      "AUTO SARIMA Seasonl order: (2, 0, 0, 7)\n"
     ]
    }
   ],
   "source": [
    "arima_order = auto_sarima_model.get_params().get(\"order\")\n",
    "seasonal_order = auto_sarima_model.get_params().get(\"seasonal_order\")\n",
    "print(f\"AUTO SARIMA ARIMA order: {arima_order}\")\n",
    "print(f\"AUTO SARIMA Seasonl order: {seasonal_order}\")"
   ]
  },
  {
   "cell_type": "markdown",
   "metadata": {},
   "source": [
    "# Predicciones\n"
   ]
  },
  {
   "cell_type": "code",
   "execution_count": 6,
   "metadata": {},
   "outputs": [],
   "source": [
    "predictions = auto_sarima_model.predict(len(test_df[\"gap\"]))"
   ]
  },
  {
   "cell_type": "markdown",
   "metadata": {},
   "source": [
    "## Grafica de resultados\n"
   ]
  },
  {
   "cell_type": "code",
   "execution_count": 7,
   "metadata": {},
   "outputs": [
    {
     "data": {
      "image/png": "[encoded data removed]",
      "text/plain": [
       "<Figure size 700x300 with 1 Axes>"
      ]
     },
     "metadata": {},
     "output_type": "display_data"
    }
   ],
   "source": [
    "fig, ax = plt.subplots(figsize=(7, 3))\n",
    "test_df[\"gap\"].plot(ax=ax, label=\"test\")\n",
    "plt.plot(test_df[\"gap\"].index, predictions, label=\"predictions test\")\n",
    "ax.set_title(\"Predicciones con el mejor modelo SARIMA vs test\")\n",
    "ax.legend()\n",
    "plt.show()"
   ]
  },
  {
   "cell_type": "code",
   "execution_count": 8,
   "metadata": {},
   "outputs": [],
   "source": [
    "rmse = root_mean_squared_error(test_df[\"gap\"], predictions)\n",
    "mape = mean_absolute_percentage_error(test_df[\"gap\"], predictions)\n",
    "mae = mean_absolute_error(test_df[\"gap\"], predictions)"
   ]
  },
  {
   "cell_type": "code",
   "execution_count": 9,
   "metadata": {},
   "outputs": [
    {
     "name": "stdout",
     "output_type": "stream",
     "text": [
      "RMSE: 10911.66967926672\n",
      "MAPE: 0.10919892877990418\n",
      "MAE: 8880.745543660594\n"
     ]
    }
   ],
   "source": [
    "print(f\"RMSE: {rmse}\")\n",
    "print(f\"MAPE: {mape}\")\n",
    "print(f\"MAE: {mae}\")"
   ]
  },
  {
   "cell_type": "markdown",
   "metadata": {},
   "source": [
    "# Best model with rolling training rolling prediction\n"
   ]
  },
  {
   "cell_type": "code",
   "execution_count": 10,
   "metadata": {},
   "outputs": [
    {
     "name": "stdout",
     "output_type": "stream",
     "text": [
      "ARIMA Order: (2, 1, 1)\n",
      "Seasonal Order: (2, 0, 0, 7)\n",
      "RMSE: 10511.9626753209\n",
      "MAPE: 10.67%\n"
     ]
    }
   ],
   "source": [
    "(\n",
    "    mape_sarima_rolling,\n",
    "    rmse_sarima_rolling,\n",
    "    [predictions_sarima_rolling, values_sarima_rolling],\n",
    ") = sarima_rolling_training_rolling_prediction(\n",
    "    train_df=train_and_validation_df,\n",
    "    test_df=test_df,\n",
    "    arima_order=arima_order,\n",
    "    seasonal_order=seasonal_order,\n",
    "    column=\"gap\",\n",
    ")"
   ]
  },
  {
   "cell_type": "code",
   "execution_count": 11,
   "metadata": {},
   "outputs": [
    {
     "data": {
      "application/vnd.plotly.v1+json": {
       "config": {
        "plotlyServerURL": "https://plot.ly"
       },
       "data": [
        {
         "hovertemplate": "Series=Valor Real<br>Fecha=%{x}<br>Flete producción mean=%{y}<extra></extra>",
         "legendgroup": "Valor Real",
         "line": {
          "color": "#636efa",
          "dash": "solid"
         },
         "marker": {
          "symbol": "circle"
         },
         "mode": "lines+markers",
         "name": "Valor Real",
         "orientation": "v",
         "showlegend": true,
         "type": "scatter",
         "x": [
          "2015-08-02T00:00:00",
          "2015-08-03T00:00:00",
          "2015-08-04T00:00:00",
          "2015-08-05T00:00:00",
          "2015-08-06T00:00:00",
          "2015-08-07T00:00:00",
          "2015-08-08T00:00:00",
          "2015-08-09T00:00:00",
          "2015-08-10T00:00:00",
          "2015-08-11T00:00:00",
          "2015-08-12T00:00:00",
          "2015-08-13T00:00:00",
          "2015-08-14T00:00:00",
          "2015-08-15T00:00:00",
          "2015-08-16T00:00:00",
          "2015-08-17T00:00:00",
          "2015-08-18T00:00:00",
          "2015-08-19T00:00:00",
          "2015-08-20T00:00:00",
          "2015-08-21T00:00:00",
          "2015-08-22T00:00:00",
          "2015-08-23T00:00:00",
          "2015-08-24T00:00:00",
          "2015-08-25T00:00:00",
          "2015-08-26T00:00:00",
          "2015-08-27T00:00:00",
          "2015-08-28T00:00:00",
          "2015-08-29T00:00:00",
          "2015-08-30T00:00:00",
          "2015-08-31T00:00:00"
         ],
         "xaxis": "x",
         "y": [
          56499,
          65712,
          100339,
          80999,
          96870,
          79060,
          73044,
          77648,
          89887,
          85371,
          80016,
          77471,
          82299,
          73489,
          60586,
          93839,
          100529,
          82260,
          85008,
          79257,
          69344,
          66164,
          93346,
          82358,
          74204,
          91839,
          69723,
          68812,
          74384,
          91991
         ],
         "yaxis": "y"
        },
        {
         "hovertemplate": "Series=Predicción<br>Fecha=%{x}<br>Flete producción mean=%{y}<extra></extra>",
         "legendgroup": "Predicción",
         "line": {
          "color": "#EF553B",
          "dash": "solid"
         },
         "marker": {
          "symbol": "circle"
         },
         "mode": "lines+markers",
         "name": "Predicción",
         "orientation": "v",
         "showlegend": true,
         "type": "scatter",
         "x": [
          "2015-08-02T00:00:00",
          "2015-08-03T00:00:00",
          "2015-08-04T00:00:00",
          "2015-08-05T00:00:00",
          "2015-08-06T00:00:00",
          "2015-08-07T00:00:00",
          "2015-08-08T00:00:00",
          "2015-08-09T00:00:00",
          "2015-08-10T00:00:00",
          "2015-08-11T00:00:00",
          "2015-08-12T00:00:00",
          "2015-08-13T00:00:00",
          "2015-08-14T00:00:00",
          "2015-08-15T00:00:00",
          "2015-08-16T00:00:00",
          "2015-08-17T00:00:00",
          "2015-08-18T00:00:00",
          "2015-08-19T00:00:00",
          "2015-08-20T00:00:00",
          "2015-08-21T00:00:00",
          "2015-08-22T00:00:00",
          "2015-08-23T00:00:00",
          "2015-08-24T00:00:00",
          "2015-08-25T00:00:00",
          "2015-08-26T00:00:00",
          "2015-08-27T00:00:00",
          "2015-08-28T00:00:00",
          "2015-08-29T00:00:00",
          "2015-08-30T00:00:00",
          "2015-08-31T00:00:00"
         ],
         "xaxis": "x",
         "y": [
          69645.8287755294,
          73190.06153797009,
          72855.23903576923,
          86206.1462528835,
          79062.4008234952,
          82202.26717325833,
          75210.75434989369,
          72955.84754350844,
          79255.61091823007,
          88716.72040716867,
          80961.14899177973,
          86823.1484933425,
          78694.78516304727,
          79606.54091491528,
          76289.29400856684,
          74516.56709372412,
          87845.79762658062,
          84924.76051988127,
          81970.60572795956,
          83943.35288956396,
          79618.01064115296,
          74681.6800396972,
          81242.66864074592,
          88398.26656216095,
          78605.90589946031,
          78633.22659483357,
          84314.73326355568,
          72628.17386456302,
          72841.07150475902,
          82863.74086228418
         ],
         "yaxis": "y"
        }
       ],
       "layout": {
        "legend": {
         "title": {
          "text": ""
         },
         "tracegroupgap": 0
        },
        "template": {
         "data": {
          "bar": [
           {
            "error_x": {
             "color": "#2a3f5f"
            },
            "error_y": {
             "color": "#2a3f5f"
            },
            "marker": {
             "line": {
              "color": "#E5ECF6",
              "width": 0.5
             },
             "pattern": {
              "fillmode": "overlay",
              "size": 10,
              "solidity": 0.2
             }
            },
            "type": "bar"
           }
          ],
          "barpolar": [
           {
            "marker": {
             "line": {
              "color": "#E5ECF6",
              "width": 0.5
             },
             "pattern": {
              "fillmode": "overlay",
              "size": 10,
              "solidity": 0.2
             }
            },
            "type": "barpolar"
           }
          ],
          "carpet": [
           {
            "aaxis": {
             "endlinecolor": "#2a3f5f",
             "gridcolor": "white",
             "linecolor": "white",
             "minorgridcolor": "white",
             "startlinecolor": "#2a3f5f"
            },
            "baxis": {
             "endlinecolor": "#2a3f5f",
             "gridcolor": "white",
             "linecolor": "white",
             "minorgridcolor": "white",
             "startlinecolor": "#2a3f5f"
            },
            "type": "carpet"
           }
          ],
          "choropleth": [
           {
            "colorbar": {
             "outlinewidth": 0,
             "ticks": ""
            },
            "type": "choropleth"
           }
          ],
          "contour": [
           {
            "colorbar": {
             "outlinewidth": 0,
             "ticks": ""
            },
            "colorscale": [
             [
              0,
              "#0d0887"
             ],
             [
              0.1111111111111111,
              "#46039f"
             ],
             [
              0.2222222222222222,
              "#7201a8"
             ],
             [
              0.3333333333333333,
              "#9c179e"
             ],
             [
              0.4444444444444444,
              "#bd3786"
             ],
             [
              0.5555555555555556,
              "#d8576b"
             ],
             [
              0.6666666666666666,
              "#ed7953"
             ],
             [
              0.7777777777777778,
              "#fb9f3a"
             ],
             [
              0.8888888888888888,
              "#fdca26"
             ],
             [
              1,
              "#f0f921"
             ]
            ],
            "type": "contour"
           }
          ],
          "contourcarpet": [
           {
            "colorbar": {
             "outlinewidth": 0,
             "ticks": ""
            },
            "type": "contourcarpet"
           }
          ],
          "heatmap": [
           {
            "colorbar": {
             "outlinewidth": 0,
             "ticks": ""
            },
            "colorscale": [
             [
              0,
              "#0d0887"
             ],
             [
              0.1111111111111111,
              "#46039f"
             ],
             [
              0.2222222222222222,
              "#7201a8"
             ],
             [
              0.3333333333333333,
              "#9c179e"
             ],
             [
              0.4444444444444444,
              "#bd3786"
             ],
             [
              0.5555555555555556,
              "#d8576b"
             ],
             [
              0.6666666666666666,
              "#ed7953"
             ],
             [
              0.7777777777777778,
              "#fb9f3a"
             ],
             [
              0.8888888888888888,
              "#fdca26"
             ],
             [
              1,
              "#f0f921"
             ]
            ],
            "type": "heatmap"
           }
          ],
          "heatmapgl": [
           {
            "colorbar": {
             "outlinewidth": 0,
             "ticks": ""
            },
            "colorscale": [
             [
              0,
              "#0d0887"
             ],
             [
              0.1111111111111111,
              "#46039f"
             ],
             [
              0.2222222222222222,
              "#7201a8"
             ],
             [
              0.3333333333333333,
              "#9c179e"
             ],
             [
              0.4444444444444444,
              "#bd3786"
             ],
             [
              0.5555555555555556,
              "#d8576b"
             ],
             [
              0.6666666666666666,
              "#ed7953"
             ],
             [
              0.7777777777777778,
              "#fb9f3a"
             ],
             [
              0.8888888888888888,
              "#fdca26"
             ],
             [
              1,
              "#f0f921"
             ]
            ],
            "type": "heatmapgl"
           }
          ],
          "histogram": [
           {
            "marker": {
             "pattern": {
              "fillmode": "overlay",
              "size": 10,
              "solidity": 0.2
             }
            },
            "type": "histogram"
           }
          ],
          "histogram2d": [
           {
            "colorbar": {
             "outlinewidth": 0,
             "ticks": ""
            },
            "colorscale": [
             [
              0,
              "#0d0887"
             ],
             [
              0.1111111111111111,
              "#46039f"
             ],
             [
              0.2222222222222222,
              "#7201a8"
             ],
             [
              0.3333333333333333,
              "#9c179e"
             ],
             [
              0.4444444444444444,
              "#bd3786"
             ],
             [
              0.5555555555555556,
              "#d8576b"
             ],
             [
              0.6666666666666666,
              "#ed7953"
             ],
             [
              0.7777777777777778,
              "#fb9f3a"
             ],
             [
              0.8888888888888888,
              "#fdca26"
             ],
             [
              1,
              "#f0f921"
             ]
            ],
            "type": "histogram2d"
           }
          ],
          "histogram2dcontour": [
           {
            "colorbar": {
             "outlinewidth": 0,
             "ticks": ""
            },
            "colorscale": [
             [
              0,
              "#0d0887"
             ],
             [
              0.1111111111111111,
              "#46039f"
             ],
             [
              0.2222222222222222,
              "#7201a8"
             ],
             [
              0.3333333333333333,
              "#9c179e"
             ],
             [
              0.4444444444444444,
              "#bd3786"
             ],
             [
              0.5555555555555556,
              "#d8576b"
             ],
             [
              0.6666666666666666,
              "#ed7953"
             ],
             [
              0.7777777777777778,
              "#fb9f3a"
             ],
             [
              0.8888888888888888,
              "#fdca26"
             ],
             [
              1,
              "#f0f921"
             ]
            ],
            "type": "histogram2dcontour"
           }
          ],
          "mesh3d": [
           {
            "colorbar": {
             "outlinewidth": 0,
             "ticks": ""
            },
            "type": "mesh3d"
           }
          ],
          "parcoords": [
           {
            "line": {
             "colorbar": {
              "outlinewidth": 0,
              "ticks": ""
             }
            },
            "type": "parcoords"
           }
          ],
          "pie": [
           {
            "automargin": true,
            "type": "pie"
           }
          ],
          "scatter": [
           {
            "fillpattern": {
             "fillmode": "overlay",
             "size": 10,
             "solidity": 0.2
            },
            "type": "scatter"
           }
          ],
          "scatter3d": [
           {
            "line": {
             "colorbar": {
              "outlinewidth": 0,
              "ticks": ""
             }
            },
            "marker": {
             "colorbar": {
              "outlinewidth": 0,
              "ticks": ""
             }
            },
            "type": "scatter3d"
           }
          ],
          "scattercarpet": [
           {
            "marker": {
             "colorbar": {
              "outlinewidth": 0,
              "ticks": ""
             }
            },
            "type": "scattercarpet"
           }
          ],
          "scattergeo": [
           {
            "marker": {
             "colorbar": {
              "outlinewidth": 0,
              "ticks": ""
             }
            },
            "type": "scattergeo"
           }
          ],
          "scattergl": [
           {
            "marker": {
             "colorbar": {
              "outlinewidth": 0,
              "ticks": ""
             }
            },
            "type": "scattergl"
           }
          ],
          "scattermapbox": [
           {
            "marker": {
             "colorbar": {
              "outlinewidth": 0,
              "ticks": ""
             }
            },
            "type": "scattermapbox"
           }
          ],
          "scatterpolar": [
           {
            "marker": {
             "colorbar": {
              "outlinewidth": 0,
              "ticks": ""
             }
            },
            "type": "scatterpolar"
           }
          ],
          "scatterpolargl": [
           {
            "marker": {
             "colorbar": {
              "outlinewidth": 0,
              "ticks": ""
             }
            },
            "type": "scatterpolargl"
           }
          ],
          "scatterternary": [
           {
            "marker": {
             "colorbar": {
              "outlinewidth": 0,
              "ticks": ""
             }
            },
            "type": "scatterternary"
           }
          ],
          "surface": [
           {
            "colorbar": {
             "outlinewidth": 0,
             "ticks": ""
            },
            "colorscale": [
             [
              0,
              "#0d0887"
             ],
             [
              0.1111111111111111,
              "#46039f"
             ],
             [
              0.2222222222222222,
              "#7201a8"
             ],
             [
              0.3333333333333333,
              "#9c179e"
             ],
             [
              0.4444444444444444,
              "#bd3786"
             ],
             [
              0.5555555555555556,
              "#d8576b"
             ],
             [
              0.6666666666666666,
              "#ed7953"
             ],
             [
              0.7777777777777778,
              "#fb9f3a"
             ],
             [
              0.8888888888888888,
              "#fdca26"
             ],
             [
              1,
              "#f0f921"
             ]
            ],
            "type": "surface"
           }
          ],
          "table": [
           {
            "cells": {
             "fill": {
              "color": "#EBF0F8"
             },
             "line": {
              "color": "white"
             }
            },
            "header": {
             "fill": {
              "color": "#C8D4E3"
             },
             "line": {
              "color": "white"
             }
            },
            "type": "table"
           }
          ]
         },
         "layout": {
          "annotationdefaults": {
           "arrowcolor": "#2a3f5f",
           "arrowhead": 0,
           "arrowwidth": 1
          },
          "autotypenumbers": "strict",
          "coloraxis": {
           "colorbar": {
            "outlinewidth": 0,
            "ticks": ""
           }
          },
          "colorscale": {
           "diverging": [
            [
             0,
             "#8e0152"
            ],
            [
             0.1,
             "#c51b7d"
            ],
            [
             0.2,
             "#de77ae"
            ],
            [
             0.3,
             "#f1b6da"
            ],
            [
             0.4,
             "#fde0ef"
            ],
            [
             0.5,
             "#f7f7f7"
            ],
            [
             0.6,
             "#e6f5d0"
            ],
            [
             0.7,
             "#b8e186"
            ],
            [
             0.8,
             "#7fbc41"
            ],
            [
             0.9,
             "#4d9221"
            ],
            [
             1,
             "#276419"
            ]
           ],
           "sequential": [
            [
             0,
             "#0d0887"
            ],
            [
             0.1111111111111111,
             "#46039f"
            ],
            [
             0.2222222222222222,
             "#7201a8"
            ],
            [
             0.3333333333333333,
             "#9c179e"
            ],
            [
             0.4444444444444444,
             "#bd3786"
            ],
            [
             0.5555555555555556,
             "#d8576b"
            ],
            [
             0.6666666666666666,
             "#ed7953"
            ],
            [
             0.7777777777777778,
             "#fb9f3a"
            ],
            [
             0.8888888888888888,
             "#fdca26"
            ],
            [
             1,
             "#f0f921"
            ]
           ],
           "sequentialminus": [
            [
             0,
             "#0d0887"
            ],
            [
             0.1111111111111111,
             "#46039f"
            ],
            [
             0.2222222222222222,
             "#7201a8"
            ],
            [
             0.3333333333333333,
             "#9c179e"
            ],
            [
             0.4444444444444444,
             "#bd3786"
            ],
            [
             0.5555555555555556,
             "#d8576b"
            ],
            [
             0.6666666666666666,
             "#ed7953"
            ],
            [
             0.7777777777777778,
             "#fb9f3a"
            ],
            [
             0.8888888888888888,
             "#fdca26"
            ],
            [
             1,
             "#f0f921"
            ]
           ]
          },
          "colorway": [
           "#636efa",
           "#EF553B",
           "#00cc96",
           "#ab63fa",
           "#FFA15A",
           "#19d3f3",
           "#FF6692",
           "#B6E880",
           "#FF97FF",
           "#FECB52"
          ],
          "font": {
           "color": "#2a3f5f"
          },
          "geo": {
           "bgcolor": "white",
           "lakecolor": "white",
           "landcolor": "#E5ECF6",
           "showlakes": true,
           "showland": true,
           "subunitcolor": "white"
          },
          "hoverlabel": {
           "align": "left"
          },
          "hovermode": "closest",
          "mapbox": {
           "style": "light"
          },
          "paper_bgcolor": "white",
          "plot_bgcolor": "#E5ECF6",
          "polar": {
           "angularaxis": {
            "gridcolor": "white",
            "linecolor": "white",
            "ticks": ""
           },
           "bgcolor": "#E5ECF6",
           "radialaxis": {
            "gridcolor": "white",
            "linecolor": "white",
            "ticks": ""
           }
          },
          "scene": {
           "xaxis": {
            "backgroundcolor": "#E5ECF6",
            "gridcolor": "white",
            "gridwidth": 2,
            "linecolor": "white",
            "showbackground": true,
            "ticks": "",
            "zerolinecolor": "white"
           },
           "yaxis": {
            "backgroundcolor": "#E5ECF6",
            "gridcolor": "white",
            "gridwidth": 2,
            "linecolor": "white",
            "showbackground": true,
            "ticks": "",
            "zerolinecolor": "white"
           },
           "zaxis": {
            "backgroundcolor": "#E5ECF6",
            "gridcolor": "white",
            "gridwidth": 2,
            "linecolor": "white",
            "showbackground": true,
            "ticks": "",
            "zerolinecolor": "white"
           }
          },
          "shapedefaults": {
           "line": {
            "color": "#2a3f5f"
           }
          },
          "ternary": {
           "aaxis": {
            "gridcolor": "white",
            "linecolor": "white",
            "ticks": ""
           },
           "baxis": {
            "gridcolor": "white",
            "linecolor": "white",
            "ticks": ""
           },
           "bgcolor": "#E5ECF6",
           "caxis": {
            "gridcolor": "white",
            "linecolor": "white",
            "ticks": ""
           }
          },
          "title": {
           "x": 0.05
          },
          "xaxis": {
           "automargin": true,
           "gridcolor": "white",
           "linecolor": "white",
           "ticks": "",
           "title": {
            "standoff": 15
           },
           "zerolinecolor": "white",
           "zerolinewidth": 2
          },
          "yaxis": {
           "automargin": true,
           "gridcolor": "white",
           "linecolor": "white",
           "ticks": "",
           "title": {
            "standoff": 15
           },
           "zerolinecolor": "white",
           "zerolinewidth": 2
          }
         }
        },
        "title": {
         "text": "Comparación de los valores reales del modelo SARIMA usando ROLLING TRAINING - ROLLING PREDICTIONS"
        },
        "xaxis": {
         "anchor": "y",
         "domain": [
          0,
          1
         ],
         "title": {
          "text": "Fecha"
         }
        },
        "yaxis": {
         "anchor": "x",
         "domain": [
          0,
          1
         ],
         "title": {
          "text": "Flete producción mean"
         }
        }
       }
      }
     },
     "metadata": {},
     "output_type": "display_data"
    }
   ],
   "source": [
    "plot_arima(\n",
    "    test_df,\n",
    "    values_sarima_rolling,\n",
    "    predictions_sarima_rolling,\n",
    "    title=\"Comparación de los valores reales del modelo SARIMA usando ROLLING TRAINING - ROLLING PREDICTIONS\",\n",
    ")"
   ]
  }
 ],
 "metadata": {
  "kernelspec": {
   "display_name": ".venv",
   "language": "python",
   "name": "python3"
  },
  "language_info": {
   "codemirror_mode": {
    "name": "ipython",
    "version": 3
   },
   "file_extension": ".py",
   "mimetype": "text/x-python",
   "name": "python",
   "nbconvert_exporter": "python",
   "pygments_lexer": "ipython3",
   "version": "3.11.8"
  }
 },
 "nbformat": 4,
 "nbformat_minor": 2
}
