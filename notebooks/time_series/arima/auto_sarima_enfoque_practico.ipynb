{
 "cells": [
  {
   "cell_type": "markdown",
   "metadata": {},
   "source": [
    "# Librerías\n"
   ]
  },
  {
   "cell_type": "code",
   "execution_count": 1,
   "metadata": {},
   "outputs": [],
   "source": [
    "import pandas as pd\n",
    "import matplotlib.pyplot as plt\n",
    "from arima import (\n",
    "    sarima_rolling_training_rolling_prediction,\n",
    "    plot_arima,\n",
    ")\n",
    "\n",
    "from sklearn.metrics import root_mean_squared_error  # type: ignore\n",
    "from sklearn.metrics import mean_absolute_error, mean_absolute_percentage_error\n",
    "\n",
    "\n",
    "from pmdarima import auto_arima"
   ]
  },
  {
   "cell_type": "markdown",
   "metadata": {},
   "source": [
    "## Leemos la data\n"
   ]
  },
  {
   "cell_type": "code",
   "execution_count": 2,
   "metadata": {},
   "outputs": [],
   "source": [
    "train_df = pd.read_parquet(\"../../../data/time_series/train_df.parquet\").asfreq(\"D\")\n",
    "validation_df = pd.read_parquet(\n",
    "    \"../../../data/time_series/validation_df.parquet\"\n",
    ").asfreq(\"D\")\n",
    "test_df = pd.read_parquet(\"../../../data/time_series/test_df.parquet\").asfreq(\"D\")"
   ]
  },
  {
   "cell_type": "code",
   "execution_count": 3,
   "metadata": {},
   "outputs": [],
   "source": [
    "train_and_validation_df = pd.concat([train_df, validation_df])\n",
    "df = pd.concat([train_df, validation_df, test_df])"
   ]
  },
  {
   "cell_type": "markdown",
   "metadata": {},
   "source": [
    "# Arima optimo\n",
    "\n",
    "Primero vamos a encontrar el modelo ARIMA óptimo para la serie de tiempo. Para esto vamos a utilizar la función auto_arima de la librería pmdarima.\n"
   ]
  },
  {
   "cell_type": "code",
   "execution_count": 4,
   "metadata": {},
   "outputs": [
    {
     "name": "stdout",
     "output_type": "stream",
     "text": [
      " ARIMA(0,1,0)(0,0,0)[7] intercept   : AIC=99887.337, Time=0.04 sec\n",
      " ARIMA(0,1,0)(0,0,1)[7] intercept   : AIC=99794.054, Time=0.55 sec\n",
      " ARIMA(0,1,0)(0,0,2)[7] intercept   : AIC=99752.054, Time=1.29 sec\n",
      " ARIMA(0,1,0)(1,0,0)[7] intercept   : AIC=99775.645, Time=0.22 sec\n",
      " ARIMA(0,1,0)(1,0,1)[7] intercept   : AIC=inf, Time=3.71 sec\n",
      " ARIMA(0,1,0)(1,0,2)[7] intercept   : AIC=inf, Time=8.02 sec\n",
      " ARIMA(0,1,0)(2,0,0)[7] intercept   : AIC=99729.984, Time=0.81 sec\n",
      " ARIMA(0,1,0)(2,0,1)[7] intercept   : AIC=inf, Time=7.12 sec\n",
      " ARIMA(0,1,0)(2,0,2)[7] intercept   : AIC=inf, Time=8.66 sec\n",
      " ARIMA(0,1,1)(0,0,0)[7] intercept   : AIC=98516.902, Time=0.39 sec\n",
      " ARIMA(0,1,1)(0,0,1)[7] intercept   : AIC=98305.309, Time=0.79 sec\n",
      " ARIMA(0,1,1)(0,0,2)[7] intercept   : AIC=98252.337, Time=1.78 sec\n",
      " ARIMA(0,1,1)(1,0,0)[7] intercept   : AIC=98259.222, Time=0.56 sec\n",
      " ARIMA(0,1,1)(1,0,1)[7] intercept   : AIC=inf, Time=4.31 sec\n",
      " ARIMA(0,1,1)(1,0,2)[7] intercept   : AIC=inf, Time=8.87 sec\n",
      " ARIMA(0,1,1)(2,0,0)[7] intercept   : AIC=98211.616, Time=1.39 sec\n",
      " ARIMA(0,1,1)(2,0,1)[7] intercept   : AIC=inf, Time=10.43 sec\n",
      " ARIMA(0,1,1)(2,0,2)[7] intercept   : AIC=inf, Time=16.69 sec\n",
      " ARIMA(0,1,2)(0,0,0)[7] intercept   : AIC=98237.262, Time=0.46 sec\n",
      " ARIMA(0,1,2)(0,0,1)[7] intercept   : AIC=98050.339, Time=2.38 sec\n",
      " ARIMA(0,1,2)(0,0,2)[7] intercept   : AIC=98008.612, Time=1.97 sec\n",
      " ARIMA(0,1,2)(1,0,0)[7] intercept   : AIC=98023.485, Time=0.86 sec\n",
      " ARIMA(0,1,2)(1,0,1)[7] intercept   : AIC=inf, Time=6.82 sec\n",
      " ARIMA(0,1,2)(1,0,2)[7] intercept   : AIC=inf, Time=17.85 sec\n",
      " ARIMA(0,1,2)(2,0,0)[7] intercept   : AIC=97987.287, Time=1.66 sec\n",
      " ARIMA(0,1,2)(2,0,1)[7] intercept   : AIC=inf, Time=19.19 sec\n",
      " ARIMA(0,1,3)(0,0,0)[7] intercept   : AIC=98228.276, Time=1.02 sec\n",
      " ARIMA(0,1,3)(0,0,1)[7] intercept   : AIC=98061.632, Time=1.24 sec\n",
      " ARIMA(0,1,3)(0,0,2)[7] intercept   : AIC=98012.628, Time=2.59 sec\n",
      " ARIMA(0,1,3)(1,0,0)[7] intercept   : AIC=98032.530, Time=0.82 sec\n",
      " ARIMA(0,1,3)(1,0,1)[7] intercept   : AIC=inf, Time=6.09 sec\n",
      " ARIMA(0,1,3)(2,0,0)[7] intercept   : AIC=97975.984, Time=4.26 sec\n",
      " ARIMA(0,1,4)(0,0,0)[7] intercept   : AIC=98148.176, Time=0.70 sec\n",
      " ARIMA(0,1,4)(0,0,1)[7] intercept   : AIC=98021.790, Time=1.53 sec\n",
      " ARIMA(0,1,4)(1,0,0)[7] intercept   : AIC=97998.561, Time=0.90 sec\n",
      " ARIMA(0,1,5)(0,0,0)[7] intercept   : AIC=98130.381, Time=0.90 sec\n",
      " ARIMA(1,1,0)(0,0,0)[7] intercept   : AIC=99443.268, Time=0.13 sec\n",
      " ARIMA(1,1,0)(0,0,1)[7] intercept   : AIC=99273.443, Time=0.69 sec\n",
      " ARIMA(1,1,0)(0,0,2)[7] intercept   : AIC=99212.934, Time=1.24 sec\n",
      " ARIMA(1,1,0)(1,0,0)[7] intercept   : AIC=99232.517, Time=0.67 sec\n",
      " ARIMA(1,1,0)(1,0,1)[7] intercept   : AIC=inf, Time=4.33 sec\n",
      " ARIMA(1,1,0)(1,0,2)[7] intercept   : AIC=inf, Time=8.67 sec\n",
      " ARIMA(1,1,0)(2,0,0)[7] intercept   : AIC=99165.546, Time=0.96 sec\n",
      " ARIMA(1,1,0)(2,0,1)[7] intercept   : AIC=inf, Time=5.94 sec\n",
      " ARIMA(1,1,0)(2,0,2)[7] intercept   : AIC=inf, Time=16.80 sec\n",
      " ARIMA(1,1,1)(0,0,0)[7] intercept   : AIC=98298.469, Time=0.74 sec\n",
      " ARIMA(1,1,1)(0,0,1)[7] intercept   : AIC=98120.137, Time=1.29 sec\n",
      " ARIMA(1,1,1)(0,0,2)[7] intercept   : AIC=98075.105, Time=2.76 sec\n",
      " ARIMA(1,1,1)(1,0,0)[7] intercept   : AIC=98085.806, Time=1.21 sec\n",
      " ARIMA(1,1,1)(1,0,1)[7] intercept   : AIC=inf, Time=8.38 sec\n",
      " ARIMA(1,1,1)(1,0,2)[7] intercept   : AIC=inf, Time=18.24 sec\n",
      " ARIMA(1,1,1)(2,0,0)[7] intercept   : AIC=98051.801, Time=2.15 sec\n",
      " ARIMA(1,1,1)(2,0,1)[7] intercept   : AIC=inf, Time=13.65 sec\n",
      " ARIMA(1,1,2)(0,0,0)[7] intercept   : AIC=98235.287, Time=0.53 sec\n",
      " ARIMA(1,1,2)(0,0,1)[7] intercept   : AIC=98055.588, Time=1.08 sec\n",
      " ARIMA(1,1,2)(0,0,2)[7] intercept   : AIC=98008.100, Time=2.71 sec\n",
      " ARIMA(1,1,2)(1,0,0)[7] intercept   : AIC=98022.488, Time=1.13 sec\n",
      " ARIMA(1,1,2)(1,0,1)[7] intercept   : AIC=inf, Time=6.62 sec\n",
      " ARIMA(1,1,2)(2,0,0)[7] intercept   : AIC=97985.506, Time=2.07 sec\n",
      " ARIMA(1,1,3)(0,0,0)[7] intercept   : AIC=98168.939, Time=1.29 sec\n",
      " ARIMA(1,1,3)(0,0,1)[7] intercept   : AIC=98016.950, Time=4.41 sec\n",
      " ARIMA(1,1,3)(1,0,0)[7] intercept   : AIC=97982.080, Time=3.17 sec\n",
      " ARIMA(1,1,4)(0,0,0)[7] intercept   : AIC=98133.241, Time=0.98 sec\n",
      " ARIMA(2,1,0)(0,0,0)[7] intercept   : AIC=98970.195, Time=0.28 sec\n",
      " ARIMA(2,1,0)(0,0,1)[7] intercept   : AIC=98795.476, Time=0.71 sec\n",
      " ARIMA(2,1,0)(0,0,2)[7] intercept   : AIC=98712.122, Time=1.38 sec\n",
      " ARIMA(2,1,0)(1,0,0)[7] intercept   : AIC=98745.927, Time=0.74 sec\n",
      " ARIMA(2,1,0)(1,0,1)[7] intercept   : AIC=inf, Time=6.55 sec\n",
      " ARIMA(2,1,0)(1,0,2)[7] intercept   : AIC=inf, Time=7.20 sec\n",
      " ARIMA(2,1,0)(2,0,0)[7] intercept   : AIC=98659.066, Time=1.41 sec\n",
      " ARIMA(2,1,0)(2,0,1)[7] intercept   : AIC=inf, Time=14.33 sec\n",
      " ARIMA(2,1,1)(0,0,0)[7] intercept   : AIC=98215.304, Time=0.48 sec\n",
      " ARIMA(2,1,1)(0,0,1)[7] intercept   : AIC=98068.412, Time=1.28 sec\n",
      " ARIMA(2,1,1)(0,0,2)[7] intercept   : AIC=98029.238, Time=3.46 sec\n",
      " ARIMA(2,1,1)(1,0,0)[7] intercept   : AIC=98040.606, Time=1.35 sec\n",
      " ARIMA(2,1,1)(1,0,1)[7] intercept   : AIC=inf, Time=5.80 sec\n",
      " ARIMA(2,1,1)(2,0,0)[7] intercept   : AIC=98007.935, Time=2.81 sec\n",
      " ARIMA(2,1,2)(0,0,0)[7] intercept   : AIC=98085.576, Time=1.57 sec\n",
      " ARIMA(2,1,2)(0,0,1)[7] intercept   : AIC=98008.299, Time=5.08 sec\n",
      " ARIMA(2,1,2)(1,0,0)[7] intercept   : AIC=98008.873, Time=2.13 sec\n",
      " ARIMA(2,1,3)(0,0,0)[7] intercept   : AIC=inf, Time=3.18 sec\n",
      " ARIMA(3,1,0)(0,0,0)[7] intercept   : AIC=98662.653, Time=0.29 sec\n",
      " ARIMA(3,1,0)(0,0,1)[7] intercept   : AIC=98444.810, Time=0.92 sec\n",
      " ARIMA(3,1,0)(0,0,2)[7] intercept   : AIC=98363.486, Time=1.65 sec\n",
      " ARIMA(3,1,0)(1,0,0)[7] intercept   : AIC=98381.672, Time=1.19 sec\n",
      " ARIMA(3,1,0)(1,0,1)[7] intercept   : AIC=inf, Time=6.57 sec\n",
      " ARIMA(3,1,0)(2,0,0)[7] intercept   : AIC=98294.011, Time=2.10 sec\n",
      " ARIMA(3,1,1)(0,0,0)[7] intercept   : AIC=98192.596, Time=0.62 sec\n",
      " ARIMA(3,1,1)(0,0,1)[7] intercept   : AIC=98057.755, Time=1.77 sec\n",
      " ARIMA(3,1,1)(1,0,0)[7] intercept   : AIC=98032.965, Time=2.07 sec\n",
      " ARIMA(3,1,2)(0,0,0)[7] intercept   : AIC=98093.468, Time=1.82 sec\n",
      " ARIMA(4,1,0)(0,0,0)[7] intercept   : AIC=98533.496, Time=0.36 sec\n",
      " ARIMA(4,1,0)(0,0,1)[7] intercept   : AIC=98315.541, Time=1.08 sec\n",
      " ARIMA(4,1,0)(1,0,0)[7] intercept   : AIC=98255.166, Time=2.06 sec\n",
      " ARIMA(4,1,1)(0,0,0)[7] intercept   : AIC=98162.274, Time=0.77 sec\n",
      " ARIMA(5,1,0)(0,0,0)[7] intercept   : AIC=98230.824, Time=0.41 sec\n",
      "\n",
      "Best model:  ARIMA(0,1,3)(2,0,0)[7] intercept\n",
      "Total fit time: 342.447 seconds\n",
      "                                     SARIMAX Results                                      \n",
      "==========================================================================================\n",
      "Dep. Variable:                                  y   No. Observations:                 5022\n",
      "Model:             SARIMAX(0, 1, 3)x(2, 0, [], 7)   Log Likelihood              -48980.992\n",
      "Date:                            Fri, 31 May 2024   AIC                          97975.984\n",
      "Time:                                    19:38:25   BIC                          98021.634\n",
      "Sample:                                11-01-2001   HQIC                         97991.980\n",
      "                                     - 08-01-2015                                         \n",
      "Covariance Type:                              opg                                         \n",
      "==============================================================================\n",
      "                 coef    std err          z      P>|z|      [0.025      0.975]\n",
      "------------------------------------------------------------------------------\n",
      "intercept      9.8084     12.583      0.779      0.436     -14.854      34.471\n",
      "ma.L1         -0.6159      0.006   -108.092      0.000      -0.627      -0.605\n",
      "ma.L2         -0.2085      0.007    -29.461      0.000      -0.222      -0.195\n",
      "ma.L3          0.0261      0.006      4.704      0.000       0.015       0.037\n",
      "ar.S.L7        0.1930      0.006     34.166      0.000       0.182       0.204\n",
      "ar.S.L14       0.0921      0.005     17.212      0.000       0.082       0.103\n",
      "sigma2      1.805e+07      0.001   2.38e+10      0.000    1.81e+07    1.81e+07\n",
      "===================================================================================\n",
      "Ljung-Box (L1) (Q):                   0.01   Jarque-Bera (JB):            299873.56\n",
      "Prob(Q):                              0.90   Prob(JB):                         0.00\n",
      "Heteroskedasticity (H):             779.00   Skew:                             2.58\n",
      "Prob(H) (two-sided):                  0.00   Kurtosis:                        40.51\n",
      "===================================================================================\n",
      "\n",
      "Warnings:\n",
      "[1] Covariance matrix calculated using the outer product of gradients (complex-step).\n",
      "[2] Covariance matrix is singular or near-singular, with condition number 9.22e+23. Standard errors may be unstable.\n"
     ]
    }
   ],
   "source": [
    "auto_sarima_model = auto_arima(\n",
    "    train_and_validation_df[\"gap\"],\n",
    "    max_p=10,\n",
    "    m=7,\n",
    "    maxiter=500,\n",
    "    seasonal=True,\n",
    "    trace=True,\n",
    "    error_action=\"ignore\",\n",
    "    suppress_warnings=True,\n",
    "    stepwise=False,\n",
    ")\n",
    "\n",
    "# Resumen del modelo\n",
    "print(auto_sarima_model.summary())"
   ]
  },
  {
   "cell_type": "code",
   "execution_count": 5,
   "metadata": {},
   "outputs": [
    {
     "name": "stdout",
     "output_type": "stream",
     "text": [
      "AUTO SARIMA ARIMA order: (0, 1, 3)\n",
      "AUTO SARIMA Seasonl order: (2, 0, 0, 7)\n"
     ]
    }
   ],
   "source": [
    "arima_order = auto_sarima_model.get_params().get(\"order\")\n",
    "seasonal_order = auto_sarima_model.get_params().get(\"seasonal_order\")\n",
    "print(f\"AUTO SARIMA ARIMA order: {arima_order}\")\n",
    "print(f\"AUTO SARIMA Seasonl order: {seasonal_order}\")"
   ]
  },
  {
   "cell_type": "markdown",
   "metadata": {},
   "source": [
    "# Predicciones\n"
   ]
  },
  {
   "cell_type": "code",
   "execution_count": 6,
   "metadata": {},
   "outputs": [],
   "source": [
    "predictions = auto_sarima_model.predict(len(test_df[\"gap\"]))"
   ]
  },
  {
   "cell_type": "markdown",
   "metadata": {},
   "source": [
    "## Grafica de resultados\n"
   ]
  },
  {
   "cell_type": "code",
   "execution_count": 7,
   "metadata": {},
   "outputs": [
    {
     "data": {
      "image/png": "[encoded data removed]",
      "text/plain": [
       "<Figure size 700x300 with 1 Axes>"
      ]
     },
     "metadata": {},
     "output_type": "display_data"
    }
   ],
   "source": [
    "fig, ax = plt.subplots(figsize=(7, 3))\n",
    "test_df[\"gap\"].plot(ax=ax, label=\"test\")\n",
    "plt.plot(test_df[\"gap\"].index, predictions, label=\"predictions test\")\n",
    "ax.set_title(\"Predicciones con el mejor modelo SARIMA vs test\")\n",
    "ax.legend()\n",
    "plt.show()"
   ]
  },
  {
   "cell_type": "code",
   "execution_count": 8,
   "metadata": {},
   "outputs": [],
   "source": [
    "rmse = root_mean_squared_error(test_df[\"gap\"], predictions)\n",
    "mape = mean_absolute_percentage_error(test_df[\"gap\"], predictions)\n",
    "mae = mean_absolute_error(test_df[\"gap\"], predictions)"
   ]
  },
  {
   "cell_type": "code",
   "execution_count": 9,
   "metadata": {},
   "outputs": [
    {
     "name": "stdout",
     "output_type": "stream",
     "text": [
      "RMSE: 10969.222353664427\n",
      "MAPE: 0.10896514047162385\n",
      "MAE: 8877.46402904161\n"
     ]
    }
   ],
   "source": [
    "print(f\"RMSE: {rmse}\")\n",
    "print(f\"MAPE: {mape}\")\n",
    "print(f\"MAE: {mae}\")"
   ]
  },
  {
   "cell_type": "markdown",
   "metadata": {},
   "source": [
    "# Final model\n"
   ]
  },
  {
   "cell_type": "code",
   "execution_count": 10,
   "metadata": {},
   "outputs": [
    {
     "name": "stdout",
     "output_type": "stream",
     "text": [
      "SARIMA Order: (0, 1, 3)\n",
      "Seasonal Order: (2, 0, 0, 7)\n",
      "RMSE: 10484.098059636692\n",
      "MAPE: 10.65%\n"
     ]
    }
   ],
   "source": [
    "(\n",
    "    mape_sarima_rolling,\n",
    "    rmse_sarima_rolling,\n",
    "    [predictions__sarima_rolling, values__sarima_rolling],\n",
    ") = sarima_rolling_training_rolling_prediction(\n",
    "    train_df=train_and_validation_df,\n",
    "    test_df=test_df,\n",
    "    arima_order=arima_order,\n",
    "    seasonal_order=seasonal_order,\n",
    "    column=\"gap\",\n",
    ")"
   ]
  },
  {
   "cell_type": "code",
   "execution_count": 11,
   "metadata": {},
   "outputs": [
    {
     "data": {
      "application/vnd.plotly.v1+json": {
       "config": {
        "plotlyServerURL": "https://plot.ly"
       },
       "data": [
        {
         "hovertemplate": "Series=Valor Real<br>Fecha=%{x}<br>Flete producción mean=%{y}<extra></extra>",
         "legendgroup": "Valor Real",
         "line": {
          "color": "#636efa",
          "dash": "solid"
         },
         "marker": {
          "symbol": "circle"
         },
         "mode": "lines+markers",
         "name": "Valor Real",
         "orientation": "v",
         "showlegend": true,
         "type": "scatter",
         "x": [
          "2015-08-02T00:00:00",
          "2015-08-03T00:00:00",
          "2015-08-04T00:00:00",
          "2015-08-05T00:00:00",
          "2015-08-06T00:00:00",
          "2015-08-07T00:00:00",
          "2015-08-08T00:00:00",
          "2015-08-09T00:00:00",
          "2015-08-10T00:00:00",
          "2015-08-11T00:00:00",
          "2015-08-12T00:00:00",
          "2015-08-13T00:00:00",
          "2015-08-14T00:00:00",
          "2015-08-15T00:00:00",
          "2015-08-16T00:00:00",
          "2015-08-17T00:00:00",
          "2015-08-18T00:00:00",
          "2015-08-19T00:00:00",
          "2015-08-20T00:00:00",
          "2015-08-21T00:00:00",
          "2015-08-22T00:00:00",
          "2015-08-23T00:00:00",
          "2015-08-24T00:00:00",
          "2015-08-25T00:00:00",
          "2015-08-26T00:00:00",
          "2015-08-27T00:00:00",
          "2015-08-28T00:00:00",
          "2015-08-29T00:00:00",
          "2015-08-30T00:00:00",
          "2015-08-31T00:00:00"
         ],
         "xaxis": "x",
         "y": [
          56499,
          65712,
          100339,
          80999,
          96870,
          79060,
          73044,
          77648,
          89887,
          85371,
          80016,
          77471,
          82299,
          73489,
          60586,
          93839,
          100529,
          82260,
          85008,
          79257,
          69344,
          66164,
          93346,
          82358,
          74204,
          91839,
          69723,
          68812,
          74384,
          91991
         ],
         "yaxis": "y"
        },
        {
         "hovertemplate": "Series=Predicción<br>Fecha=%{x}<br>Flete producción mean=%{y}<extra></extra>",
         "legendgroup": "Predicción",
         "line": {
          "color": "#EF553B",
          "dash": "solid"
         },
         "marker": {
          "symbol": "circle"
         },
         "mode": "lines+markers",
         "name": "Predicción",
         "orientation": "v",
         "showlegend": true,
         "type": "scatter",
         "x": [
          "2015-08-02T00:00:00",
          "2015-08-03T00:00:00",
          "2015-08-04T00:00:00",
          "2015-08-05T00:00:00",
          "2015-08-06T00:00:00",
          "2015-08-07T00:00:00",
          "2015-08-08T00:00:00",
          "2015-08-09T00:00:00",
          "2015-08-10T00:00:00",
          "2015-08-11T00:00:00",
          "2015-08-12T00:00:00",
          "2015-08-13T00:00:00",
          "2015-08-14T00:00:00",
          "2015-08-15T00:00:00",
          "2015-08-16T00:00:00",
          "2015-08-17T00:00:00",
          "2015-08-18T00:00:00",
          "2015-08-19T00:00:00",
          "2015-08-20T00:00:00",
          "2015-08-21T00:00:00",
          "2015-08-22T00:00:00",
          "2015-08-23T00:00:00",
          "2015-08-24T00:00:00",
          "2015-08-25T00:00:00",
          "2015-08-26T00:00:00",
          "2015-08-27T00:00:00",
          "2015-08-28T00:00:00",
          "2015-08-29T00:00:00",
          "2015-08-30T00:00:00",
          "2015-08-31T00:00:00"
         ],
         "xaxis": "x",
         "y": [
          70139.80709398967,
          72820.163884102,
          72406.40387361185,
          86015.30991213735,
          80370.47130841229,
          82644.70977715116,
          75263.18666410712,
          72855.83401871126,
          78764.68944698505,
          88770.04491300369,
          81157.54763202863,
          86822.66170870884,
          78270.29303484982,
          79086.98785089787,
          76176.84928081355,
          74649.33997502681,
          87336.93689619438,
          85239.65328596819,
          82865.83474075749,
          83843.27818088888,
          79256.97568869923,
          74352.96197925798,
          80995.08808696995,
          88121.70503698367,
          78974.7351611334,
          78945.22904381865,
          83988.82229114209,
          72940.81780504802,
          72752.71725186458,
          82622.52624730315
         ],
         "yaxis": "y"
        }
       ],
       "layout": {
        "legend": {
         "title": {
          "text": ""
         },
         "tracegroupgap": 0
        },
        "template": {
         "data": {
          "bar": [
           {
            "error_x": {
             "color": "#2a3f5f"
            },
            "error_y": {
             "color": "#2a3f5f"
            },
            "marker": {
             "line": {
              "color": "#E5ECF6",
              "width": 0.5
             },
             "pattern": {
              "fillmode": "overlay",
              "size": 10,
              "solidity": 0.2
             }
            },
            "type": "bar"
           }
          ],
          "barpolar": [
           {
            "marker": {
             "line": {
              "color": "#E5ECF6",
              "width": 0.5
             },
             "pattern": {
              "fillmode": "overlay",
              "size": 10,
              "solidity": 0.2
             }
            },
            "type": "barpolar"
           }
          ],
          "carpet": [
           {
            "aaxis": {
             "endlinecolor": "#2a3f5f",
             "gridcolor": "white",
             "linecolor": "white",
             "minorgridcolor": "white",
             "startlinecolor": "#2a3f5f"
            },
            "baxis": {
             "endlinecolor": "#2a3f5f",
             "gridcolor": "white",
             "linecolor": "white",
             "minorgridcolor": "white",
             "startlinecolor": "#2a3f5f"
            },
            "type": "carpet"
           }
          ],
          "choropleth": [
           {
            "colorbar": {
             "outlinewidth": 0,
             "ticks": ""
            },
            "type": "choropleth"
           }
          ],
          "contour": [
           {
            "colorbar": {
             "outlinewidth": 0,
             "ticks": ""
            },
            "colorscale": [
             [
              0,
              "#0d0887"
             ],
             [
              0.1111111111111111,
              "#46039f"
             ],
             [
              0.2222222222222222,
              "#7201a8"
             ],
             [
              0.3333333333333333,
              "#9c179e"
             ],
             [
              0.4444444444444444,
              "#bd3786"
             ],
             [
              0.5555555555555556,
              "#d8576b"
             ],
             [
              0.6666666666666666,
              "#ed7953"
             ],
             [
              0.7777777777777778,
              "#fb9f3a"
             ],
             [
              0.8888888888888888,
              "#fdca26"
             ],
             [
              1,
              "#f0f921"
             ]
            ],
            "type": "contour"
           }
          ],
          "contourcarpet": [
           {
            "colorbar": {
             "outlinewidth": 0,
             "ticks": ""
            },
            "type": "contourcarpet"
           }
          ],
          "heatmap": [
           {
            "colorbar": {
             "outlinewidth": 0,
             "ticks": ""
            },
            "colorscale": [
             [
              0,
              "#0d0887"
             ],
             [
              0.1111111111111111,
              "#46039f"
             ],
             [
              0.2222222222222222,
              "#7201a8"
             ],
             [
              0.3333333333333333,
              "#9c179e"
             ],
             [
              0.4444444444444444,
              "#bd3786"
             ],
             [
              0.5555555555555556,
              "#d8576b"
             ],
             [
              0.6666666666666666,
              "#ed7953"
             ],
             [
              0.7777777777777778,
              "#fb9f3a"
             ],
             [
              0.8888888888888888,
              "#fdca26"
             ],
             [
              1,
              "#f0f921"
             ]
            ],
            "type": "heatmap"
           }
          ],
          "heatmapgl": [
           {
            "colorbar": {
             "outlinewidth": 0,
             "ticks": ""
            },
            "colorscale": [
             [
              0,
              "#0d0887"
             ],
             [
              0.1111111111111111,
              "#46039f"
             ],
             [
              0.2222222222222222,
              "#7201a8"
             ],
             [
              0.3333333333333333,
              "#9c179e"
             ],
             [
              0.4444444444444444,
              "#bd3786"
             ],
             [
              0.5555555555555556,
              "#d8576b"
             ],
             [
              0.6666666666666666,
              "#ed7953"
             ],
             [
              0.7777777777777778,
              "#fb9f3a"
             ],
             [
              0.8888888888888888,
              "#fdca26"
             ],
             [
              1,
              "#f0f921"
             ]
            ],
            "type": "heatmapgl"
           }
          ],
          "histogram": [
           {
            "marker": {
             "pattern": {
              "fillmode": "overlay",
              "size": 10,
              "solidity": 0.2
             }
            },
            "type": "histogram"
           }
          ],
          "histogram2d": [
           {
            "colorbar": {
             "outlinewidth": 0,
             "ticks": ""
            },
            "colorscale": [
             [
              0,
              "#0d0887"
             ],
             [
              0.1111111111111111,
              "#46039f"
             ],
             [
              0.2222222222222222,
              "#7201a8"
             ],
             [
              0.3333333333333333,
              "#9c179e"
             ],
             [
              0.4444444444444444,
              "#bd3786"
             ],
             [
              0.5555555555555556,
              "#d8576b"
             ],
             [
              0.6666666666666666,
              "#ed7953"
             ],
             [
              0.7777777777777778,
              "#fb9f3a"
             ],
             [
              0.8888888888888888,
              "#fdca26"
             ],
             [
              1,
              "#f0f921"
             ]
            ],
            "type": "histogram2d"
           }
          ],
          "histogram2dcontour": [
           {
            "colorbar": {
             "outlinewidth": 0,
             "ticks": ""
            },
            "colorscale": [
             [
              0,
              "#0d0887"
             ],
             [
              0.1111111111111111,
              "#46039f"
             ],
             [
              0.2222222222222222,
              "#7201a8"
             ],
             [
              0.3333333333333333,
              "#9c179e"
             ],
             [
              0.4444444444444444,
              "#bd3786"
             ],
             [
              0.5555555555555556,
              "#d8576b"
             ],
             [
              0.6666666666666666,
              "#ed7953"
             ],
             [
              0.7777777777777778,
              "#fb9f3a"
             ],
             [
              0.8888888888888888,
              "#fdca26"
             ],
             [
              1,
              "#f0f921"
             ]
            ],
            "type": "histogram2dcontour"
           }
          ],
          "mesh3d": [
           {
            "colorbar": {
             "outlinewidth": 0,
             "ticks": ""
            },
            "type": "mesh3d"
           }
          ],
          "parcoords": [
           {
            "line": {
             "colorbar": {
              "outlinewidth": 0,
              "ticks": ""
             }
            },
            "type": "parcoords"
           }
          ],
          "pie": [
           {
            "automargin": true,
            "type": "pie"
           }
          ],
          "scatter": [
           {
            "fillpattern": {
             "fillmode": "overlay",
             "size": 10,
             "solidity": 0.2
            },
            "type": "scatter"
           }
          ],
          "scatter3d": [
           {
            "line": {
             "colorbar": {
              "outlinewidth": 0,
              "ticks": ""
             }
            },
            "marker": {
             "colorbar": {
              "outlinewidth": 0,
              "ticks": ""
             }
            },
            "type": "scatter3d"
           }
          ],
          "scattercarpet": [
           {
            "marker": {
             "colorbar": {
              "outlinewidth": 0,
              "ticks": ""
             }
            },
            "type": "scattercarpet"
           }
          ],
          "scattergeo": [
           {
            "marker": {
             "colorbar": {
              "outlinewidth": 0,
              "ticks": ""
             }
            },
            "type": "scattergeo"
           }
          ],
          "scattergl": [
           {
            "marker": {
             "colorbar": {
              "outlinewidth": 0,
              "ticks": ""
             }
            },
            "type": "scattergl"
           }
          ],
          "scattermapbox": [
           {
            "marker": {
             "colorbar": {
              "outlinewidth": 0,
              "ticks": ""
             }
            },
            "type": "scattermapbox"
           }
          ],
          "scatterpolar": [
           {
            "marker": {
             "colorbar": {
              "outlinewidth": 0,
              "ticks": ""
             }
            },
            "type": "scatterpolar"
           }
          ],
          "scatterpolargl": [
           {
            "marker": {
             "colorbar": {
              "outlinewidth": 0,
              "ticks": ""
             }
            },
            "type": "scatterpolargl"
           }
          ],
          "scatterternary": [
           {
            "marker": {
             "colorbar": {
              "outlinewidth": 0,
              "ticks": ""
             }
            },
            "type": "scatterternary"
           }
          ],
          "surface": [
           {
            "colorbar": {
             "outlinewidth": 0,
             "ticks": ""
            },
            "colorscale": [
             [
              0,
              "#0d0887"
             ],
             [
              0.1111111111111111,
              "#46039f"
             ],
             [
              0.2222222222222222,
              "#7201a8"
             ],
             [
              0.3333333333333333,
              "#9c179e"
             ],
             [
              0.4444444444444444,
              "#bd3786"
             ],
             [
              0.5555555555555556,
              "#d8576b"
             ],
             [
              0.6666666666666666,
              "#ed7953"
             ],
             [
              0.7777777777777778,
              "#fb9f3a"
             ],
             [
              0.8888888888888888,
              "#fdca26"
             ],
             [
              1,
              "#f0f921"
             ]
            ],
            "type": "surface"
           }
          ],
          "table": [
           {
            "cells": {
             "fill": {
              "color": "#EBF0F8"
             },
             "line": {
              "color": "white"
             }
            },
            "header": {
             "fill": {
              "color": "#C8D4E3"
             },
             "line": {
              "color": "white"
             }
            },
            "type": "table"
           }
          ]
         },
         "layout": {
          "annotationdefaults": {
           "arrowcolor": "#2a3f5f",
           "arrowhead": 0,
           "arrowwidth": 1
          },
          "autotypenumbers": "strict",
          "coloraxis": {
           "colorbar": {
            "outlinewidth": 0,
            "ticks": ""
           }
          },
          "colorscale": {
           "diverging": [
            [
             0,
             "#8e0152"
            ],
            [
             0.1,
             "#c51b7d"
            ],
            [
             0.2,
             "#de77ae"
            ],
            [
             0.3,
             "#f1b6da"
            ],
            [
             0.4,
             "#fde0ef"
            ],
            [
             0.5,
             "#f7f7f7"
            ],
            [
             0.6,
             "#e6f5d0"
            ],
            [
             0.7,
             "#b8e186"
            ],
            [
             0.8,
             "#7fbc41"
            ],
            [
             0.9,
             "#4d9221"
            ],
            [
             1,
             "#276419"
            ]
           ],
           "sequential": [
            [
             0,
             "#0d0887"
            ],
            [
             0.1111111111111111,
             "#46039f"
            ],
            [
             0.2222222222222222,
             "#7201a8"
            ],
            [
             0.3333333333333333,
             "#9c179e"
            ],
            [
             0.4444444444444444,
             "#bd3786"
            ],
            [
             0.5555555555555556,
             "#d8576b"
            ],
            [
             0.6666666666666666,
             "#ed7953"
            ],
            [
             0.7777777777777778,
             "#fb9f3a"
            ],
            [
             0.8888888888888888,
             "#fdca26"
            ],
            [
             1,
             "#f0f921"
            ]
           ],
           "sequentialminus": [
            [
             0,
             "#0d0887"
            ],
            [
             0.1111111111111111,
             "#46039f"
            ],
            [
             0.2222222222222222,
             "#7201a8"
            ],
            [
             0.3333333333333333,
             "#9c179e"
            ],
            [
             0.4444444444444444,
             "#bd3786"
            ],
            [
             0.5555555555555556,
             "#d8576b"
            ],
            [
             0.6666666666666666,
             "#ed7953"
            ],
            [
             0.7777777777777778,
             "#fb9f3a"
            ],
            [
             0.8888888888888888,
             "#fdca26"
            ],
            [
             1,
             "#f0f921"
            ]
           ]
          },
          "colorway": [
           "#636efa",
           "#EF553B",
           "#00cc96",
           "#ab63fa",
           "#FFA15A",
           "#19d3f3",
           "#FF6692",
           "#B6E880",
           "#FF97FF",
           "#FECB52"
          ],
          "font": {
           "color": "#2a3f5f"
          },
          "geo": {
           "bgcolor": "white",
           "lakecolor": "white",
           "landcolor": "#E5ECF6",
           "showlakes": true,
           "showland": true,
           "subunitcolor": "white"
          },
          "hoverlabel": {
           "align": "left"
          },
          "hovermode": "closest",
          "mapbox": {
           "style": "light"
          },
          "paper_bgcolor": "white",
          "plot_bgcolor": "#E5ECF6",
          "polar": {
           "angularaxis": {
            "gridcolor": "white",
            "linecolor": "white",
            "ticks": ""
           },
           "bgcolor": "#E5ECF6",
           "radialaxis": {
            "gridcolor": "white",
            "linecolor": "white",
            "ticks": ""
           }
          },
          "scene": {
           "xaxis": {
            "backgroundcolor": "#E5ECF6",
            "gridcolor": "white",
            "gridwidth": 2,
            "linecolor": "white",
            "showbackground": true,
            "ticks": "",
            "zerolinecolor": "white"
           },
           "yaxis": {
            "backgroundcolor": "#E5ECF6",
            "gridcolor": "white",
            "gridwidth": 2,
            "linecolor": "white",
            "showbackground": true,
            "ticks": "",
            "zerolinecolor": "white"
           },
           "zaxis": {
            "backgroundcolor": "#E5ECF6",
            "gridcolor": "white",
            "gridwidth": 2,
            "linecolor": "white",
            "showbackground": true,
            "ticks": "",
            "zerolinecolor": "white"
           }
          },
          "shapedefaults": {
           "line": {
            "color": "#2a3f5f"
           }
          },
          "ternary": {
           "aaxis": {
            "gridcolor": "white",
            "linecolor": "white",
            "ticks": ""
           },
           "baxis": {
            "gridcolor": "white",
            "linecolor": "white",
            "ticks": ""
           },
           "bgcolor": "#E5ECF6",
           "caxis": {
            "gridcolor": "white",
            "linecolor": "white",
            "ticks": ""
           }
          },
          "title": {
           "x": 0.05
          },
          "xaxis": {
           "automargin": true,
           "gridcolor": "white",
           "linecolor": "white",
           "ticks": "",
           "title": {
            "standoff": 15
           },
           "zerolinecolor": "white",
           "zerolinewidth": 2
          },
          "yaxis": {
           "automargin": true,
           "gridcolor": "white",
           "linecolor": "white",
           "ticks": "",
           "title": {
            "standoff": 15
           },
           "zerolinecolor": "white",
           "zerolinewidth": 2
          }
         }
        },
        "title": {
         "text": "Comparación de los valores reales del modelo SARIMA usando ROLLING TRAINING - ROLLING PREDICTIONS"
        },
        "xaxis": {
         "anchor": "y",
         "domain": [
          0,
          1
         ],
         "title": {
          "text": "Fecha"
         }
        },
        "yaxis": {
         "anchor": "x",
         "domain": [
          0,
          1
         ],
         "title": {
          "text": "Flete producción mean"
         }
        }
       }
      }
     },
     "metadata": {},
     "output_type": "display_data"
    }
   ],
   "source": [
    "plot_arima(\n",
    "    test_df,\n",
    "    values__sarima_rolling,\n",
    "    predictions__sarima_rolling,\n",
    "    title=\"Comparación de los valores reales del modelo SARIMA usando ROLLING TRAINING - ROLLING PREDICTIONS\",\n",
    ")"
   ]
  }
 ],
 "metadata": {
  "kernelspec": {
   "display_name": ".venv",
   "language": "python",
   "name": "python3"
  },
  "language_info": {
   "codemirror_mode": {
    "name": "ipython",
    "version": 3
   },
   "file_extension": ".py",
   "mimetype": "text/x-python",
   "name": "python",
   "nbconvert_exporter": "python",
   "pygments_lexer": "ipython3",
   "version": "3.11.8"
  }
 },
 "nbformat": 4,
 "nbformat_minor": 2
}
