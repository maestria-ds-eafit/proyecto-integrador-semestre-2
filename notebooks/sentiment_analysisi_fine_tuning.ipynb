{
 "cells": [
  {
   "cell_type": "code",
   "execution_count": 1,
   "metadata": {},
   "outputs": [],
   "source": [
    "import awswrangler as wr\n",
    "import pandas as pd\n",
    "import evaluate\n",
    "import numpy as np\n",
    "\n",
    "from transformers import (\n",
    "    AutoTokenizer,\n",
    "    DataCollatorWithPadding,\n",
    "    AutoModelForSequenceClassification,\n",
    "    TrainingArguments,\n",
    "    Trainer,\n",
    ")\n",
    "\n",
    "from sklearn.model_selection import train_test_split\n",
    "from datasets import Dataset, DatasetDict"
   ]
  },
  {
   "cell_type": "code",
   "execution_count": 2,
   "metadata": {},
   "outputs": [],
   "source": [
    "pd.options.mode.copy_on_write = True"
   ]
  },
  {
   "cell_type": "code",
   "execution_count": 3,
   "metadata": {},
   "outputs": [],
   "source": [
    "df = wr.s3.read_parquet(path=\"s3://amazon-reviews-eafit/sample/\")"
   ]
  },
  {
   "cell_type": "code",
   "execution_count": 4,
   "metadata": {},
   "outputs": [],
   "source": [
    "label2id = {\"negative\": 0, \"neutral\": 1, \"positive\": 2}\n",
    "id2label = {0: \"negative\", 1: \"neutral\", 2: \"positive\"}\n",
    "df[\"labels\"] = df[\"sentiment\"].map(label2id)"
   ]
  },
  {
   "cell_type": "code",
   "execution_count": 5,
   "metadata": {},
   "outputs": [],
   "source": [
    "df_sentiment = df[[\"review_body\", \"sentiment\", \"labels\"]]"
   ]
  },
  {
   "cell_type": "code",
   "execution_count": 6,
   "metadata": {},
   "outputs": [],
   "source": [
    "df_temp, df_test = train_test_split(df_sentiment, test_size=0.2, random_state=42)\n",
    "df_train, df_val = train_test_split(df_temp, test_size=0.5, random_state=42)"
   ]
  },
  {
   "cell_type": "code",
   "execution_count": 7,
   "metadata": {},
   "outputs": [],
   "source": [
    "dataset_test = Dataset.from_pandas(df_test)\n",
    "dataset_val = Dataset.from_pandas(df_val)\n",
    "dataset_train = Dataset.from_pandas(df_train)\n",
    "\n",
    "dataset_dict = DatasetDict(\n",
    "    {\"train\": dataset_train, \"validation\": dataset_val, \"test\": dataset_test}\n",
    ")"
   ]
  },
  {
   "cell_type": "code",
   "execution_count": 8,
   "metadata": {},
   "outputs": [
    {
     "name": "stderr",
     "output_type": "stream",
     "text": [
      "/home/camilo/proyecto-integrador-semestre-2/.venv/lib/python3.11/site-packages/huggingface_hub/file_download.py:1132: FutureWarning: `resume_download` is deprecated and will be removed in version 1.0.0. Downloads always resume when possible. If you want to force a new download, use `force_download=True`.\n",
      "  warnings.warn(\n"
     ]
    }
   ],
   "source": [
    "model = \"distilbert/distilbert-base-uncased\"\n",
    "\n",
    "tokenizer = AutoTokenizer.from_pretrained(model)"
   ]
  },
  {
   "cell_type": "code",
   "execution_count": 9,
   "metadata": {},
   "outputs": [],
   "source": [
    "def preprocess_function(examples):\n",
    "    return tokenizer(examples[\"review_body\"], truncation=True)"
   ]
  },
  {
   "cell_type": "code",
   "execution_count": 10,
   "metadata": {},
   "outputs": [
    {
     "data": {
      "application/vnd.jupyter.widget-view+json": {
       "model_id": "5611b311f4c647e49ed3f48448d2ce3b",
       "version_major": 2,
       "version_minor": 0
      },
      "text/plain": [
       "Map:   0%|          | 0/399693 [00:00<?, ? examples/s]"
      ]
     },
     "metadata": {},
     "output_type": "display_data"
    },
    {
     "data": {
      "application/vnd.jupyter.widget-view+json": {
       "model_id": "399bebcb64884310980a4aec9a13f7e2",
       "version_major": 2,
       "version_minor": 0
      },
      "text/plain": [
       "Map:   0%|          | 0/399694 [00:00<?, ? examples/s]"
      ]
     },
     "metadata": {},
     "output_type": "display_data"
    },
    {
     "data": {
      "application/vnd.jupyter.widget-view+json": {
       "model_id": "70f04cca053140c587c389aaec3d16ce",
       "version_major": 2,
       "version_minor": 0
      },
      "text/plain": [
       "Map:   0%|          | 0/199847 [00:00<?, ? examples/s]"
      ]
     },
     "metadata": {},
     "output_type": "display_data"
    }
   ],
   "source": [
    "tokenized_data_train = dataset_dict[\"train\"].map(preprocess_function, batched=True)\n",
    "tokenized_data_validation = dataset_dict[\"validation\"].map(\n",
    "    preprocess_function, batched=True\n",
    ")\n",
    "tokenized_data_test = dataset_dict[\"test\"].map(preprocess_function, batched=True)"
   ]
  },
  {
   "cell_type": "code",
   "execution_count": 11,
   "metadata": {},
   "outputs": [],
   "source": [
    "data_collator = DataCollatorWithPadding(tokenizer=tokenizer)"
   ]
  },
  {
   "cell_type": "code",
   "execution_count": 12,
   "metadata": {},
   "outputs": [],
   "source": [
    "accuracy = evaluate.load(\"accuracy\")"
   ]
  },
  {
   "cell_type": "code",
   "execution_count": 13,
   "metadata": {},
   "outputs": [],
   "source": [
    "def compute_metrics(eval_pred):\n",
    "    predictions, labels = eval_pred\n",
    "    predictions = np.argmax(predictions, axis=1)\n",
    "    return accuracy.compute(predictions=predictions, references=labels)"
   ]
  },
  {
   "cell_type": "code",
   "execution_count": 14,
   "metadata": {},
   "outputs": [
    {
     "name": "stderr",
     "output_type": "stream",
     "text": [
      "Some weights of DistilBertForSequenceClassification were not initialized from the model checkpoint at distilbert/distilbert-base-uncased and are newly initialized: ['classifier.bias', 'classifier.weight', 'pre_classifier.bias', 'pre_classifier.weight']\n",
      "You should probably TRAIN this model on a down-stream task to be able to use it for predictions and inference.\n"
     ]
    }
   ],
   "source": [
    "model = AutoModelForSequenceClassification.from_pretrained(\n",
    "    model, num_labels=3, id2label=id2label, label2id=label2id\n",
    ")"
   ]
  },
  {
   "cell_type": "code",
   "execution_count": 15,
   "metadata": {},
   "outputs": [],
   "source": [
    "small_train_dataset = tokenized_data_train.select(range(4000))\n",
    "small_eval_dataset = tokenized_data_validation.select(range(4000))"
   ]
  },
  {
   "cell_type": "code",
   "execution_count": 16,
   "metadata": {},
   "outputs": [
    {
     "data": {
      "text/html": [
       "\n",
       "    <div>\n",
       "      \n",
       "      <progress value='10' max='10' style='width:300px; height:20px; vertical-align: middle;'></progress>\n",
       "      [10/10 00:13, Epoch 10/10]\n",
       "    </div>\n",
       "    <table border=\"1\" class=\"dataframe\">\n",
       "  <thead>\n",
       " <tr style=\"text-align: left;\">\n",
       "      <th>Epoch</th>\n",
       "      <th>Training Loss</th>\n",
       "      <th>Validation Loss</th>\n",
       "      <th>Accuracy</th>\n",
       "    </tr>\n",
       "  </thead>\n",
       "  <tbody>\n",
       "    <tr>\n",
       "      <td>1</td>\n",
       "      <td>No log</td>\n",
       "      <td>1.003406</td>\n",
       "      <td>0.900000</td>\n",
       "    </tr>\n",
       "    <tr>\n",
       "      <td>2</td>\n",
       "      <td>No log</td>\n",
       "      <td>0.968266</td>\n",
       "      <td>0.900000</td>\n",
       "    </tr>\n",
       "    <tr>\n",
       "      <td>3</td>\n",
       "      <td>No log</td>\n",
       "      <td>0.938913</td>\n",
       "      <td>0.900000</td>\n",
       "    </tr>\n",
       "    <tr>\n",
       "      <td>4</td>\n",
       "      <td>No log</td>\n",
       "      <td>0.913134</td>\n",
       "      <td>0.900000</td>\n",
       "    </tr>\n",
       "    <tr>\n",
       "      <td>5</td>\n",
       "      <td>No log</td>\n",
       "      <td>0.889862</td>\n",
       "      <td>0.900000</td>\n",
       "    </tr>\n",
       "    <tr>\n",
       "      <td>6</td>\n",
       "      <td>No log</td>\n",
       "      <td>0.869634</td>\n",
       "      <td>0.900000</td>\n",
       "    </tr>\n",
       "    <tr>\n",
       "      <td>7</td>\n",
       "      <td>No log</td>\n",
       "      <td>0.852722</td>\n",
       "      <td>0.900000</td>\n",
       "    </tr>\n",
       "    <tr>\n",
       "      <td>8</td>\n",
       "      <td>No log</td>\n",
       "      <td>0.839562</td>\n",
       "      <td>0.900000</td>\n",
       "    </tr>\n",
       "    <tr>\n",
       "      <td>9</td>\n",
       "      <td>No log</td>\n",
       "      <td>0.830647</td>\n",
       "      <td>0.900000</td>\n",
       "    </tr>\n",
       "    <tr>\n",
       "      <td>10</td>\n",
       "      <td>No log</td>\n",
       "      <td>0.826095</td>\n",
       "      <td>0.900000</td>\n",
       "    </tr>\n",
       "  </tbody>\n",
       "</table><p>"
      ],
      "text/plain": [
       "<IPython.core.display.HTML object>"
      ]
     },
     "metadata": {},
     "output_type": "display_data"
    },
    {
     "name": "stdout",
     "output_type": "stream",
     "text": [
      "[[-0.07034697 -0.06512833  0.09396879]\n",
      " [-0.08964043 -0.10036284  0.14079048]\n",
      " [-0.08319017 -0.0696836   0.09275185]\n",
      " [-0.06414641 -0.10149805  0.12201326]\n",
      " [-0.09208728 -0.11780275  0.03106743]\n",
      " [-0.04814252 -0.12362385  0.0518225 ]\n",
      " [-0.09157604 -0.10261454  0.10668561]\n",
      " [-0.04655125 -0.10129008  0.11398774]\n",
      " [-0.06767966 -0.10876579  0.09050222]\n",
      " [-0.107526   -0.08147936  0.1240765 ]]\n",
      "[2 0 2 2 2 2 2 2 2 2]\n",
      "[[-0.10268004 -0.09105799  0.14089754]\n",
      " [-0.12362011 -0.12548278  0.18410753]\n",
      " [-0.10835928 -0.09061238  0.12833878]\n",
      " [-0.08618977 -0.11635546  0.15498936]\n",
      " [-0.12620082 -0.14373538  0.07994751]\n",
      " [-0.07624983 -0.14330585  0.09357709]\n",
      " [-0.12474862 -0.12781502  0.14986454]\n",
      " [-0.0656674  -0.11412975  0.14597331]\n",
      " [-0.11157286 -0.14428517  0.14732778]\n",
      " [-0.13800226 -0.11187408  0.16831607]]\n",
      "[2 0 2 2 2 2 2 2 2 2]\n",
      "[[-0.12901244 -0.11269853  0.18216753]\n",
      " [-0.15290445 -0.148538    0.22164413]\n",
      " [-0.13012674 -0.11054542  0.15793431]\n",
      " [-0.10418148 -0.13131537  0.18383773]\n",
      " [-0.15701336 -0.1683343   0.12274368]\n",
      " [-0.0988455  -0.16325915  0.12743154]\n",
      " [-0.15106371 -0.1514722   0.18675545]\n",
      " [-0.08073131 -0.12708354  0.1730795 ]\n",
      " [-0.14562824 -0.17597248  0.19600528]\n",
      " [-0.16390587 -0.13853697  0.20723963]]\n",
      "[2 0 2 2 2 2 2 2 2 2]\n",
      "[[-0.15079182 -0.13196145  0.22137713]\n",
      " [-0.1777954  -0.17215264  0.25639734]\n",
      " [-0.14938046 -0.1285226   0.18387426]\n",
      " [-0.11950087 -0.14599968  0.20971079]\n",
      " [-0.18424566 -0.19410565  0.16140383]\n",
      " [-0.11626406 -0.18312496  0.15729848]\n",
      " [-0.17423548 -0.1740499   0.21956941]\n",
      " [-0.09360998 -0.14057249  0.19712487]\n",
      " [-0.17330754 -0.20387405  0.23960343]\n",
      " [-0.1865654  -0.1611354   0.24416646]]\n",
      "[2 0 2 2 2 2 2 2 2 2]\n",
      "[[-0.17109028 -0.1511272   0.2587959 ]\n",
      " [-0.19913568 -0.19538568  0.286294  ]\n",
      " [-0.16779718 -0.14675303  0.20651159]\n",
      " [-0.13358124 -0.16106687  0.23239937]\n",
      " [-0.21290685 -0.21995519  0.19864276]\n",
      " [-0.13153856 -0.20295438  0.1829297 ]\n",
      " [-0.19642903 -0.19618319  0.24782145]\n",
      " [-0.10464699 -0.15426797  0.21845204]\n",
      " [-0.1993846  -0.22681235  0.279302  ]\n",
      " [-0.20555875 -0.18113755  0.2767128 ]]\n",
      "[2 0 2 2 2 2 2 2 2 2]\n",
      "[[-0.19259942 -0.17044926  0.2943899 ]\n",
      " [-0.21763934 -0.21410516  0.3124474 ]\n",
      " [-0.18482919 -0.16335846  0.22647683]\n",
      " [-0.14656073 -0.17544942  0.25269467]\n",
      " [-0.23820455 -0.24166791  0.2301359 ]\n",
      " [-0.14503014 -0.22088258  0.20537266]\n",
      " [-0.21808021 -0.2175191   0.27445042]\n",
      " [-0.1142509  -0.16727078  0.23700851]\n",
      " [-0.22188884 -0.24486771  0.31451207]\n",
      " [-0.21858886 -0.20007338  0.3025719 ]]\n",
      "[2 0 2 2 2 2 2 2 2 2]\n",
      "[[-0.21177825 -0.18792179  0.32397497]\n",
      " [-0.23323837 -0.2291547   0.33432266]\n",
      " [-0.19986968 -0.17747049  0.24409379]\n",
      " [-0.15773395 -0.1880291   0.26955903]\n",
      " [-0.2602876  -0.25902632  0.25807002]\n",
      " [-0.15705772 -0.23646408  0.22488268]\n",
      " [-0.23667684 -0.23826338  0.29728281]\n",
      " [-0.12239718 -0.17856626  0.2525932 ]\n",
      " [-0.24149714 -0.25977403  0.34260228]\n",
      " [-0.22957975 -0.21564871  0.32412565]]\n",
      "[2 0 2 2 2 2 2 2 2 2]\n",
      "[[-0.22669855 -0.20142524  0.34753987]\n",
      " [-0.24599957 -0.24043855  0.35159788]\n",
      " [-0.21192354 -0.1885637   0.25774458]\n",
      " [-0.16668087 -0.19792597  0.28267932]\n",
      " [-0.27782977 -0.272808    0.28017607]\n",
      " [-0.16683678 -0.2489792   0.24021855]\n",
      " [-0.2519681  -0.25483885  0.3162517 ]\n",
      " [-0.12932628 -0.18730108  0.26529795]\n",
      " [-0.2569683  -0.27132004  0.36469832]\n",
      " [-0.23865943 -0.22774455  0.3414996 ]]\n",
      "[2 0 2 2 2 2 2 2 2 2]\n",
      "[[-0.2364456  -0.21067801  0.3633156 ]\n",
      " [-0.25474575 -0.24846008  0.36344072]\n",
      " [-0.2200107  -0.19616014  0.2671396 ]\n",
      " [-0.17288142 -0.2047423   0.29193062]\n",
      " [-0.28979266 -0.28243485  0.2951131 ]\n",
      " [-0.17364942 -0.25770214  0.25092265]\n",
      " [-0.26327375 -0.26628345  0.3284335 ]\n",
      " [-0.13408098 -0.19327499  0.2741269 ]\n",
      " [-0.2676316  -0.27964532  0.38003767]\n",
      " [-0.24506876 -0.23611267  0.35365573]]\n",
      "[2 0 2 2 2 2 2 2 2 2]\n",
      "[[-0.24117097 -0.21535559  0.37150306]\n",
      " [-0.25932807 -0.25227195  0.36952347]\n",
      " [-0.22399862 -0.20003971  0.27200913]\n",
      " [-0.17607647 -0.2082669   0.29660797]\n",
      " [-0.2959946  -0.28744748  0.30285916]\n",
      " [-0.1771152  -0.2621227   0.25672594]\n",
      " [-0.2691648  -0.27231637  0.33460307]\n",
      " [-0.13647747 -0.1963689   0.27872643]\n",
      " [-0.27304614 -0.28408054  0.3880108 ]\n",
      " [-0.24843144 -0.2403772   0.35999718]]\n",
      "[2 0 2 2 2 2 2 2 2 2]\n"
     ]
    }
   ],
   "source": [
    "training_args = TrainingArguments(\n",
    "    output_dir=\"../data/prediction_sentiment\",\n",
    "    learning_rate=2e-5,\n",
    "    per_device_train_batch_size=64,\n",
    "    per_device_eval_batch_size=64,\n",
    "    num_train_epochs=10,\n",
    "    weight_decay=0.01,\n",
    "    evaluation_strategy=\"epoch\",\n",
    "    save_strategy=\"epoch\",\n",
    "    load_best_model_at_end=True,\n",
    "    push_to_hub=True,\n",
    ")\n",
    "\n",
    "trainer = Trainer(\n",
    "    model=model,\n",
    "    args=training_args,\n",
    "    train_dataset=small_train_dataset,\n",
    "    eval_dataset=small_eval_dataset,\n",
    "    tokenizer=tokenizer,\n",
    "    data_collator=data_collator,\n",
    "    compute_metrics=compute_metrics,\n",
    ")\n",
    "\n",
    "trainer.train()"
   ]
  },
  {
   "cell_type": "code",
   "execution_count": 20,
   "metadata": {},
   "outputs": [],
   "source": [
    "df_results = pd.DataFrame(trainer.state.log_history)"
   ]
  },
  {
   "cell_type": "code",
   "execution_count": 23,
   "metadata": {},
   "outputs": [],
   "source": [
    "df_results.to_parquet(\"../data/prediction_sentiment_results/metrics.parquet\")"
   ]
  },
  {
   "cell_type": "markdown",
   "metadata": {},
   "source": [
    "# Test"
   ]
  },
  {
   "cell_type": "code",
   "execution_count": 31,
   "metadata": {},
   "outputs": [],
   "source": [
    "small_test_dataset = tokenized_data_test.select(range(50))"
   ]
  },
  {
   "cell_type": "code",
   "execution_count": 32,
   "metadata": {},
   "outputs": [
    {
     "data": {
      "text/html": [],
      "text/plain": [
       "<IPython.core.display.HTML object>"
      ]
     },
     "metadata": {},
     "output_type": "display_data"
    },
    {
     "name": "stdout",
     "output_type": "stream",
     "text": [
      "[[-0.25960073 -0.20126009  0.35329914]\n",
      " [-0.20641065 -0.27886903  0.2990285 ]\n",
      " [-0.22442305 -0.23175992  0.41484722]\n",
      " [-0.2592337  -0.28604758  0.37312222]\n",
      " [-0.14394376 -0.16613027  0.20483293]\n",
      " [-0.28855333 -0.26329023  0.3183465 ]\n",
      " [-0.24456218 -0.21102923  0.33713728]\n",
      " [-0.31210604 -0.23386143  0.3391418 ]\n",
      " [-0.21083833 -0.2646261   0.34310266]\n",
      " [-0.2828176  -0.22596319  0.2903264 ]\n",
      " [-0.23851496 -0.2348367   0.33882952]\n",
      " [-0.18507767 -0.2209858   0.3215231 ]\n",
      " [-0.26124606 -0.34718725  0.3388014 ]\n",
      " [-0.15659906 -0.14399435  0.24770403]\n",
      " [-0.26132092 -0.29749846  0.31240577]\n",
      " [-0.23109068 -0.22583587  0.29862145]\n",
      " [-0.23882306 -0.21832752  0.2835646 ]\n",
      " [-0.2242401  -0.19587764  0.38308346]\n",
      " [-0.28589264 -0.26042828  0.38531306]\n",
      " [-0.21789905 -0.2553931   0.348731  ]\n",
      " [-0.2943241  -0.25461313  0.35278887]\n",
      " [-0.19543068 -0.23868348  0.26050434]\n",
      " [-0.2233388  -0.32181022  0.34461638]\n",
      " [-0.23570442 -0.23283076  0.37417972]\n",
      " [-0.33094805 -0.2869413   0.35011443]\n",
      " [-0.20142892 -0.15367495  0.33395076]\n",
      " [-0.19350311 -0.19285995  0.23634145]\n",
      " [-0.30635676 -0.28527516  0.4247813 ]\n",
      " [-0.31603098 -0.21822229  0.32263827]\n",
      " [-0.27210063 -0.26340464  0.2983917 ]\n",
      " [-0.20530617 -0.13890643  0.3238292 ]\n",
      " [-0.28499877 -0.26099303  0.2622066 ]\n",
      " [-0.27231348 -0.27661338  0.357391  ]\n",
      " [-0.25325075 -0.3343214   0.37787724]\n",
      " [-0.24629188 -0.13842756  0.23425959]\n",
      " [-0.12630539 -0.11719219  0.18946357]\n",
      " [-0.30953166 -0.27758282  0.366893  ]\n",
      " [-0.22328779 -0.29054582  0.31285757]\n",
      " [-0.28914112 -0.2636479   0.38219276]\n",
      " [-0.31592748 -0.20748308  0.35051423]\n",
      " [-0.20406018 -0.24143718  0.32791865]\n",
      " [-0.20260696 -0.2616877   0.30617958]\n",
      " [-0.24118157 -0.2924953   0.30026254]\n",
      " [-0.20288719 -0.1649115   0.2518284 ]\n",
      " [-0.30792648 -0.27790973  0.3206218 ]\n",
      " [-0.24067909 -0.21160597  0.3061687 ]\n",
      " [-0.27628058 -0.26982656  0.3766906 ]\n",
      " [-0.33109164 -0.29698193  0.34682176]\n",
      " [-0.24652271 -0.2938758   0.38182858]\n",
      " [-0.2584834  -0.29979724  0.35188815]]\n",
      "[2 2 2 2 2 1 2 2 2 2 0 0 2 2 2 2 2 2 2 0 2 2 2 2 2 2 1 2 2 2 2 2 1 2 0 2 2\n",
      " 2 2 0 0 0 2 2 0 2 2 2 2 2]\n"
     ]
    }
   ],
   "source": [
    "predictions_test = trainer.predict(small_test_dataset)"
   ]
  },
  {
   "cell_type": "code",
   "execution_count": 33,
   "metadata": {},
   "outputs": [
    {
     "data": {
      "text/plain": [
       "{'test_loss': 0.8799773454666138,\n",
       " 'test_accuracy': 0.78,\n",
       " 'test_runtime': 0.8222,\n",
       " 'test_samples_per_second': 60.814,\n",
       " 'test_steps_per_second': 1.216}"
      ]
     },
     "execution_count": 33,
     "metadata": {},
     "output_type": "execute_result"
    }
   ],
   "source": [
    "df_result_test = pd.DataFrame(predictions_test.metrics)\n",
    "\n",
    "df_result_test.to_parquet(\"../data/prediction_sentiment_results/metrics_test.parquet\")"
   ]
  },
  {
   "cell_type": "code",
   "execution_count": null,
   "metadata": {},
   "outputs": [],
   "source": []
  }
 ],
 "metadata": {
  "kernelspec": {
   "display_name": ".venv",
   "language": "python",
   "name": "python3"
  },
  "language_info": {
   "codemirror_mode": {
    "name": "ipython",
    "version": 3
   },
   "file_extension": ".py",
   "mimetype": "text/x-python",
   "name": "python",
   "nbconvert_exporter": "python",
   "pygments_lexer": "ipython3",
   "version": "3.11.5"
  }
 },
 "nbformat": 4,
 "nbformat_minor": 2
}
