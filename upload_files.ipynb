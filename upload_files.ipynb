{
 "cells": [
  {
   "cell_type": "code",
   "execution_count": 4,
   "metadata": {},
   "outputs": [],
   "source": [
    "import os\n",
    "import boto3\n",
    "import pandas as pd"
   ]
  },
  {
   "cell_type": "code",
   "execution_count": 5,
   "metadata": {},
   "outputs": [],
   "source": [
    "def upload_files_to_s3(folder_path, bucket_name):\n",
    "    # Create an S3 client\n",
    "    s3 = boto3.client(\"s3\")\n",
    "\n",
    "    # List all files in the folder\n",
    "    files = os.listdir(folder_path)\n",
    "\n",
    "    for file_name in files:\n",
    "        print(file_name)\n",
    "        if file_name.endswith(\".tsv\"):\n",
    "            file_path = os.path.join(folder_path, file_name)\n",
    "            key = f\"data/{file_name}\"\n",
    "\n",
    "            # Extract category from file name\n",
    "            category = file_name.split(\"us_\")[1].split(\"_v1\")[0].lower()\n",
    "\n",
    "            # Read the TSV file\n",
    "            df = pd.read_csv(file_path, sep=\"\\t\", on_bad_lines=\"skip\")\n",
    "\n",
    "            # Add category column\n",
    "            df[\"category\"] = category\n",
    "\n",
    "            # Save the modified dataframe to a new TSV file\n",
    "            temp_file_path = os.path.join(folder_path, f\"{file_name}_temp.tsv\")\n",
    "            df.to_csv(temp_file_path, sep=\"\\t\", index=False)\n",
    "\n",
    "            # Upload file to S3\n",
    "            s3.upload_file(temp_file_path, bucket_name, key)\n",
    "            print(f\"Uploaded {file_name} to {bucket_name}\")"
   ]
  },
  {
   "cell_type": "code",
   "execution_count": 6,
   "metadata": {},
   "outputs": [
    {
     "name": "stdout",
     "output_type": "stream",
     "text": [
      "amazon_reviews_us_Apparel_v1_00.tsv\n",
      "Uploaded amazon_reviews_us_Apparel_v1_00.tsv to amazon-reviews-eafit\n",
      "amazon_reviews_us_Automotive_v1_00.tsv\n"
     ]
    },
    {
     "name": "stderr",
     "output_type": "stream",
     "text": [
      "/tmp/ipykernel_677047/93790808.py:18: DtypeWarning: Columns (7) have mixed types. Specify dtype option on import or set low_memory=False.\n",
      "  df = pd.read_csv(file_path, sep=\"\\t\", on_bad_lines=\"skip\")\n"
     ]
    },
    {
     "name": "stdout",
     "output_type": "stream",
     "text": [
      "Uploaded amazon_reviews_us_Automotive_v1_00.tsv to amazon-reviews-eafit\n",
      "amazon_reviews_us_Baby_v1_00.tsv\n"
     ]
    },
    {
     "name": "stderr",
     "output_type": "stream",
     "text": [
      "/tmp/ipykernel_677047/93790808.py:18: DtypeWarning: Columns (7) have mixed types. Specify dtype option on import or set low_memory=False.\n",
      "  df = pd.read_csv(file_path, sep=\"\\t\", on_bad_lines=\"skip\")\n"
     ]
    },
    {
     "name": "stdout",
     "output_type": "stream",
     "text": [
      "Uploaded amazon_reviews_us_Baby_v1_00.tsv to amazon-reviews-eafit\n",
      "amazon_reviews_us_Beauty_v1_00.tsv\n"
     ]
    },
    {
     "name": "stderr",
     "output_type": "stream",
     "text": [
      "/tmp/ipykernel_677047/93790808.py:18: DtypeWarning: Columns (7) have mixed types. Specify dtype option on import or set low_memory=False.\n",
      "  df = pd.read_csv(file_path, sep=\"\\t\", on_bad_lines=\"skip\")\n"
     ]
    },
    {
     "name": "stdout",
     "output_type": "stream",
     "text": [
      "Uploaded amazon_reviews_us_Beauty_v1_00.tsv to amazon-reviews-eafit\n",
      "amazon_reviews_us_Books_v1_02.tsv\n",
      "Uploaded amazon_reviews_us_Books_v1_02.tsv to amazon-reviews-eafit\n",
      "amazon_reviews_us_Camera_v1_00.tsv\n",
      "Uploaded amazon_reviews_us_Camera_v1_00.tsv to amazon-reviews-eafit\n",
      "amazon_reviews_us_Digital_Ebook_Purchase_v1_01.tsv\n"
     ]
    },
    {
     "name": "stderr",
     "output_type": "stream",
     "text": [
      "/tmp/ipykernel_677047/93790808.py:18: DtypeWarning: Columns (7) have mixed types. Specify dtype option on import or set low_memory=False.\n",
      "  df = pd.read_csv(file_path, sep=\"\\t\", on_bad_lines=\"skip\")\n"
     ]
    },
    {
     "name": "stdout",
     "output_type": "stream",
     "text": [
      "Uploaded amazon_reviews_us_Digital_Ebook_Purchase_v1_01.tsv to amazon-reviews-eafit\n",
      "amazon_reviews_us_Digital_Music_Purchase_v1_00.tsv\n",
      "Uploaded amazon_reviews_us_Digital_Music_Purchase_v1_00.tsv to amazon-reviews-eafit\n",
      "amazon_reviews_us_Digital_Software_v1_00.tsv\n",
      "Uploaded amazon_reviews_us_Digital_Software_v1_00.tsv to amazon-reviews-eafit\n",
      "amazon_reviews_us_Digital_Video_Download_v1_00.tsv\n",
      "Uploaded amazon_reviews_us_Digital_Video_Download_v1_00.tsv to amazon-reviews-eafit\n",
      "amazon_reviews_us_Digital_Video_Games_v1_00.tsv\n",
      "Uploaded amazon_reviews_us_Digital_Video_Games_v1_00.tsv to amazon-reviews-eafit\n",
      "amazon_reviews_us_Electronics_v1_00.tsv\n",
      "Uploaded amazon_reviews_us_Electronics_v1_00.tsv to amazon-reviews-eafit\n",
      "amazon_reviews_us_Furniture_v1_00.tsv\n",
      "Uploaded amazon_reviews_us_Furniture_v1_00.tsv to amazon-reviews-eafit\n",
      "amazon_reviews_us_Gift_Card_v1_00.tsv\n",
      "Uploaded amazon_reviews_us_Gift_Card_v1_00.tsv to amazon-reviews-eafit\n",
      "amazon_reviews_us_Grocery_v1_00.tsv\n"
     ]
    },
    {
     "name": "stderr",
     "output_type": "stream",
     "text": [
      "/tmp/ipykernel_677047/93790808.py:18: DtypeWarning: Columns (7) have mixed types. Specify dtype option on import or set low_memory=False.\n",
      "  df = pd.read_csv(file_path, sep=\"\\t\", on_bad_lines=\"skip\")\n"
     ]
    },
    {
     "name": "stdout",
     "output_type": "stream",
     "text": [
      "Uploaded amazon_reviews_us_Grocery_v1_00.tsv to amazon-reviews-eafit\n",
      "amazon_reviews_us_Health_Personal_Care_v1_00.tsv\n"
     ]
    },
    {
     "name": "stderr",
     "output_type": "stream",
     "text": [
      "/tmp/ipykernel_677047/93790808.py:18: DtypeWarning: Columns (7) have mixed types. Specify dtype option on import or set low_memory=False.\n",
      "  df = pd.read_csv(file_path, sep=\"\\t\", on_bad_lines=\"skip\")\n"
     ]
    },
    {
     "name": "stdout",
     "output_type": "stream",
     "text": [
      "Uploaded amazon_reviews_us_Health_Personal_Care_v1_00.tsv to amazon-reviews-eafit\n",
      "amazon_reviews_us_Major_Appliances_v1_00.tsv\n",
      "Uploaded amazon_reviews_us_Major_Appliances_v1_00.tsv to amazon-reviews-eafit\n",
      "amazon_reviews_us_Mobile_Apps_v1_00.tsv\n",
      "Uploaded amazon_reviews_us_Mobile_Apps_v1_00.tsv to amazon-reviews-eafit\n",
      "amazon_reviews_us_Mobile_Electronics_v1_00.tsv\n",
      "Uploaded amazon_reviews_us_Mobile_Electronics_v1_00.tsv to amazon-reviews-eafit\n",
      "amazon_reviews_us_multilingual_v1_00.tsv\n",
      "Uploaded amazon_reviews_us_multilingual_v1_00.tsv to amazon-reviews-eafit\n",
      "amazon_reviews_us_Musical_Instruments_v1_00.tsv\n",
      "Uploaded amazon_reviews_us_Musical_Instruments_v1_00.tsv to amazon-reviews-eafit\n",
      "amazon_reviews_us_Music_v1_00.tsv\n"
     ]
    },
    {
     "name": "stderr",
     "output_type": "stream",
     "text": [
      "/tmp/ipykernel_677047/93790808.py:18: DtypeWarning: Columns (7) have mixed types. Specify dtype option on import or set low_memory=False.\n",
      "  df = pd.read_csv(file_path, sep=\"\\t\", on_bad_lines=\"skip\")\n"
     ]
    },
    {
     "name": "stdout",
     "output_type": "stream",
     "text": [
      "Uploaded amazon_reviews_us_Music_v1_00.tsv to amazon-reviews-eafit\n",
      "amazon_reviews_us_Office_Products_v1_00.tsv\n"
     ]
    },
    {
     "name": "stderr",
     "output_type": "stream",
     "text": [
      "/tmp/ipykernel_677047/93790808.py:18: DtypeWarning: Columns (7) have mixed types. Specify dtype option on import or set low_memory=False.\n",
      "  df = pd.read_csv(file_path, sep=\"\\t\", on_bad_lines=\"skip\")\n"
     ]
    },
    {
     "name": "stdout",
     "output_type": "stream",
     "text": [
      "Uploaded amazon_reviews_us_Office_Products_v1_00.tsv to amazon-reviews-eafit\n",
      "amazon_reviews_us_Outdoors_v1_00.tsv\n"
     ]
    },
    {
     "name": "stderr",
     "output_type": "stream",
     "text": [
      "/tmp/ipykernel_677047/93790808.py:18: DtypeWarning: Columns (7) have mixed types. Specify dtype option on import or set low_memory=False.\n",
      "  df = pd.read_csv(file_path, sep=\"\\t\", on_bad_lines=\"skip\")\n"
     ]
    },
    {
     "name": "stdout",
     "output_type": "stream",
     "text": [
      "Uploaded amazon_reviews_us_Outdoors_v1_00.tsv to amazon-reviews-eafit\n",
      "amazon_reviews_us_PC_v1_00.tsv\n",
      "Uploaded amazon_reviews_us_PC_v1_00.tsv to amazon-reviews-eafit\n",
      "amazon_reviews_us_Personal_Care_Appliances_v1_00.tsv\n",
      "Uploaded amazon_reviews_us_Personal_Care_Appliances_v1_00.tsv to amazon-reviews-eafit\n",
      "amazon_reviews_us_Pet_Products_v1_00.tsv\n",
      "Uploaded amazon_reviews_us_Pet_Products_v1_00.tsv to amazon-reviews-eafit\n",
      "amazon_reviews_us_Shoes_v1_00.tsv\n",
      "Uploaded amazon_reviews_us_Shoes_v1_00.tsv to amazon-reviews-eafit\n",
      "amazon_reviews_us_Software_v1_00.tsv\n",
      "Uploaded amazon_reviews_us_Software_v1_00.tsv to amazon-reviews-eafit\n",
      "amazon_reviews_us_Sports_v1_00.tsv\n"
     ]
    },
    {
     "name": "stderr",
     "output_type": "stream",
     "text": [
      "/tmp/ipykernel_677047/93790808.py:18: DtypeWarning: Columns (7) have mixed types. Specify dtype option on import or set low_memory=False.\n",
      "  df = pd.read_csv(file_path, sep=\"\\t\", on_bad_lines=\"skip\")\n"
     ]
    },
    {
     "name": "stdout",
     "output_type": "stream",
     "text": [
      "Uploaded amazon_reviews_us_Sports_v1_00.tsv to amazon-reviews-eafit\n",
      "amazon_reviews_us_Tools_v1_00.tsv\n"
     ]
    },
    {
     "name": "stderr",
     "output_type": "stream",
     "text": [
      "/tmp/ipykernel_677047/93790808.py:18: DtypeWarning: Columns (7) have mixed types. Specify dtype option on import or set low_memory=False.\n",
      "  df = pd.read_csv(file_path, sep=\"\\t\", on_bad_lines=\"skip\")\n"
     ]
    },
    {
     "name": "stdout",
     "output_type": "stream",
     "text": [
      "Uploaded amazon_reviews_us_Tools_v1_00.tsv to amazon-reviews-eafit\n",
      "amazon_reviews_us_Toys_v1_00.tsv\n",
      "Uploaded amazon_reviews_us_Toys_v1_00.tsv to amazon-reviews-eafit\n",
      "amazon_reviews_us_Video_DVD_v1_00.tsv\n",
      "Uploaded amazon_reviews_us_Video_DVD_v1_00.tsv to amazon-reviews-eafit\n",
      "amazon_reviews_us_Video_Games_v1_00.tsv\n",
      "Uploaded amazon_reviews_us_Video_Games_v1_00.tsv to amazon-reviews-eafit\n",
      "amazon_reviews_us_Video_v1_00.tsv\n",
      "Uploaded amazon_reviews_us_Video_v1_00.tsv to amazon-reviews-eafit\n",
      "amazon_reviews_us_Watches_v1_00.tsv\n",
      "Uploaded amazon_reviews_us_Watches_v1_00.tsv to amazon-reviews-eafit\n",
      "amazon_reviews_us_Wireless_v1_00.tsv\n"
     ]
    },
    {
     "name": "stderr",
     "output_type": "stream",
     "text": [
      "/tmp/ipykernel_677047/93790808.py:18: DtypeWarning: Columns (7) have mixed types. Specify dtype option on import or set low_memory=False.\n",
      "  df = pd.read_csv(file_path, sep=\"\\t\", on_bad_lines=\"skip\")\n"
     ]
    },
    {
     "name": "stdout",
     "output_type": "stream",
     "text": [
      "Uploaded amazon_reviews_us_Wireless_v1_00.tsv to amazon-reviews-eafit\n"
     ]
    }
   ],
   "source": [
    "folder_path = \"/mnt/c/Users/darme/Downloads/archive\"\n",
    "bucket_name = \"amazon-reviews-eafit\"\n",
    "\n",
    "upload_files_to_s3(folder_path, bucket_name)"
   ]
  }
 ],
 "metadata": {
  "kernelspec": {
   "display_name": "proyecto-integrador-semestre-2-3rCuXMn3",
   "language": "python",
   "name": "python3"
  },
  "language_info": {
   "codemirror_mode": {
    "name": "ipython",
    "version": 3
   },
   "file_extension": ".py",
   "mimetype": "text/x-python",
   "name": "python",
   "nbconvert_exporter": "python",
   "pygments_lexer": "ipython3",
   "version": "3.11.5"
  }
 },
 "nbformat": 4,
 "nbformat_minor": 2
}
